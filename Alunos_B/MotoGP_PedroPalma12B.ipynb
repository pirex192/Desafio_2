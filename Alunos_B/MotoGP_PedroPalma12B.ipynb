{
 "cells": [
  {
   "cell_type": "code",
   "execution_count": 1,
   "id": "b803567b-9c05-4557-be08-fc61f56d155f",
   "metadata": {},
   "outputs": [
    {
     "name": "stdout",
     "output_type": "stream",
     "text": [
      "Bem-vindo ao Campeonato MotoGP 2022/2023! Escolha uma das seguintes opções:\n"
     ]
    },
    {
     "name": "stdin",
     "output_type": "stream",
     "text": [
      "1 - Iniciar campeonato\n",
      "2 - Ver resultados das corridas\n",
      "3 - Ver classificação dos pilotos\n",
      "4 - Ver classificação das equipas\n",
      "5 - Sair\n",
      "Escolha uma opção: 2\n"
     ]
    },
    {
     "name": "stdout",
     "output_type": "stream",
     "text": [
      "\n",
      "\n",
      "1 - Voltar para o menu anterior\n"
     ]
    },
    {
     "name": "stdin",
     "output_type": "stream",
     "text": [
      "Escolha que corrida deseja ver: 1\n"
     ]
    },
    {
     "name": "stdout",
     "output_type": "stream",
     "text": [
      "Bem-vindo ao Campeonato MotoGP 2022/2023! Escolha uma das seguintes opções:\n"
     ]
    },
    {
     "name": "stdin",
     "output_type": "stream",
     "text": [
      "1 - Iniciar campeonato\n",
      "2 - Ver resultados das corridas\n",
      "3 - Ver classificação dos pilotos\n",
      "4 - Ver classificação das equipas\n",
      "5 - Sair\n",
      "Escolha uma opção: 1\n",
      "Quantas corridas deseja iniciar simultaneamente? 3\n"
     ]
    },
    {
     "name": "stdout",
     "output_type": "stream",
     "text": [
      "Bem-vindo ao Campeonato MotoGP 2022/2023! Escolha uma das seguintes opções:\n"
     ]
    },
    {
     "name": "stdin",
     "output_type": "stream",
     "text": [
      "1 - Iniciar campeonato\n",
      "2 - Ver resultados das corridas\n",
      "3 - Ver classificação dos pilotos\n",
      "4 - Ver classificação das equipas\n",
      "5 - Sair\n",
      "Escolha uma opção: 2\n"
     ]
    },
    {
     "name": "stdout",
     "output_type": "stream",
     "text": [
      "\n",
      "\n",
      "1 - Termas de Rio Hondo,Argentina,4806\n",
      "2 - Termas de Rio Hondo,Argentina,4806\n",
      "3 - Chang International Circuit,Tailandia,4554\n",
      "4 - Voltar para o menu anterior\n"
     ]
    },
    {
     "name": "stdin",
     "output_type": "stream",
     "text": [
      "Escolha que corrida deseja ver: \n"
     ]
    },
    {
     "name": "stdout",
     "output_type": "stream",
     "text": [
      "Essa opção não é válida. Por favor tente novamente.\n",
      "\n",
      "\n",
      "1 - Termas de Rio Hondo,Argentina,4806\n",
      "2 - Termas de Rio Hondo,Argentina,4806\n",
      "3 - Chang International Circuit,Tailandia,4554\n",
      "4 - Voltar para o menu anterior\n"
     ]
    },
    {
     "name": "stdin",
     "output_type": "stream",
     "text": [
      "Escolha que corrida deseja ver: 4\n"
     ]
    },
    {
     "name": "stdout",
     "output_type": "stream",
     "text": [
      "Bem-vindo ao Campeonato MotoGP 2022/2023! Escolha uma das seguintes opções:\n"
     ]
    },
    {
     "name": "stdin",
     "output_type": "stream",
     "text": [
      "1 - Iniciar campeonato\n",
      "2 - Ver resultados das corridas\n",
      "3 - Ver classificação dos pilotos\n",
      "4 - Ver classificação das equipas\n",
      "5 - Sair\n",
      "Escolha uma opção: 2\n"
     ]
    },
    {
     "name": "stdout",
     "output_type": "stream",
     "text": [
      "\n",
      "\n",
      "1 - Termas de Rio Hondo,Argentina,4806\n",
      "2 - Termas de Rio Hondo,Argentina,4806\n",
      "3 - Chang International Circuit,Tailandia,4554\n",
      "4 - Voltar para o menu anterior\n"
     ]
    },
    {
     "name": "stdin",
     "output_type": "stream",
     "text": [
      "Escolha que corrida deseja ver: 4\n"
     ]
    },
    {
     "name": "stdout",
     "output_type": "stream",
     "text": [
      "Bem-vindo ao Campeonato MotoGP 2022/2023! Escolha uma das seguintes opções:\n"
     ]
    },
    {
     "name": "stdin",
     "output_type": "stream",
     "text": [
      "1 - Iniciar campeonato\n",
      "2 - Ver resultados das corridas\n",
      "3 - Ver classificação dos pilotos\n",
      "4 - Ver classificação das equipas\n",
      "5 - Sair\n",
      "Escolha uma opção: 1\n",
      "Quantas corridas deseja iniciar simultaneamente? 5\n"
     ]
    },
    {
     "name": "stdout",
     "output_type": "stream",
     "text": [
      "Bem-vindo ao Campeonato MotoGP 2022/2023! Escolha uma das seguintes opções:\n"
     ]
    },
    {
     "name": "stdin",
     "output_type": "stream",
     "text": [
      "1 - Iniciar campeonato\n",
      "2 - Ver resultados das corridas\n",
      "3 - Ver classificação dos pilotos\n",
      "4 - Ver classificação das equipas\n",
      "5 - Sair\n",
      "Escolha uma opção: 2\n"
     ]
    },
    {
     "name": "stdout",
     "output_type": "stream",
     "text": [
      "\n",
      "\n",
      "1 - Termas de Rio Hondo,Argentina,4806\n",
      "2 - Termas de Rio Hondo,Argentina,4806\n",
      "3 - Chang International Circuit,Tailandia,4554\n",
      "4 - TT Circuit Assen,Holanda,4542\n",
      "5 - Lusail International Circuit,Qatar,5380\n",
      "6 - Circuit Of The Americas,Estados Unidos da America,5513\n",
      "7 - Phillip Island,Australia,4448\n",
      "8 - Circuit de Barcelona-Catalunya,Espanha,4657\n",
      "9 - Voltar para o menu anterior\n"
     ]
    },
    {
     "name": "stdin",
     "output_type": "stream",
     "text": [
      "Escolha que corrida deseja ver: 9\n"
     ]
    },
    {
     "name": "stdout",
     "output_type": "stream",
     "text": [
      "Bem-vindo ao Campeonato MotoGP 2022/2023! Escolha uma das seguintes opções:\n"
     ]
    },
    {
     "name": "stdin",
     "output_type": "stream",
     "text": [
      "1 - Iniciar campeonato\n",
      "2 - Ver resultados das corridas\n",
      "3 - Ver classificação dos pilotos\n",
      "4 - Ver classificação das equipas\n",
      "5 - Sair\n",
      "Escolha uma opção: 1\n",
      "Quantas corridas deseja iniciar simultaneamente? 10\n"
     ]
    },
    {
     "name": "stdout",
     "output_type": "stream",
     "text": [
      "Bem-vindo ao Campeonato MotoGP 2022/2023! Escolha uma das seguintes opções:\n"
     ]
    },
    {
     "name": "stdin",
     "output_type": "stream",
     "text": [
      "1 - Iniciar campeonato\n",
      "2 - Ver resultados das corridas\n",
      "3 - Ver classificação dos pilotos\n",
      "4 - Ver classificação das equipas\n",
      "5 - Sair\n",
      "Escolha uma opção: 2\n"
     ]
    },
    {
     "name": "stdout",
     "output_type": "stream",
     "text": [
      "\n",
      "\n",
      "1 - Termas de Rio Hondo,Argentina,4806\n",
      "2 - Termas de Rio Hondo,Argentina,4806\n",
      "3 - Chang International Circuit,Tailandia,4554\n",
      "4 - TT Circuit Assen,Holanda,4542\n",
      "5 - Lusail International Circuit,Qatar,5380\n",
      "6 - Circuit Of The Americas,Estados Unidos da America,5513\n",
      "7 - Phillip Island,Australia,4448\n",
      "8 - Circuit de Barcelona-Catalunya,Espanha,4657\n",
      "9 - Misano World Circuit Marco Simoncelli,San Marino,4226\n",
      "10 - Lusail International Circuit,Qatar,5380\n",
      "11 - Autodromo Internacional do Algarve,Portugal,4592\n",
      "12 - Circuit Of The Americas,Estados Unidos da America,5513\n",
      "13 - MotorLand Aragon,Espanha,5077\n",
      "14 - MotorLand Aragon,Espanha,5077\n",
      "15 - Lusail International Circuit,Qatar,5380\n",
      "16 - Chang International Circuit,Tailandia,4554\n",
      "17 - Circuit Ricardo Tormo,Espanha,4005\n",
      "18 - Lusail International Circuit,Qatar,5380\n",
      "19 - Voltar para o menu anterior\n"
     ]
    },
    {
     "name": "stdin",
     "output_type": "stream",
     "text": [
      "Escolha que corrida deseja ver: 19\n"
     ]
    },
    {
     "name": "stdout",
     "output_type": "stream",
     "text": [
      "Bem-vindo ao Campeonato MotoGP 2022/2023! Escolha uma das seguintes opções:\n"
     ]
    },
    {
     "name": "stdin",
     "output_type": "stream",
     "text": [
      "1 - Iniciar campeonato\n",
      "2 - Ver resultados das corridas\n",
      "3 - Ver classificação dos pilotos\n",
      "4 - Ver classificação das equipas\n",
      "5 - Sair\n",
      "Escolha uma opção: 1\n",
      "Quantas corridas deseja iniciar simultaneamente? 10\n"
     ]
    },
    {
     "name": "stdout",
     "output_type": "stream",
     "text": [
      "Não é possível adicionar mais corridas. Atingiu o limite máximo possível.\n"
     ]
    },
    {
     "name": "stdin",
     "output_type": "stream",
     "text": [
      "Quantas corridas deseja iniciar simultaneamente? 2\n"
     ]
    },
    {
     "name": "stdout",
     "output_type": "stream",
     "text": [
      "Bem-vindo ao Campeonato MotoGP 2022/2023! Escolha uma das seguintes opções:\n"
     ]
    },
    {
     "name": "stdin",
     "output_type": "stream",
     "text": [
      "1 - Iniciar campeonato\n",
      "2 - Ver resultados das corridas\n",
      "3 - Ver classificação dos pilotos\n",
      "4 - Ver classificação das equipas\n",
      "5 - Sair\n",
      "Escolha uma opção: 2\n"
     ]
    },
    {
     "name": "stdout",
     "output_type": "stream",
     "text": [
      "\n",
      "\n",
      "1 - Termas de Rio Hondo,Argentina,4806\n",
      "2 - Termas de Rio Hondo,Argentina,4806\n",
      "3 - Chang International Circuit,Tailandia,4554\n",
      "4 - TT Circuit Assen,Holanda,4542\n",
      "5 - Lusail International Circuit,Qatar,5380\n",
      "6 - Circuit Of The Americas,Estados Unidos da America,5513\n",
      "7 - Phillip Island,Australia,4448\n",
      "8 - Circuit de Barcelona-Catalunya,Espanha,4657\n",
      "9 - Misano World Circuit Marco Simoncelli,San Marino,4226\n",
      "10 - Lusail International Circuit,Qatar,5380\n",
      "11 - Autodromo Internacional do Algarve,Portugal,4592\n",
      "12 - Circuit Of The Americas,Estados Unidos da America,5513\n",
      "13 - MotorLand Aragon,Espanha,5077\n",
      "14 - MotorLand Aragon,Espanha,5077\n",
      "15 - Lusail International Circuit,Qatar,5380\n",
      "16 - Chang International Circuit,Tailandia,4554\n",
      "17 - Circuit Ricardo Tormo,Espanha,4005\n",
      "18 - Lusail International Circuit,Qatar,5380\n",
      "19 - Autodromo Internazionale del Mugello,Italia,5245\n",
      "20 - Circuit Of The Americas,Estados Unidos da America,5513\n",
      "21 - Voltar para o menu anterior\n"
     ]
    },
    {
     "name": "stdin",
     "output_type": "stream",
     "text": [
      "Escolha que corrida deseja ver: 21\n"
     ]
    },
    {
     "name": "stdout",
     "output_type": "stream",
     "text": [
      "Bem-vindo ao Campeonato MotoGP 2022/2023! Escolha uma das seguintes opções:\n"
     ]
    },
    {
     "name": "stdin",
     "output_type": "stream",
     "text": [
      "1 - Iniciar campeonato\n",
      "2 - Ver resultados das corridas\n",
      "3 - Ver classificação dos pilotos\n",
      "4 - Ver classificação das equipas\n",
      "5 - Sair\n",
      "Escolha uma opção: 3\n"
     ]
    },
    {
     "name": "stdout",
     "output_type": "stream",
     "text": [
      "\n",
      "\n",
      "╒═══════════════════════╤══════════╕\n",
      "│    Nome do Piloto     │  Pontos  │\n",
      "╞═══════════════════════╪══════════╡\n",
      "│     Marc Marquez      │   135    │\n",
      "├───────────────────────┼──────────┤\n",
      "│     Johann Zarco      │   134    │\n",
      "├───────────────────────┼──────────┤\n",
      "│    Marco Bezzecchi    │   127    │\n",
      "├───────────────────────┼──────────┤\n",
      "│    Enea Bastianini    │   122    │\n",
      "├───────────────────────┼──────────┤\n",
      "│     Cal Crutchlow     │   122    │\n",
      "├───────────────────────┼──────────┤\n",
      "│   Takaaki Nakagami    │   117    │\n",
      "├───────────────────────┼──────────┤\n",
      "│    Aleix Espargaro    │   115    │\n",
      "├───────────────────────┼──────────┤\n",
      "│     Darryn Binder     │   113    │\n",
      "├───────────────────────┼──────────┤\n",
      "│     Michele Pirro     │   107    │\n",
      "├───────────────────────┼──────────┤\n",
      "│     Stefan Bradl      │   105    │\n",
      "├───────────────────────┼──────────┤\n",
      "│   Francesco Bagnaia   │   103    │\n",
      "├───────────────────────┼──────────┤\n",
      "│    Raul Fernandez     │   103    │\n",
      "├───────────────────────┼──────────┤\n",
      "│   Lorenzo Savadori    │   102    │\n",
      "├───────────────────────┼──────────┤\n",
      "│      Jack Miller      │   101    │\n",
      "├───────────────────────┼──────────┤\n",
      "│       Alex Rins       │    97    │\n",
      "├───────────────────────┼──────────┤\n",
      "│       Joan Mir        │    97    │\n",
      "├───────────────────────┼──────────┤\n",
      "│    Danilo Petrucci    │    96    │\n",
      "├───────────────────────┼──────────┤\n",
      "│     Jorge Martin      │    94    │\n",
      "├───────────────────────┼──────────┤\n",
      "│     Pol Espargaro     │    93    │\n",
      "├───────────────────────┼──────────┤\n",
      "│      Luca Marini      │    81    │\n",
      "├───────────────────────┼──────────┤\n",
      "│    Miguel Oliveira    │    79    │\n",
      "├───────────────────────┼──────────┤\n",
      "│   Franco Morbidelli   │    79    │\n",
      "├───────────────────────┼──────────┤\n",
      "│     Remy Gardner      │    71    │\n",
      "├───────────────────────┼──────────┤\n",
      "│   Fabio Quartararo    │    65    │\n",
      "├───────────────────────┼──────────┤\n",
      "│   Tetsuta Nagashima   │    62    │\n",
      "├───────────────────────┼──────────┤\n",
      "│      Brad Binder      │    57    │\n",
      "├───────────────────────┼──────────┤\n",
      "│ Fabio Di Giannantonio │    56    │\n",
      "├───────────────────────┼──────────┤\n",
      "│   Maverick ViÃ±ales   │    43    │\n",
      "├───────────────────────┼──────────┤\n",
      "│     Alex Marquez      │    40    │\n",
      "├───────────────────────┼──────────┤\n",
      "│    Kazuki Watanabe    │    40    │\n",
      "├───────────────────────┼──────────┤\n",
      "│   Andrea Dovizioso    │    24    │\n",
      "╘═══════════════════════╧══════════╛\n",
      "\n",
      "\n",
      "Bem-vindo ao Campeonato MotoGP 2022/2023! Escolha uma das seguintes opções:\n"
     ]
    },
    {
     "name": "stdin",
     "output_type": "stream",
     "text": [
      "1 - Iniciar campeonato\n",
      "2 - Ver resultados das corridas\n",
      "3 - Ver classificação dos pilotos\n",
      "4 - Ver classificação das equipas\n",
      "5 - Sair\n",
      "Escolha uma opção: 4\n"
     ]
    },
    {
     "name": "stdout",
     "output_type": "stream",
     "text": [
      "╒═══════════╤══════════════════════════════╤══════════╕\n",
      "│  Posição  │            Equipa            │  Pontos  │\n",
      "╞═══════════╪══════════════════════════════╪══════════╡\n",
      "│     1     │      Repsol Honda Team       │   333    │\n",
      "├───────────┼──────────────────────────────┼──────────┤\n",
      "│     2     │      Team SUZUKI ECSTAR      │   330    │\n",
      "├───────────┼──────────────────────────────┼──────────┤\n",
      "│     3     │        Aprilia Racing        │   260    │\n",
      "├───────────┼──────────────────────────────┼──────────┤\n",
      "│     4     │ WithU Yamaha RNF MotoGP Team │   259    │\n",
      "├───────────┼──────────────────────────────┼──────────┤\n",
      "│     5     │     Prima Pramac Racing      │   228    │\n",
      "├───────────┼──────────────────────────────┼──────────┤\n",
      "│     6     │   Mooney VR46 Racing Team    │   208    │\n",
      "├───────────┼──────────────────────────────┼──────────┤\n",
      "│     7     │      Ducati Lenovo Team      │   204    │\n",
      "├───────────┼──────────────────────────────┼──────────┤\n",
      "│     8     │      LCR Honda IDEMITSU      │   179    │\n",
      "├───────────┼──────────────────────────────┼──────────┤\n",
      "│     9     │    Gresini Racing MotoGP     │   178    │\n",
      "├───────────┼──────────────────────────────┼──────────┤\n",
      "│    10     │   Tech3 KTM Factory Racing   │   174    │\n",
      "├───────────┼──────────────────────────────┼──────────┤\n",
      "│    11     │ Monster Energy Yamaha MotoGP │   144    │\n",
      "├───────────┼──────────────────────────────┼──────────┤\n",
      "│    12     │ Red Bull KTM Factory Racing  │   136    │\n",
      "├───────────┼──────────────────────────────┼──────────┤\n",
      "│    13     │       Aruba.it Racing        │   107    │\n",
      "├───────────┼──────────────────────────────┼──────────┤\n",
      "│    14     │      LCR Honda CASTROL       │    40    │\n",
      "╘═══════════╧══════════════════════════════╧══════════╛\n",
      "Bem-vindo ao Campeonato MotoGP 2022/2023! Escolha uma das seguintes opções:\n"
     ]
    },
    {
     "name": "stdin",
     "output_type": "stream",
     "text": [
      "1 - Iniciar campeonato\n",
      "2 - Ver resultados das corridas\n",
      "3 - Ver classificação dos pilotos\n",
      "4 - Ver classificação das equipas\n",
      "5 - Sair\n",
      "Escolha uma opção: 5\n"
     ]
    },
    {
     "ename": "SystemExit",
     "evalue": "",
     "output_type": "error",
     "traceback": [
      "An exception has occurred, use %tb to see the full traceback.\n",
      "\u001b[1;31mSystemExit\u001b[0m\n"
     ]
    },
    {
     "name": "stderr",
     "output_type": "stream",
     "text": [
      "C:\\ProgramData\\Anaconda3\\lib\\site-packages\\IPython\\core\\interactiveshell.py:3465: UserWarning: To exit: use 'exit', 'quit', or Ctrl-D.\n",
      "  warn(\"To exit: use 'exit', 'quit', or Ctrl-D.\", stacklevel=1)\n"
     ]
    }
   ],
   "source": [
    "#Imports\n",
    "import random\n",
    "from tabulate import tabulate\n",
    "import sys\n",
    "\n",
    "#Ficheiros e Pontos\n",
    "pilotos = open(\"Pilotos_2022.txt\", \"r\").read().splitlines()\n",
    "circuitos = open(\"Circuito_2022.txt\", \"r\").read().splitlines()\n",
    "points = [25, 20, 15, 13, 11, 10, 9, 8, 7, 6, 5, 4, 3, 2, 1]\n",
    "\n",
    "#Class do Campeonato\n",
    "class Campeonato:\n",
    "    def __init__(self):\n",
    "        self.pilotos = pilotos\n",
    "        self.circuitos = circuitos\n",
    "        self.posicoes_piloto = {piloto.split(',')[1]: 0 for piloto in pilotos}\n",
    "        self.posicoes_equipa = {piloto.split(',')[3]: 0 for piloto in pilotos}\n",
    "        self.corridas = []\n",
    "\n",
    "    def iniciar_corridas(self, quantidade_de_corridas):\n",
    "        for _ in range(quantidade_de_corridas):\n",
    "            circuito = random.choice(self.circuitos)\n",
    "            posicoes_do_piloto = random.sample(self.pilotos, len(self.pilotos))\n",
    "            for i, piloto in enumerate(posicoes_do_piloto):\n",
    "                if i < len(points):\n",
    "                    self.posicoes_piloto[piloto.split(',')[1]] += points[i]\n",
    "                    self.posicoes_equipa[piloto.split(',')[3]] += points[i]\n",
    "            self.corridas.append([circuito, posicoes_do_piloto])\n",
    "        self.main_menu()\n",
    "        \n",
    "#Menu Principal\n",
    "    def main_menu(self):\n",
    "        print (\"Bem-vindo ao Campeonato MotoGP 2022/2023! Escolha uma das seguintes opções:\")\n",
    "        choice = input(\"1 - Iniciar campeonato\\n2 - Ver resultados das corridas\\n3 - Ver classificação dos pilotos\\n4 - Ver classificação das equipas\\n5 - Sair\\nEscolha uma opção:\")\n",
    "        if choice == \"1\":\n",
    "            while True:\n",
    "                try:\n",
    "                    quantidade_de_corridas = int(input(\"Quantas corridas deseja iniciar simultaneamente?\"))\n",
    "                except:\n",
    "                    print(\"Essa opção não é válida. Por favor tente novamente.\")\n",
    "                if len(self.corridas) + quantidade_de_corridas <= 20:\n",
    "                    self.iniciar_corridas (quantidade_de_corridas)\n",
    "                else:\n",
    "                    print(\"Não é possível adicionar mais corridas. Atingiu o limite máximo possível.\")\n",
    "        elif choice == \"2\":\n",
    "            self.ver_resultados_corridas()\n",
    "        elif choice == \"3\":\n",
    "            self.ver_resultados_pilotos()\n",
    "        elif choice == \"4\":\n",
    "            self.ver_resultados_equipa()\n",
    "        elif choice == \"5\":\n",
    "            sys.exit()\n",
    "        else:\n",
    "            print(\"Essa opção não é válida. Por favor tente novamente.\")\n",
    "            self.main_menu()\n",
    "            \n",
    "    def ver_pilotos(self):\n",
    "        piloto_attributes = [piloto.split(',') for piloto in self.pilotos]\n",
    "        headers = [\"Número\", \"Nome\", \"Nacionalidade\", \"Equipa\", \"Mota\"]\n",
    "        print(tabulate(piloto_attributes, headers=headers, tablefmt=\"fancy_grid\", stralign=\"center\", numalign=\"center\"))\n",
    "        print(\"\\n\")\n",
    "        self.main_menu()\n",
    "        \n",
    "    def ver_resultados_corridas(self):\n",
    "        print(\"\\n\")\n",
    "        for i, race in enumerate(self.corridas, start=1):\n",
    "            print(f\"{i} - {race[0]}\")\n",
    "        print(f\"{len(self.corridas)+1} - Voltar para o menu anterior\")\n",
    "        choice = input(\"Escolha que corrida deseja ver:\")\n",
    "        if choice.isnumeric() and int(choice) <= len(self.corridas) and int(choice) > 0:\n",
    "            formatted_results = [[i+1] + piloto.split(',') for i, piloto in enumerate(self.corridas[int(choice) - 1][1])]\n",
    "            print(tabulate(formatted_results, headers = [\"Posição\", \"Número\", \"Nome\", \"Nacionalidade\", \"Equipa\", \"Mota\"], tablefmt=\"fancy_grid\", stralign=\"center\", numalign=\"center\"))\n",
    "            self.main_menu()\n",
    "        elif choice == str(len(self.corridas)+1):\n",
    "            self.main_menu()\n",
    "        else:\n",
    "            print(\"Essa opção não é válida. Por favor tente novamente.\")\n",
    "            self.ver_resultados_corridas()\n",
    "        \n",
    "    def ver_resultados_pilotos(self):\n",
    "        print(\"\\n\")\n",
    "        sorted_pilotos = sorted(self.posicoes_piloto.items(), key=lambda x: x[1], reverse=True)\n",
    "        headers = [\"Nome do Piloto\", \"Pontos\"]\n",
    "        print(tabulate(sorted_pilotos, headers=headers, tablefmt=\"fancy_grid\", stralign=\"center\", numalign=\"center\"))\n",
    "        print(\"\\n\")\n",
    "        self.main_menu()\n",
    "\n",
    "    def ver_resultados_equipa(self):\n",
    "        posicoes_equipa_items = sorted(self.posicoes_equipa.items(), key=lambda x: x[1], reverse=True)\n",
    "        formatted_standings = [[i+1] + list(item) for i, item in enumerate(posicoes_equipa_items)]\n",
    "        print(tabulate(formatted_standings, headers = [\"Posição\", \"Equipa\", \"Pontos\"], tablefmt=\"fancy_grid\", stralign=\"center\", numalign=\"center\"))\n",
    "        self.main_menu()\n",
    "        \n",
    "if __name__ == \"__main__\":\n",
    "    campeonato = Campeonato()\n",
    "    campeonato.main_menu()\n",
    "\n",
    "                                                    #Trabalho realizado por Pedro Palma 12ºB"
   ]
  },
  {
   "cell_type": "code",
   "execution_count": null,
   "id": "2bcd9e4d-0e4a-4250-a12c-aaee343e3684",
   "metadata": {},
   "outputs": [],
   "source": []
  }
 ],
 "metadata": {
  "kernelspec": {
   "display_name": "Python 3 (ipykernel)",
   "language": "python",
   "name": "python3"
  },
  "language_info": {
   "codemirror_mode": {
    "name": "ipython",
    "version": 3
   },
   "file_extension": ".py",
   "mimetype": "text/x-python",
   "name": "python",
   "nbconvert_exporter": "python",
   "pygments_lexer": "ipython3",
   "version": "3.9.13"
  }
 },
 "nbformat": 4,
 "nbformat_minor": 5
}
