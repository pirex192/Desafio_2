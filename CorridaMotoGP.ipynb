{
 "cells": [
  {
   "cell_type": "code",
   "execution_count": null,
   "id": "2efd00d0-cd1a-4eca-ae62-3df2409ebcde",
   "metadata": {},
   "outputs": [],
   "source": [
    "import random\n",
    "\n",
    "fonte = open(\"../../jupyter/Desafio_2/Pilotos_2022.txt\",'r')\n",
    "pilotos = []\n",
    "vencedores = []\n",
    "corrida = []\n",
    "total = 0\n",
    "gd_premio = ['Portugal', 'Monaco', 'Itália', 'França', 'Espanha', 'Argentine', 'México', 'Holanda', 'Inglaterra', 'Alemanha']\n",
    "i=0\n",
    "z=0\n",
    "y=0\n",
    "j=0\n",
    "for x in fonte:\n",
    "#    numero, pais, piloto = linha.strip().split(',')\n",
    "    piloto = x.strip().split(',')\n",
    "    pilotos.append(piloto)\n",
    "fonte.close()\n",
    "#print(pilotos)\n",
    "for x in gd_premio:\n",
    "    \n",
    "    for z in pilotos:\n",
    "        rand_piloto = random.choice(pilotos)\n",
    "        pilotos.remove(rand_piloto)\n",
    "        corrida.append(i+1)\n",
    "        corrida.append(rand_piloto)\n",
    "        i+=1\n",
    "        corrida.append(x)\n",
    "#    j+=1\n",
    "    print(corrida)\n",
    "'''        for piloto in corrida:\n",
    "            corrida[j][0] = j+1\n",
    "            corrida[j][1] = gd_premio[y]'''\n",
    "#        total += corrida[j][0]\n",
    "\n",
    "#    y = y+1\n"
   ]
  },
  {
   "cell_type": "code",
   "execution_count": 5,
   "id": "81055bfa-7fed-4e31-86d1-3d9c22028359",
   "metadata": {},
   "outputs": [
    {
     "name": "stdout",
     "output_type": "stream",
     "text": [
      "[['Bélgica', [['88', 'Miguel Oliveira', 'Portugal'], ['34', 'Aleix Espargaro', 'Espanha'], ['16', 'Francesco Bagnaia', 'Itália']]], ['França', [['16', 'Francesco Bagnaia', 'Itália'], ['88', 'Miguel Oliveira', 'Portugal'], ['34', 'Aleix Espargaro', 'Espanha']]], ['Japão', [['34', 'Aleix Espargaro', 'Espanha'], ['16', 'Francesco Bagnaia', 'Itália'], ['88', 'Miguel Oliveira', 'Portugal']]], ['Malásia', [['88', 'Miguel Oliveira', 'Portugal'], ['34', 'Aleix Espargaro', 'Espanha'], ['16', 'Francesco Bagnaia', 'Itália']]]]\n",
      "\n",
      "Miguel Oliveira\n"
     ]
    }
   ],
   "source": [
    "import random\n",
    "pilotos = [ ['88', 'Miguel Oliveira', 'Portugal'], ['16', 'Francesco Bagnaia', 'Itália'], ['34', 'Aleix Espargaro', 'Espanha'] ]\n",
    "gd_premios = [ 'Bélgica', 'França', 'Japão', 'Malásia' ]\n",
    "\n",
    "resultados = []\n",
    "ordem = []\n",
    "#replica = []\n",
    "\n",
    "for gp in gd_premios:\n",
    "    replica = list(pilotos)\n",
    "    ordem = []\n",
    "    while replica:\n",
    "        piloto = random.choice(replica)\n",
    "        replica.remove(piloto)\n",
    "        ordem.append(piloto)\n",
    "    resultados.append( [gp, ordem ] )\n",
    "print(resultados)\n",
    "print('\\n' + resultados[0][1][0][1])\n"
   ]
  },
  {
   "cell_type": "code",
   "execution_count": 6,
   "id": "92dbc9d3-ca2c-4357-910d-bc6884e7f1a5",
   "metadata": {},
   "outputs": [
    {
     "name": "stdout",
     "output_type": "stream",
     "text": [
      "[['Bélgica', ['Aleix Espargaro', 'Francesco Bagnaia', 'Miguel Oliveira']], ['França', ['Miguel Oliveira', 'Francesco Bagnaia', 'Aleix Espargaro']], ['Japão', ['Aleix Espargaro', 'Miguel Oliveira', 'Francesco Bagnaia']], ['Malásia', ['Aleix Espargaro', 'Miguel Oliveira', 'Francesco Bagnaia']]]\n",
      "\n",
      "Aleix Espargaro\n"
     ]
    }
   ],
   "source": [
    "import random\n",
    "pilotos = {\n",
    "    'Miguel Oliveira' : ['88', 'Portugal'], \n",
    "    'Francesco Bagnaia' : ['16', 'Itália'], \n",
    "    'Aleix Espargaro' : ['34', 'Espanha'] \n",
    "}\n",
    "gd_premios = [ 'Bélgica', 'França', 'Japão', 'Malásia' ]\n",
    "\n",
    "resultados = []\n",
    "ordem = []\n",
    "\n",
    "for gp in gd_premios:\n",
    "    replica = list(pilotos)\n",
    "    ordem = []\n",
    "    while replica:\n",
    "        piloto = random.choice(replica)\n",
    "        replica.remove(piloto)\n",
    "        ordem.append(piloto)\n",
    "    resultados.append([gp, ordem])\n",
    "#    resultados.append(ordem)\n",
    "print(resultados)\n",
    "print('\\n' + resultados[0][1][0])\n"
   ]
  },
  {
   "cell_type": "code",
   "execution_count": null,
   "id": "f584176c-5955-4825-bd80-dfb839b63679",
   "metadata": {},
   "outputs": [],
   "source": [
    "import random\n",
    "\n",
    "fonte_pilotos = open(\"../../jupyter/Desafio_2/Pilotos_2022.txt\",'r')\n",
    "fonte_circuitos = open(\"../../jupyter/Desafio_2/Circuito_2022.txt\",'r')\n",
    "fonte_pontos = open(\"../../jupyter/Desafio_2/Pontos_2022.txt\",'r')\n",
    "\n",
    "pilotos = {}\n",
    "circuitos = {}\n",
    "pontos = {}\n",
    "\n",
    "#gd_premios = [ 'Bélgica', 'França', 'Japão', 'Malásia' ]\n",
    "for x in fonte_pilotos:\n",
    "#for linha in fonte:\n",
    "#    numero, pais, piloto = linha.strip().split(',')\n",
    "    piloto = x.strip().split(',')\n",
    "    pilotos[piloto[1]] = [piloto[0], piloto[2], piloto[3], piloto[4]]\n",
    "#print(pilotos)\n",
    "fonte_pilotos.close()\n",
    "\n",
    "for c in fonte_circuitos:\n",
    "#for linha in fonte:\n",
    "#    numero, pais, piloto = linha.strip().split(',')\n",
    "    circuito = c.strip().split(',')\n",
    "    circuitos[circuito[0]] = [circuito[1], circuito[2]]\n",
    "#print(pilotos)\n",
    "fonte_circuitos.close()\n",
    "\n",
    "for p in fonte_pontos:\n",
    "#for linha in fonte:\n",
    "#    numero, pais, piloto = linha.strip().split(',')\n",
    "    ponto = p.strip().split(',')\n",
    "    pontos[ponto[0]] = ponto[1]\n",
    "#print(pilotos)\n",
    "fonte_pontos.close()\n",
    "'''\n",
    "resultados = {}\n",
    "classificacao = []\n",
    "\n",
    "for gp in circuitos:\n",
    "    replica = list(pilotos)\n",
    "    ordem = []\n",
    "    while replica:\n",
    "        piloto = random.choice(replica)\n",
    "        replica.remove(piloto)\n",
    "        classificacao.append(piloto)\n",
    "    resultados[gp] =  classificacao\n",
    "#    resultados.append(ordem)\n",
    "print(resultados)\n",
    "#print('\\n' + resultados.get('Bélgica')[0])\n",
    "'''\n",
    "print(circuitos)\n",
    "print(pilotos)\n",
    "print(pontos)"
   ]
  },
  {
   "cell_type": "code",
   "execution_count": null,
   "id": "c7f6a9d4-ee93-4de3-8612-a700e6ed58e1",
   "metadata": {},
   "outputs": [],
   "source": []
  }
 ],
 "metadata": {
  "kernelspec": {
   "display_name": "Python 3 (ipykernel)",
   "language": "python",
   "name": "python3"
  },
  "language_info": {
   "codemirror_mode": {
    "name": "ipython",
    "version": 3
   },
   "file_extension": ".py",
   "mimetype": "text/x-python",
   "name": "python",
   "nbconvert_exporter": "python",
   "pygments_lexer": "ipython3",
   "version": "3.9.13"
  }
 },
 "nbformat": 4,
 "nbformat_minor": 5
}
