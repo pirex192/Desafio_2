{
 "cells": [
  {
   "cell_type": "code",
   "execution_count": null,
   "id": "67b32330-4d48-48ef-b751-15b56d573eba",
   "metadata": {},
   "outputs": [
    {
     "name": "stdout",
     "output_type": "stream",
     "text": [
      "1 Pilotos\n",
      "2 GrandePremio\n",
      "3 Campeonato\n",
      "4 done\n"
     ]
    }
   ],
   "source": [
    "\"\"\"\n",
    "1. Add a menu to a console application to manage activities.\n",
    "2. Run a selected function.\n",
    "3. Clear the output\n",
    "4. Display the menu again or exit if done is selected\n",
    "\"\"\"\n",
    "\n",
    "import sys\n",
    "from os import system\n",
    "\n",
    "\n",
    "def display_menu(menu):\n",
    "    \"\"\"\n",
    "    Display a menu where the key identifies the name of a function.\n",
    "    :param menu: dictionary, key identifies a value which is a function name\n",
    "    :return:\n",
    "    \"\"\"\n",
    "    for k, function in menu.items():\n",
    "        print(k, function.__name__)\n",
    "\n",
    "\n",
    "def Pilotos():\n",
    "    print(\"you have selected menu option Pilotos\") # Simulate function output.\n",
    "    input(\"Press Enter to Continue\\n\")\n",
    "    system('cls')  # clears stdout\n",
    "\n",
    "\n",
    "def GrandePremio():\n",
    "    print(\"you have selected menu option GrandePremio\") # Simulate function output.\n",
    "    input(\"Press Enter to Continue\\n\")\n",
    "    system('cls')  # clears stdout\n",
    "\n",
    "\n",
    "def Campeonato():\n",
    "    print(\"you have selected menu option Campeonato\") # Simulate function output.\n",
    "    input(\"Press Enter to Continue\\n\")\n",
    "    system('cls')  # clears stdout\n",
    "\n",
    "\n",
    "def done():\n",
    "    system('cls')  # clears stdout\n",
    "    print(\"Goodbye\")\n",
    "    sys.exit()\n",
    "\n",
    "def Menu():\n",
    "    # Create a menu dictionary where the key is an integer number and the\n",
    "    # value is a function name.\n",
    "    functions_names = [Pilotos, GrandePremio, Campeonato, done]\n",
    "    menu_items = dict(enumerate(functions_names, start=1))\n",
    "\n",
    "    while True:\n",
    "        display_menu(menu_items)\n",
    "        selection = int(\n",
    "            input(\"Please enter your selection number: \"))  # Get function key\n",
    "        selected_value = menu_items[selection]  # Gets the function name\n",
    "        selected_value()  # add parentheses to call the function\n",
    "\n",
    "\n",
    "#if __name__ == \"__main__\":\n",
    "Menu()"
   ]
  }
 ],
 "metadata": {
  "kernelspec": {
   "display_name": "Python 3 (ipykernel)",
   "language": "python",
   "name": "python3"
  },
  "language_info": {
   "codemirror_mode": {
    "name": "ipython",
    "version": 3
   },
   "file_extension": ".py",
   "mimetype": "text/x-python",
   "name": "python",
   "nbconvert_exporter": "python",
   "pygments_lexer": "ipython3",
   "version": "3.9.13"
  }
 },
 "nbformat": 4,
 "nbformat_minor": 5
}
