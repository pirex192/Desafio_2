{
 "cells": [
  {
   "cell_type": "code",
   "execution_count": 13,
   "id": "f584176c-5955-4825-bd80-dfb839b63679",
   "metadata": {},
   "outputs": [
    {
     "name": "stdout",
     "output_type": "stream",
     "text": [
      "{'Circuit Ricardo Tormo': [['Fabio Quartararo', 25], ['Raul Fernandez', 20], ['Franco Morbidelli', 16], ['Francesco Bagnaia', 13], ['Luca Marini', 11], ['Alex Rins', 10], ['Andrea Dovizioso', 9], ['Maverick ViÃ±ales', 8], ['Stefan Bradl', 7], ['Danilo Petrucci', 6], ['Joan Mir', 5], ['Cal Crutchlow', 4], ['Marco Bezzecchi', 3], ['Jack Miller', 2], ['Michele Pirro', 1], ['Jorge Martin', 0], ['Aleix Espargaro', 0], ['Miguel Oliveira', 0], ['Remy Gardner', 0], ['Pol Espargaro', 0], ['Fabio Di Giannantonio', 0], ['Brad Binder', 0], ['Alex Marquez', 0], ['Lorenzo Savadori', 0], ['Johann Zarco', 0], ['Tetsuta Nagashima', 0], ['Kazuki Watanabe', 0], ['Takaaki Nakagami', 0], ['Enea Bastianini', 0], ['Marc Marquez', 0], ['Darryn Binder', 0]], 'Sepang International Circuit': [['Darryn Binder', 25], ['Tetsuta Nagashima', 20], ['Marco Bezzecchi', 16], ['Remy Gardner', 13], ['Marc Marquez', 11], ['Miguel Oliveira', 10], ['Lorenzo Savadori', 9], ['Pol Espargaro', 8], ['Fabio Di Giannantonio', 7], ['Brad Binder', 6], ['Fabio Quartararo', 5], ['Aleix Espargaro', 4], ['Stefan Bradl', 3], ['Andrea Dovizioso', 2], ['Michele Pirro', 1], ['Luca Marini', 0], ['Takaaki Nakagami', 0], ['Enea Bastianini', 0], ['Raul Fernandez', 0], ['Cal Crutchlow', 0], ['Jorge Martin', 0], ['Alex Rins', 0], ['Franco Morbidelli', 0], ['Danilo Petrucci', 0], ['Johann Zarco', 0], ['Jack Miller', 0], ['Alex Marquez', 0], ['Maverick ViÃ±ales', 0], ['Francesco Bagnaia', 0], ['Kazuki Watanabe', 0], ['Joan Mir', 0]], 'Phillip Island': [['Pol Espargaro', 25], ['Cal Crutchlow', 20], ['Miguel Oliveira', 16], ['Marco Bezzecchi', 13], ['Alex Rins', 11], ['Enea Bastianini', 10], ['Darryn Binder', 9], ['Andrea Dovizioso', 8], ['Michele Pirro', 7], ['Fabio Quartararo', 6], ['Jorge Martin', 5], ['Brad Binder', 4], ['Aleix Espargaro', 3], ['Jack Miller', 2], ['Remy Gardner', 1], ['Danilo Petrucci', 0], ['Maverick ViÃ±ales', 0], ['Tetsuta Nagashima', 0], ['Takaaki Nakagami', 0], ['Raul Fernandez', 0], ['Johann Zarco', 0], ['Lorenzo Savadori', 0], ['Stefan Bradl', 0], ['Joan Mir', 0], ['Fabio Di Giannantonio', 0], ['Marc Marquez', 0], ['Franco Morbidelli', 0], ['Kazuki Watanabe', 0], ['Luca Marini', 0], ['Francesco Bagnaia', 0], ['Alex Marquez', 0]], 'Chang International Circuit': [['Maverick ViÃ±ales', 25], ['Fabio Quartararo', 20], ['Jack Miller', 16], ['Aleix Espargaro', 13], ['Darryn Binder', 11], ['Franco Morbidelli', 10], ['Joan Mir', 9], ['Cal Crutchlow', 8], ['Alex Rins', 7], ['Luca Marini', 6], ['Michele Pirro', 5], ['Brad Binder', 4], ['Miguel Oliveira', 3], ['Francesco Bagnaia', 2], ['Alex Marquez', 1], ['Danilo Petrucci', 0], ['Kazuki Watanabe', 0], ['Stefan Bradl', 0], ['Tetsuta Nagashima', 0], ['Andrea Dovizioso', 0], ['Jorge Martin', 0], ['Takaaki Nakagami', 0], ['Enea Bastianini', 0], ['Marco Bezzecchi', 0], ['Pol Espargaro', 0], ['Johann Zarco', 0], ['Lorenzo Savadori', 0], ['Marc Marquez', 0], ['Raul Fernandez', 0], ['Remy Gardner', 0], ['Fabio Di Giannantonio', 0]], 'Mobility Resort Motegi': [['Maverick ViÃ±ales', 25], ['Stefan Bradl', 20], ['Franco Morbidelli', 16], ['Marc Marquez', 13], ['Tetsuta Nagashima', 11], ['Fabio Quartararo', 10], ['Andrea Dovizioso', 9], ['Raul Fernandez', 8], ['Enea Bastianini', 7], ['Cal Crutchlow', 6], ['Marco Bezzecchi', 5], ['Johann Zarco', 4], ['Fabio Di Giannantonio', 3], ['Takaaki Nakagami', 2], ['Joan Mir', 1], ['Miguel Oliveira', 0], ['Francesco Bagnaia', 0], ['Lorenzo Savadori', 0], ['Jorge Martin', 0], ['Darryn Binder', 0], ['Remy Gardner', 0], ['Kazuki Watanabe', 0], ['Brad Binder', 0], ['Pol Espargaro', 0], ['Jack Miller', 0], ['Alex Rins', 0], ['Michele Pirro', 0], ['Luca Marini', 0], ['Alex Marquez', 0], ['Danilo Petrucci', 0], ['Aleix Espargaro', 0]], 'MotorLand Aragon': [['Enea Bastianini', 25], ['Cal Crutchlow', 20], ['Tetsuta Nagashima', 16], ['Takaaki Nakagami', 13], ['Jorge Martin', 11], ['Michele Pirro', 10], ['Danilo Petrucci', 9], ['Marco Bezzecchi', 8], ['Aleix Espargaro', 7], ['Francesco Bagnaia', 6], ['Maverick ViÃ±ales', 5], ['Miguel Oliveira', 4], ['Jack Miller', 3], ['Stefan Bradl', 2], ['Kazuki Watanabe', 1], ['Fabio Quartararo', 0], ['Johann Zarco', 0], ['Remy Gardner', 0], ['Alex Marquez', 0], ['Darryn Binder', 0], ['Franco Morbidelli', 0], ['Raul Fernandez', 0], ['Lorenzo Savadori', 0], ['Luca Marini', 0], ['Brad Binder', 0], ['Pol Espargaro', 0], ['Fabio Di Giannantonio', 0], ['Joan Mir', 0], ['Alex Rins', 0], ['Andrea Dovizioso', 0], ['Marc Marquez', 0]], 'Misano World Circuit Marco Simoncelli': [['Luca Marini', 25], ['Raul Fernandez', 20], ['Michele Pirro', 16], ['Marco Bezzecchi', 13], ['Andrea Dovizioso', 11], ['Takaaki Nakagami', 10], ['Jorge Martin', 9], ['Johann Zarco', 8], ['Francesco Bagnaia', 7], ['Aleix Espargaro', 6], ['Remy Gardner', 5], ['Cal Crutchlow', 4], ['Alex Rins', 3], ['Fabio Quartararo', 2], ['Darryn Binder', 1], ['Pol Espargaro', 0], ['Maverick ViÃ±ales', 0], ['Franco Morbidelli', 0], ['Kazuki Watanabe', 0], ['Alex Marquez', 0], ['Stefan Bradl', 0], ['Tetsuta Nagashima', 0], ['Lorenzo Savadori', 0], ['Jack Miller', 0], ['Miguel Oliveira', 0], ['Fabio Di Giannantonio', 0], ['Danilo Petrucci', 0], ['Joan Mir', 0], ['Marc Marquez', 0], ['Brad Binder', 0], ['Enea Bastianini', 0]], 'Red Bull Ring - Spielberg': [['Alex Marquez', 25], ['Aleix Espargaro', 20], ['Pol Espargaro', 16], ['Enea Bastianini', 13], ['Miguel Oliveira', 11], ['Cal Crutchlow', 10], ['Marc Marquez', 9], ['Tetsuta Nagashima', 8], ['Takaaki Nakagami', 7], ['Lorenzo Savadori', 6], ['Marco Bezzecchi', 5], ['Andrea Dovizioso', 4], ['Raul Fernandez', 3], ['Joan Mir', 2], ['Alex Rins', 1], ['Fabio Quartararo', 0], ['Danilo Petrucci', 0], ['Michele Pirro', 0], ['Stefan Bradl', 0], ['Maverick ViÃ±ales', 0], ['Jack Miller', 0], ['Kazuki Watanabe', 0], ['Jorge Martin', 0], ['Fabio Di Giannantonio', 0], ['Luca Marini', 0], ['Franco Morbidelli', 0], ['Francesco Bagnaia', 0], ['Darryn Binder', 0], ['Johann Zarco', 0], ['Remy Gardner', 0], ['Brad Binder', 0]], 'Silverstone Circuit': [['Franco Morbidelli', 25], ['Fabio Di Giannantonio', 20], ['Maverick ViÃ±ales', 16], ['Michele Pirro', 13], ['Takaaki Nakagami', 11], ['Fabio Quartararo', 10], ['Alex Rins', 9], ['Francesco Bagnaia', 8], ['Stefan Bradl', 7], ['Kazuki Watanabe', 6], ['Pol Espargaro', 5], ['Jack Miller', 4], ['Alex Marquez', 3], ['Miguel Oliveira', 2], ['Andrea Dovizioso', 1], ['Raul Fernandez', 0], ['Luca Marini', 0], ['Enea Bastianini', 0], ['Lorenzo Savadori', 0], ['Jorge Martin', 0], ['Joan Mir', 0], ['Aleix Espargaro', 0], ['Darryn Binder', 0], ['Danilo Petrucci', 0], ['Remy Gardner', 0], ['Cal Crutchlow', 0], ['Marco Bezzecchi', 0], ['Johann Zarco', 0], ['Marc Marquez', 0], ['Brad Binder', 0], ['Tetsuta Nagashima', 0]], 'TT Circuit Assen': [['Jorge Martin', 25], ['Darryn Binder', 20], ['Pol Espargaro', 16], ['Marc Marquez', 13], ['Francesco Bagnaia', 11], ['Alex Rins', 10], ['Maverick ViÃ±ales', 9], ['Remy Gardner', 8], ['Takaaki Nakagami', 7], ['Marco Bezzecchi', 6], ['Cal Crutchlow', 5], ['Raul Fernandez', 4], ['Andrea Dovizioso', 3], ['Miguel Oliveira', 2], ['Stefan Bradl', 1], ['Lorenzo Savadori', 0], ['Kazuki Watanabe', 0], ['Jack Miller', 0], ['Franco Morbidelli', 0], ['Brad Binder', 0], ['Joan Mir', 0], ['Fabio Di Giannantonio', 0], ['Luca Marini', 0], ['Aleix Espargaro', 0], ['Johann Zarco', 0], ['Alex Marquez', 0], ['Tetsuta Nagashima', 0], ['Danilo Petrucci', 0], ['Fabio Quartararo', 0], ['Enea Bastianini', 0], ['Michele Pirro', 0]], 'Sachsenring': [['Miguel Oliveira', 25], ['Andrea Dovizioso', 20], ['Maverick ViÃ±ales', 16], ['Remy Gardner', 13], ['Lorenzo Savadori', 11], ['Danilo Petrucci', 10], ['Cal Crutchlow', 9], ['Marco Bezzecchi', 8], ['Francesco Bagnaia', 7], ['Aleix Espargaro', 6], ['Joan Mir', 5], ['Raul Fernandez', 4], ['Pol Espargaro', 3], ['Franco Morbidelli', 2], ['Takaaki Nakagami', 1], ['Jack Miller', 0], ['Brad Binder', 0], ['Alex Marquez', 0], ['Michele Pirro', 0], ['Enea Bastianini', 0], ['Kazuki Watanabe', 0], ['Jorge Martin', 0], ['Darryn Binder', 0], ['Fabio Quartararo', 0], ['Johann Zarco', 0], ['Fabio Di Giannantonio', 0], ['Tetsuta Nagashima', 0], ['Marc Marquez', 0], ['Stefan Bradl', 0], ['Luca Marini', 0], ['Alex Rins', 0]], 'Circuit de Barcelona-Catalunya': [['Raul Fernandez', 25], ['Fabio Di Giannantonio', 20], ['Fabio Quartararo', 16], ['Stefan Bradl', 13], ['Takaaki Nakagami', 11], ['Tetsuta Nagashima', 10], ['Pol Espargaro', 9], ['Jorge Martin', 8], ['Aleix Espargaro', 7], ['Darryn Binder', 6], ['Maverick ViÃ±ales', 5], ['Francesco Bagnaia', 4], ['Kazuki Watanabe', 3], ['Lorenzo Savadori', 2], ['Michele Pirro', 1], ['Luca Marini', 0], ['Cal Crutchlow', 0], ['Marco Bezzecchi', 0], ['Jack Miller', 0], ['Johann Zarco', 0], ['Brad Binder', 0], ['Franco Morbidelli', 0], ['Alex Marquez', 0], ['Andrea Dovizioso', 0], ['Danilo Petrucci', 0], ['Miguel Oliveira', 0], ['Joan Mir', 0], ['Enea Bastianini', 0], ['Remy Gardner', 0], ['Alex Rins', 0], ['Marc Marquez', 0]], 'Autodromo Internazionale del Mugello': [['Marco Bezzecchi', 25], ['Jorge Martin', 20], ['Marc Marquez', 16], ['Remy Gardner', 13], ['Fabio Di Giannantonio', 11], ['Jack Miller', 10], ['Franco Morbidelli', 9], ['Danilo Petrucci', 8], ['Raul Fernandez', 7], ['Lorenzo Savadori', 6], ['Fabio Quartararo', 5], ['Darryn Binder', 4], ['Johann Zarco', 3], ['Alex Rins', 2], ['Luca Marini', 1], ['Joan Mir', 0], ['Miguel Oliveira', 0], ['Pol Espargaro', 0], ['Andrea Dovizioso', 0], ['Cal Crutchlow', 0], ['Takaaki Nakagami', 0], ['Francesco Bagnaia', 0], ['Brad Binder', 0], ['Maverick ViÃ±ales', 0], ['Alex Marquez', 0], ['Michele Pirro', 0], ['Kazuki Watanabe', 0], ['Stefan Bradl', 0], ['Enea Bastianini', 0], ['Aleix Espargaro', 0], ['Tetsuta Nagashima', 0]], 'Le Mans': [['Jack Miller', 25], ['Tetsuta Nagashima', 20], ['Aleix Espargaro', 16], ['Enea Bastianini', 13], ['Marc Marquez', 11], ['Jorge Martin', 10], ['Joan Mir', 9], ['Darryn Binder', 8], ['Cal Crutchlow', 7], ['Michele Pirro', 6], ['Alex Marquez', 5], ['Miguel Oliveira', 4], ['Pol Espargaro', 3], ['Brad Binder', 2], ['Fabio Di Giannantonio', 1], ['Remy Gardner', 0], ['Francesco Bagnaia', 0], ['Luca Marini', 0], ['Maverick ViÃ±ales', 0], ['Alex Rins', 0], ['Marco Bezzecchi', 0], ['Raul Fernandez', 0], ['Andrea Dovizioso', 0], ['Stefan Bradl', 0], ['Franco Morbidelli', 0], ['Danilo Petrucci', 0], ['Fabio Quartararo', 0], ['Lorenzo Savadori', 0], ['Johann Zarco', 0], ['Takaaki Nakagami', 0], ['Kazuki Watanabe', 0]], 'Circuito de Jerez - Angel Nieto': [['Darryn Binder', 25], ['Luca Marini', 20], ['Fabio Quartararo', 16], ['Tetsuta Nagashima', 13], ['Marc Marquez', 11], ['Aleix Espargaro', 10], ['Enea Bastianini', 9], ['Cal Crutchlow', 8], ['Francesco Bagnaia', 7], ['Joan Mir', 6], ['Remy Gardner', 5], ['Alex Rins', 4], ['Raul Fernandez', 3], ['Maverick ViÃ±ales', 2], ['Michele Pirro', 1], ['Danilo Petrucci', 0], ['Stefan Bradl', 0], ['Franco Morbidelli', 0], ['Takaaki Nakagami', 0], ['Lorenzo Savadori', 0], ['Johann Zarco', 0], ['Brad Binder', 0], ['Jack Miller', 0], ['Fabio Di Giannantonio', 0], ['Alex Marquez', 0], ['Miguel Oliveira', 0], ['Andrea Dovizioso', 0], ['Kazuki Watanabe', 0], ['Jorge Martin', 0], ['Pol Espargaro', 0], ['Marco Bezzecchi', 0]], 'Autodromo Internacional do Algarve': [['Lorenzo Savadori', 25], ['Joan Mir', 20], ['Francesco Bagnaia', 16], ['Fabio Di Giannantonio', 13], ['Jack Miller', 11], ['Franco Morbidelli', 10], ['Enea Bastianini', 9], ['Stefan Bradl', 8], ['Aleix Espargaro', 7], ['Danilo Petrucci', 6], ['Remy Gardner', 5], ['Kazuki Watanabe', 4], ['Michele Pirro', 3], ['Cal Crutchlow', 2], ['Fabio Quartararo', 1], ['Luca Marini', 0], ['Pol Espargaro', 0], ['Takaaki Nakagami', 0], ['Johann Zarco', 0], ['Maverick ViÃ±ales', 0], ['Marco Bezzecchi', 0], ['Miguel Oliveira', 0], ['Andrea Dovizioso', 0], ['Alex Marquez', 0], ['Darryn Binder', 0], ['Brad Binder', 0], ['Raul Fernandez', 0], ['Jorge Martin', 0], ['Alex Rins', 0], ['Marc Marquez', 0], ['Tetsuta Nagashima', 0]], 'Circuit Of The Americas': [['Fabio Quartararo', 25], ['Takaaki Nakagami', 20], ['Stefan Bradl', 16], ['Marco Bezzecchi', 13], ['Andrea Dovizioso', 11], ['Darryn Binder', 10], ['Maverick ViÃ±ales', 9], ['Joan Mir', 8], ['Remy Gardner', 7], ['Cal Crutchlow', 6], ['Miguel Oliveira', 5], ['Tetsuta Nagashima', 4], ['Alex Rins', 3], ['Enea Bastianini', 2], ['Lorenzo Savadori', 1], ['Kazuki Watanabe', 0], ['Alex Marquez', 0], ['Brad Binder', 0], ['Michele Pirro', 0], ['Jack Miller', 0], ['Aleix Espargaro', 0], ['Franco Morbidelli', 0], ['Raul Fernandez', 0], ['Johann Zarco', 0], ['Francesco Bagnaia', 0], ['Jorge Martin', 0], ['Danilo Petrucci', 0], ['Fabio Di Giannantonio', 0], ['Luca Marini', 0], ['Pol Espargaro', 0], ['Marc Marquez', 0]], 'Termas de Rio Hondo': [['Darryn Binder', 25], ['Tetsuta Nagashima', 20], ['Miguel Oliveira', 16], ['Enea Bastianini', 13], ['Raul Fernandez', 11], ['Jack Miller', 10], ['Michele Pirro', 9], ['Francesco Bagnaia', 8], ['Lorenzo Savadori', 7], ['Luca Marini', 6], ['Marc Marquez', 5], ['Johann Zarco', 4], ['Joan Mir', 3], ['Marco Bezzecchi', 2], ['Andrea Dovizioso', 1], ['Takaaki Nakagami', 0], ['Fabio Di Giannantonio', 0], ['Fabio Quartararo', 0], ['Alex Rins', 0], ['Jorge Martin', 0], ['Remy Gardner', 0], ['Stefan Bradl', 0], ['Brad Binder', 0], ['Alex Marquez', 0], ['Maverick ViÃ±ales', 0], ['Cal Crutchlow', 0], ['Danilo Petrucci', 0], ['Aleix Espargaro', 0], ['Pol Espargaro', 0], ['Kazuki Watanabe', 0], ['Franco Morbidelli', 0]], 'Pertamina Mandalika Circuit': [['Remy Gardner', 25], ['Kazuki Watanabe', 20], ['Alex Rins', 16], ['Fabio Quartararo', 13], ['Marc Marquez', 11], ['Brad Binder', 10], ['Tetsuta Nagashima', 9], ['Jorge Martin', 8], ['Alex Marquez', 7], ['Andrea Dovizioso', 6], ['Darryn Binder', 5], ['Jack Miller', 4], ['Michele Pirro', 3], ['Miguel Oliveira', 2], ['Maverick ViÃ±ales', 1], ['Luca Marini', 0], ['Franco Morbidelli', 0], ['Takaaki Nakagami', 0], ['Lorenzo Savadori', 0], ['Joan Mir', 0], ['Pol Espargaro', 0], ['Enea Bastianini', 0], ['Marco Bezzecchi', 0], ['Johann Zarco', 0], ['Danilo Petrucci', 0], ['Fabio Di Giannantonio', 0], ['Stefan Bradl', 0], ['Cal Crutchlow', 0], ['Raul Fernandez', 0], ['Aleix Espargaro', 0], ['Francesco Bagnaia', 0]], 'Lusail International Circuit': [['Kazuki Watanabe', 25], ['Brad Binder', 20], ['Pol Espargaro', 16], ['Andrea Dovizioso', 13], ['Enea Bastianini', 11], ['Remy Gardner', 10], ['Fabio Di Giannantonio', 9], ['Jack Miller', 8], ['Takaaki Nakagami', 7], ['Franco Morbidelli', 6], ['Marco Bezzecchi', 5], ['Lorenzo Savadori', 4], ['Jorge Martin', 3], ['Miguel Oliveira', 2], ['Johann Zarco', 1], ['Fabio Quartararo', 0], ['Luca Marini', 0], ['Maverick ViÃ±ales', 0], ['Marc Marquez', 0], ['Cal Crutchlow', 0], ['Stefan Bradl', 0], ['Alex Marquez', 0], ['Alex Rins', 0], ['Joan Mir', 0], ['Tetsuta Nagashima', 0], ['Aleix Espargaro', 0], ['Danilo Petrucci', 0], ['Francesco Bagnaia', 0], ['Darryn Binder', 0], ['Raul Fernandez', 0], ['Michele Pirro', 0]]}\n"
     ]
    }
   ],
   "source": [
    "import random\n",
    "import re\n",
    "\n",
    "fonte_pilotos = open(\"../../jupyter/Desafio_2/Pilotos_2022.txt\",'r')\n",
    "fonte_circuitos = open(\"../../jupyter/Desafio_2/Circuito_2022.txt\",'r')\n",
    "fonte_pontos = open(\"../../jupyter/Desafio_2/Pontos_2022.txt\",'r')\n",
    "\n",
    "pilotos = {}\n",
    "circuitos = {}\n",
    "pontos = {}\n",
    "\n",
    "for x in fonte_pilotos:\n",
    "    piloto = x.strip().split(',')\n",
    "    pilotos[piloto[1]] = [piloto[0], piloto[2], piloto[3], piloto[4]]\n",
    "fonte_pilotos.close()\n",
    "\n",
    "for c in fonte_circuitos:\n",
    "    circuito = c.strip().split(',')\n",
    "    circuitos[circuito[0]] = [circuito[1], circuito[2]]\n",
    "fonte_circuitos.close()\n",
    "\n",
    "for p in fonte_pontos:\n",
    "    ponto = p.strip().split(',')\n",
    "    pontos[ponto[0]] = ponto[1]\n",
    "fonte_pontos.close()\n",
    "\n",
    "resultados_gp = {}\n",
    "\n",
    "for gp in circuitos:\n",
    "    replica_pilotos = list(pilotos)\n",
    "    classificacao_gp = []\n",
    "    i=1\n",
    "    while replica_pilotos:\n",
    "        try:\n",
    "            pontuacao = int(pontos[str(i)])\n",
    "        except:\n",
    "            pontuacao = 0\n",
    "        piloto = random.choice(replica_pilotos)\n",
    "        replica_pilotos.remove(piloto)\n",
    "        piloto_pontuacao = [piloto, pontuacao]\n",
    "        classificacao_gp.append(piloto_pontuacao)\n",
    "        i+=1\n",
    "    resultados_gp[gp] = classificacao_gp\n",
    "\n",
    "print(resultados_gp)   \n",
    "#print(circuitos)\n",
    "#print(pilotos)\n",
    "#print(pontos)"
   ]
  }
 ],
 "metadata": {
  "kernelspec": {
   "display_name": "Python 3 (ipykernel)",
   "language": "python",
   "name": "python3"
  },
  "language_info": {
   "codemirror_mode": {
    "name": "ipython",
    "version": 3
   },
   "file_extension": ".py",
   "mimetype": "text/x-python",
   "name": "python",
   "nbconvert_exporter": "python",
   "pygments_lexer": "ipython3",
   "version": "3.9.13"
  }
 },
 "nbformat": 4,
 "nbformat_minor": 5
}
