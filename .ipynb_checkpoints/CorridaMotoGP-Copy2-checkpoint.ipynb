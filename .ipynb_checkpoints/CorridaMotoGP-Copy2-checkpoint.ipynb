{
 "cells": [
  {
   "cell_type": "code",
   "execution_count": 174,
   "id": "f584176c-5955-4825-bd80-dfb839b63679",
   "metadata": {},
   "outputs": [
    {
     "name": "stdout",
     "output_type": "stream",
     "text": [
      "{'Franco Morbidelli': 196, 'Marc Marquez': 158, 'Miguel Oliveira': 139, 'Darryn Binder': 131, 'Stefan Bradl': 131, 'Fabio Di Giannantonio': 128, 'Francesco Bagnaia': 126, 'Maverick ViÃ±ales': 123, 'Tetsuta Nagashima': 118, 'Johann Zarco': 114, 'Jack Miller': 106, 'Kazuki Watanabe': 102, 'Enea Bastianini': 101, 'Cal Crutchlow': 86, 'Aleix Espargaro': 85, 'Marco Bezzecchi': 78, 'Alex Rins': 75, 'Takaaki Nakagami': 71, 'Fabio Quartararo': 69, 'Danilo Petrucci': 67, 'Lorenzo Savadori': 66, 'Alex Marquez': 65, 'Joan Mir': 63, 'Remy Gardner': 60, 'Andrea Dovizioso': 60, 'Jorge Martin': 59, 'Raul Fernandez': 57, 'Michele Pirro': 55, 'Luca Marini': 45, 'Brad Binder': 39, 'Pol Espargaro': 27}\n"
     ]
    }
   ],
   "source": [
    "import random\n",
    "import re\n",
    "\n",
    "fonte_pilotos = open(\"../../jupyter/Desafio_2/Pilotos_2022.txt\",'r')\n",
    "fonte_circuitos = open(\"../../jupyter/Desafio_2/Circuito_2022.txt\",'r')\n",
    "fonte_pontos = open(\"../../jupyter/Desafio_2/Pontos_2022.txt\",'r')\n",
    "\n",
    "pilotos = {}\n",
    "circuitos = {}\n",
    "pontos = {}\n",
    "\n",
    "for x in fonte_pilotos:\n",
    "    piloto = x.strip().split(',')\n",
    "    pilotos[piloto[1]] = [piloto[0], piloto[2], piloto[3], piloto[4]]\n",
    "fonte_pilotos.close()\n",
    "\n",
    "for c in fonte_circuitos:\n",
    "    circuito = c.strip().split(',')\n",
    "    circuitos[circuito[0]] = [circuito[1], circuito[2]]\n",
    "fonte_circuitos.close()\n",
    "\n",
    "for p in fonte_pontos:\n",
    "    ponto = p.strip().split(',')\n",
    "    pontos[ponto[0]] = ponto[1]\n",
    "fonte_pontos.close()\n",
    "\n",
    "resultados_gp = {}\n",
    "piloto_acumulado=[]\n",
    "\n",
    "for gp in circuitos:\n",
    "    replica_pilotos = list(pilotos)\n",
    "    classificacao = []\n",
    "    i=1\n",
    "    while replica_pilotos:\n",
    "        try:\n",
    "            temp = int(pontos[str(i)])\n",
    "        except:\n",
    "            temp = 0\n",
    "        piloto = random.choice(replica_pilotos)\n",
    "        replica_pilotos.remove(piloto)\n",
    "        piloto_temp = [piloto, temp]\n",
    "        piloto_acumulado.append(piloto_temp)\n",
    "        classificacao.append(piloto_temp)\n",
    "        i+=1\n",
    "    resultados_gp[gp] = classificacao\n",
    "\n",
    "res_campeonato = {}\n",
    "\n",
    "for i in range(0, len(piloto_acumulado)):\n",
    "    temp = 0\n",
    "    for j in range(0, len(piloto_acumulado)):\n",
    "        if piloto_acumulado[i][0] == piloto_acumulado[j][0]:\n",
    "            temp = temp + piloto_acumulado[j][1]\n",
    "    res_campeonato[piloto_acumulado[i][0]] = temp\n",
    "         \n",
    "res_camp_sorted = dict(sorted(res_campeonato.items(), key = lambda x: x[1], reverse = True))\n",
    "print(res_camp_sorted)    \n",
    "#print(piloto_acumulado)\n",
    "#print(resultados_gp)\n",
    "#print(circuitos)\n",
    "#print(pilotos)\n",
    "#print(pontos)"
   ]
  }
 ],
 "metadata": {
  "kernelspec": {
   "display_name": "Python 3 (ipykernel)",
   "language": "python",
   "name": "python3"
  },
  "language_info": {
   "codemirror_mode": {
    "name": "ipython",
    "version": 3
   },
   "file_extension": ".py",
   "mimetype": "text/x-python",
   "name": "python",
   "nbconvert_exporter": "python",
   "pygments_lexer": "ipython3",
   "version": "3.9.13"
  }
 },
 "nbformat": 4,
 "nbformat_minor": 5
}
