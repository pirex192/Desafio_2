{
 "cells": [
  {
   "cell_type": "code",
   "execution_count": 61,
   "id": "0cb78286-fee8-43a7-8303-551648ef1636",
   "metadata": {},
   "outputs": [
    {
     "name": "stdout",
     "output_type": "stream",
     "text": [
      "[[1, 'Portugal', 'Lorenzo Savadori'], [2, 'Portugal', 'Enea Bastianini'], [3, 'Portugal', 'Maverick ViÃ±ales'], [4, 'Portugal', 'Cal Crutchlow'], [5, 'Portugal', 'Kazuki Watanabe'], [6, 'Portugal', 'Brad Binder'], [7, 'Portugal', 'Francesco Bagnaia'], [8, 'Portugal', 'Michele Pirro'], [9, 'Portugal', 'Luca Marini'], [10, 'Portugal', 'Takuya Tsuda'], [11, 'Portugal', 'Jack Miller'], [12, 'Portugal', 'Andrea Dovizioso'], [13, 'Portugal', 'Alex Rins'], [14, 'Portugal', 'Fabio Quartararo'], [15, 'Portugal', 'Takaaki Nakagami'], [16, 'Portugal', 'Johann Zarco'], [17, 'Portugal', 'Pol Espargaro'], [18, 'Portugal', 'Marco Bezzecchi'], [19, 'Portugal', 'Franco Morbidelli'], [20, 'Portugal', 'Raul Fernandez'], [21, 'Portugal', 'Marc Marquez'], [22, 'Portugal', 'Fabio Di Giannantonio'], [23, 'Portugal', 'Stefan Bradl'], [24, 'Portugal', 'Darryn Binder'], [25, 'Portugal', 'Danilo Petrucci'], [26, 'Portugal', 'Miguel Oliveira'], [27, 'Portugal', 'Joan Mir'], [28, 'Portugal', 'Alex Marquez'], [29, 'Portugal', 'Remy Gardner'], [30, 'Portugal', 'Tetsuta Nagashima'], [31, 'Portugal', 'Jorge Martin'], [32, 'Portugal', 'Aleix Espargaro']]\n",
      "[[1, 'Monaco', 'Lorenzo Savadori'], [2, 'Monaco', 'Enea Bastianini'], [3, 'Monaco', 'Maverick ViÃ±ales'], [4, 'Monaco', 'Cal Crutchlow'], [5, 'Monaco', 'Kazuki Watanabe'], [6, 'Monaco', 'Brad Binder'], [7, 'Monaco', 'Francesco Bagnaia'], [8, 'Monaco', 'Michele Pirro'], [9, 'Monaco', 'Luca Marini'], [10, 'Monaco', 'Takuya Tsuda'], [11, 'Monaco', 'Jack Miller'], [12, 'Monaco', 'Andrea Dovizioso'], [13, 'Monaco', 'Alex Rins'], [14, 'Monaco', 'Fabio Quartararo'], [15, 'Monaco', 'Takaaki Nakagami'], [16, 'Monaco', 'Johann Zarco'], [17, 'Monaco', 'Pol Espargaro'], [18, 'Monaco', 'Marco Bezzecchi'], [19, 'Monaco', 'Franco Morbidelli'], [20, 'Monaco', 'Raul Fernandez'], [21, 'Monaco', 'Marc Marquez'], [22, 'Monaco', 'Fabio Di Giannantonio'], [23, 'Monaco', 'Stefan Bradl'], [24, 'Monaco', 'Darryn Binder'], [25, 'Monaco', 'Danilo Petrucci'], [26, 'Monaco', 'Miguel Oliveira'], [27, 'Monaco', 'Joan Mir'], [28, 'Monaco', 'Alex Marquez'], [29, 'Monaco', 'Remy Gardner'], [30, 'Monaco', 'Tetsuta Nagashima'], [31, 'Monaco', 'Jorge Martin'], [32, 'Monaco', 'Aleix Espargaro']]\n",
      "[[1, 'Itália', 'Lorenzo Savadori'], [2, 'Itália', 'Enea Bastianini'], [3, 'Itália', 'Maverick ViÃ±ales'], [4, 'Itália', 'Cal Crutchlow'], [5, 'Itália', 'Kazuki Watanabe'], [6, 'Itália', 'Brad Binder'], [7, 'Itália', 'Francesco Bagnaia'], [8, 'Itália', 'Michele Pirro'], [9, 'Itália', 'Luca Marini'], [10, 'Itália', 'Takuya Tsuda'], [11, 'Itália', 'Jack Miller'], [12, 'Itália', 'Andrea Dovizioso'], [13, 'Itália', 'Alex Rins'], [14, 'Itália', 'Fabio Quartararo'], [15, 'Itália', 'Takaaki Nakagami'], [16, 'Itália', 'Johann Zarco'], [17, 'Itália', 'Pol Espargaro'], [18, 'Itália', 'Marco Bezzecchi'], [19, 'Itália', 'Franco Morbidelli'], [20, 'Itália', 'Raul Fernandez'], [21, 'Itália', 'Marc Marquez'], [22, 'Itália', 'Fabio Di Giannantonio'], [23, 'Itália', 'Stefan Bradl'], [24, 'Itália', 'Darryn Binder'], [25, 'Itália', 'Danilo Petrucci'], [26, 'Itália', 'Miguel Oliveira'], [27, 'Itália', 'Joan Mir'], [28, 'Itália', 'Alex Marquez'], [29, 'Itália', 'Remy Gardner'], [30, 'Itália', 'Tetsuta Nagashima'], [31, 'Itália', 'Jorge Martin'], [32, 'Itália', 'Aleix Espargaro']]\n",
      "[[1, 'França', 'Lorenzo Savadori'], [2, 'França', 'Enea Bastianini'], [3, 'França', 'Maverick ViÃ±ales'], [4, 'França', 'Cal Crutchlow'], [5, 'França', 'Kazuki Watanabe'], [6, 'França', 'Brad Binder'], [7, 'França', 'Francesco Bagnaia'], [8, 'França', 'Michele Pirro'], [9, 'França', 'Luca Marini'], [10, 'França', 'Takuya Tsuda'], [11, 'França', 'Jack Miller'], [12, 'França', 'Andrea Dovizioso'], [13, 'França', 'Alex Rins'], [14, 'França', 'Fabio Quartararo'], [15, 'França', 'Takaaki Nakagami'], [16, 'França', 'Johann Zarco'], [17, 'França', 'Pol Espargaro'], [18, 'França', 'Marco Bezzecchi'], [19, 'França', 'Franco Morbidelli'], [20, 'França', 'Raul Fernandez'], [21, 'França', 'Marc Marquez'], [22, 'França', 'Fabio Di Giannantonio'], [23, 'França', 'Stefan Bradl'], [24, 'França', 'Darryn Binder'], [25, 'França', 'Danilo Petrucci'], [26, 'França', 'Miguel Oliveira'], [27, 'França', 'Joan Mir'], [28, 'França', 'Alex Marquez'], [29, 'França', 'Remy Gardner'], [30, 'França', 'Tetsuta Nagashima'], [31, 'França', 'Jorge Martin'], [32, 'França', 'Aleix Espargaro']]\n",
      "[[1, 'Espanha', 'Lorenzo Savadori'], [2, 'Espanha', 'Enea Bastianini'], [3, 'Espanha', 'Maverick ViÃ±ales'], [4, 'Espanha', 'Cal Crutchlow'], [5, 'Espanha', 'Kazuki Watanabe'], [6, 'Espanha', 'Brad Binder'], [7, 'Espanha', 'Francesco Bagnaia'], [8, 'Espanha', 'Michele Pirro'], [9, 'Espanha', 'Luca Marini'], [10, 'Espanha', 'Takuya Tsuda'], [11, 'Espanha', 'Jack Miller'], [12, 'Espanha', 'Andrea Dovizioso'], [13, 'Espanha', 'Alex Rins'], [14, 'Espanha', 'Fabio Quartararo'], [15, 'Espanha', 'Takaaki Nakagami'], [16, 'Espanha', 'Johann Zarco'], [17, 'Espanha', 'Pol Espargaro'], [18, 'Espanha', 'Marco Bezzecchi'], [19, 'Espanha', 'Franco Morbidelli'], [20, 'Espanha', 'Raul Fernandez'], [21, 'Espanha', 'Marc Marquez'], [22, 'Espanha', 'Fabio Di Giannantonio'], [23, 'Espanha', 'Stefan Bradl'], [24, 'Espanha', 'Darryn Binder'], [25, 'Espanha', 'Danilo Petrucci'], [26, 'Espanha', 'Miguel Oliveira'], [27, 'Espanha', 'Joan Mir'], [28, 'Espanha', 'Alex Marquez'], [29, 'Espanha', 'Remy Gardner'], [30, 'Espanha', 'Tetsuta Nagashima'], [31, 'Espanha', 'Jorge Martin'], [32, 'Espanha', 'Aleix Espargaro']]\n",
      "[[1, 'Argentine', 'Lorenzo Savadori'], [2, 'Argentine', 'Enea Bastianini'], [3, 'Argentine', 'Maverick ViÃ±ales'], [4, 'Argentine', 'Cal Crutchlow'], [5, 'Argentine', 'Kazuki Watanabe'], [6, 'Argentine', 'Brad Binder'], [7, 'Argentine', 'Francesco Bagnaia'], [8, 'Argentine', 'Michele Pirro'], [9, 'Argentine', 'Luca Marini'], [10, 'Argentine', 'Takuya Tsuda'], [11, 'Argentine', 'Jack Miller'], [12, 'Argentine', 'Andrea Dovizioso'], [13, 'Argentine', 'Alex Rins'], [14, 'Argentine', 'Fabio Quartararo'], [15, 'Argentine', 'Takaaki Nakagami'], [16, 'Argentine', 'Johann Zarco'], [17, 'Argentine', 'Pol Espargaro'], [18, 'Argentine', 'Marco Bezzecchi'], [19, 'Argentine', 'Franco Morbidelli'], [20, 'Argentine', 'Raul Fernandez'], [21, 'Argentine', 'Marc Marquez'], [22, 'Argentine', 'Fabio Di Giannantonio'], [23, 'Argentine', 'Stefan Bradl'], [24, 'Argentine', 'Darryn Binder'], [25, 'Argentine', 'Danilo Petrucci'], [26, 'Argentine', 'Miguel Oliveira'], [27, 'Argentine', 'Joan Mir'], [28, 'Argentine', 'Alex Marquez'], [29, 'Argentine', 'Remy Gardner'], [30, 'Argentine', 'Tetsuta Nagashima'], [31, 'Argentine', 'Jorge Martin'], [32, 'Argentine', 'Aleix Espargaro']]\n",
      "[[1, 'México', 'Lorenzo Savadori'], [2, 'México', 'Enea Bastianini'], [3, 'México', 'Maverick ViÃ±ales'], [4, 'México', 'Cal Crutchlow'], [5, 'México', 'Kazuki Watanabe'], [6, 'México', 'Brad Binder'], [7, 'México', 'Francesco Bagnaia'], [8, 'México', 'Michele Pirro'], [9, 'México', 'Luca Marini'], [10, 'México', 'Takuya Tsuda'], [11, 'México', 'Jack Miller'], [12, 'México', 'Andrea Dovizioso'], [13, 'México', 'Alex Rins'], [14, 'México', 'Fabio Quartararo'], [15, 'México', 'Takaaki Nakagami'], [16, 'México', 'Johann Zarco'], [17, 'México', 'Pol Espargaro'], [18, 'México', 'Marco Bezzecchi'], [19, 'México', 'Franco Morbidelli'], [20, 'México', 'Raul Fernandez'], [21, 'México', 'Marc Marquez'], [22, 'México', 'Fabio Di Giannantonio'], [23, 'México', 'Stefan Bradl'], [24, 'México', 'Darryn Binder'], [25, 'México', 'Danilo Petrucci'], [26, 'México', 'Miguel Oliveira'], [27, 'México', 'Joan Mir'], [28, 'México', 'Alex Marquez'], [29, 'México', 'Remy Gardner'], [30, 'México', 'Tetsuta Nagashima'], [31, 'México', 'Jorge Martin'], [32, 'México', 'Aleix Espargaro']]\n",
      "[[1, 'Holanda', 'Lorenzo Savadori'], [2, 'Holanda', 'Enea Bastianini'], [3, 'Holanda', 'Maverick ViÃ±ales'], [4, 'Holanda', 'Cal Crutchlow'], [5, 'Holanda', 'Kazuki Watanabe'], [6, 'Holanda', 'Brad Binder'], [7, 'Holanda', 'Francesco Bagnaia'], [8, 'Holanda', 'Michele Pirro'], [9, 'Holanda', 'Luca Marini'], [10, 'Holanda', 'Takuya Tsuda'], [11, 'Holanda', 'Jack Miller'], [12, 'Holanda', 'Andrea Dovizioso'], [13, 'Holanda', 'Alex Rins'], [14, 'Holanda', 'Fabio Quartararo'], [15, 'Holanda', 'Takaaki Nakagami'], [16, 'Holanda', 'Johann Zarco'], [17, 'Holanda', 'Pol Espargaro'], [18, 'Holanda', 'Marco Bezzecchi'], [19, 'Holanda', 'Franco Morbidelli'], [20, 'Holanda', 'Raul Fernandez'], [21, 'Holanda', 'Marc Marquez'], [22, 'Holanda', 'Fabio Di Giannantonio'], [23, 'Holanda', 'Stefan Bradl'], [24, 'Holanda', 'Darryn Binder'], [25, 'Holanda', 'Danilo Petrucci'], [26, 'Holanda', 'Miguel Oliveira'], [27, 'Holanda', 'Joan Mir'], [28, 'Holanda', 'Alex Marquez'], [29, 'Holanda', 'Remy Gardner'], [30, 'Holanda', 'Tetsuta Nagashima'], [31, 'Holanda', 'Jorge Martin'], [32, 'Holanda', 'Aleix Espargaro']]\n",
      "[[1, 'Inglaterra', 'Lorenzo Savadori'], [2, 'Inglaterra', 'Enea Bastianini'], [3, 'Inglaterra', 'Maverick ViÃ±ales'], [4, 'Inglaterra', 'Cal Crutchlow'], [5, 'Inglaterra', 'Kazuki Watanabe'], [6, 'Inglaterra', 'Brad Binder'], [7, 'Inglaterra', 'Francesco Bagnaia'], [8, 'Inglaterra', 'Michele Pirro'], [9, 'Inglaterra', 'Luca Marini'], [10, 'Inglaterra', 'Takuya Tsuda'], [11, 'Inglaterra', 'Jack Miller'], [12, 'Inglaterra', 'Andrea Dovizioso'], [13, 'Inglaterra', 'Alex Rins'], [14, 'Inglaterra', 'Fabio Quartararo'], [15, 'Inglaterra', 'Takaaki Nakagami'], [16, 'Inglaterra', 'Johann Zarco'], [17, 'Inglaterra', 'Pol Espargaro'], [18, 'Inglaterra', 'Marco Bezzecchi'], [19, 'Inglaterra', 'Franco Morbidelli'], [20, 'Inglaterra', 'Raul Fernandez'], [21, 'Inglaterra', 'Marc Marquez'], [22, 'Inglaterra', 'Fabio Di Giannantonio'], [23, 'Inglaterra', 'Stefan Bradl'], [24, 'Inglaterra', 'Darryn Binder'], [25, 'Inglaterra', 'Danilo Petrucci'], [26, 'Inglaterra', 'Miguel Oliveira'], [27, 'Inglaterra', 'Joan Mir'], [28, 'Inglaterra', 'Alex Marquez'], [29, 'Inglaterra', 'Remy Gardner'], [30, 'Inglaterra', 'Tetsuta Nagashima'], [31, 'Inglaterra', 'Jorge Martin'], [32, 'Inglaterra', 'Aleix Espargaro']]\n",
      "[[1, 'Alemanha', 'Lorenzo Savadori'], [2, 'Alemanha', 'Enea Bastianini'], [3, 'Alemanha', 'Maverick ViÃ±ales'], [4, 'Alemanha', 'Cal Crutchlow'], [5, 'Alemanha', 'Kazuki Watanabe'], [6, 'Alemanha', 'Brad Binder'], [7, 'Alemanha', 'Francesco Bagnaia'], [8, 'Alemanha', 'Michele Pirro'], [9, 'Alemanha', 'Luca Marini'], [10, 'Alemanha', 'Takuya Tsuda'], [11, 'Alemanha', 'Jack Miller'], [12, 'Alemanha', 'Andrea Dovizioso'], [13, 'Alemanha', 'Alex Rins'], [14, 'Alemanha', 'Fabio Quartararo'], [15, 'Alemanha', 'Takaaki Nakagami'], [16, 'Alemanha', 'Johann Zarco'], [17, 'Alemanha', 'Pol Espargaro'], [18, 'Alemanha', 'Marco Bezzecchi'], [19, 'Alemanha', 'Franco Morbidelli'], [20, 'Alemanha', 'Raul Fernandez'], [21, 'Alemanha', 'Marc Marquez'], [22, 'Alemanha', 'Fabio Di Giannantonio'], [23, 'Alemanha', 'Stefan Bradl'], [24, 'Alemanha', 'Darryn Binder'], [25, 'Alemanha', 'Danilo Petrucci'], [26, 'Alemanha', 'Miguel Oliveira'], [27, 'Alemanha', 'Joan Mir'], [28, 'Alemanha', 'Alex Marquez'], [29, 'Alemanha', 'Remy Gardner'], [30, 'Alemanha', 'Tetsuta Nagashima'], [31, 'Alemanha', 'Jorge Martin'], [32, 'Alemanha', 'Aleix Espargaro']]\n"
     ]
    },
    {
     "data": {
      "text/plain": [
       "'    for corrida[z] in corrida:\\n        total += int(corrida[z][0])\\n        z=z+1'"
      ]
     },
     "execution_count": 61,
     "metadata": {},
     "output_type": "execute_result"
    }
   ],
   "source": [
    "import random\n",
    "\n",
    "fonte = open(\"pilotos.txt\",'r')\n",
    "pilotos = []\n",
    "vencedores = []\n",
    "corrida = []\n",
    "total = 0\n",
    "gd_premio = ['Portugal', 'Monaco', 'Itália', 'França', 'Espanha', 'Argentine', 'México', 'Holanda', 'Inglaterra', 'Alemanha']\n",
    "i=0\n",
    "z=0\n",
    "\n",
    "for x in fonte:\n",
    "#    numero, pais, piloto = linha.strip().split(',')\n",
    "    piloto = x.strip().split(',')\n",
    "    pilotos.append(piloto)\n",
    "fonte.close()\n",
    "y=0\n",
    "for x in gd_premio:\n",
    "    j=0\n",
    "    while i < len(pilotos):\n",
    "        rand_piloto = random.choice(pilotos)\n",
    "        pilotos.remove(rand_piloto)\n",
    "        corrida.insert(i, rand_piloto)\n",
    "    for piloto in corrida:\n",
    "        corrida[j][0] = j+1\n",
    "        corrida[j][1] = gd_premio[y]\n",
    "#        total += corrida[j][0]\n",
    "        j = j+1\n",
    "    y = y+1\n",
    "    print(corrida)\n",
    "\n",
    "'''    for corrida[z] in corrida:\n",
    "        total += int(corrida[z][0])\n",
    "        z=z+1'''\n",
    "#    corrida[i] = [corrida[i], i+1]\n",
    "#    vencedores.insert(i, (i+1))\n",
    "#    vencedores.extend({}''.format(i+1))\n",
    "#    i = i+1\n",
    "#print(linhas)\n",
    "#for x in corrida:\n",
    "#    x.extend(\n",
    "#    print(corrida)\n"
   ]
  },
  {
   "cell_type": "code",
   "execution_count": null,
   "id": "99f1ac20-8ae8-4555-9491-01ca3b7fa19b",
   "metadata": {},
   "outputs": [],
   "source": [
    "pilotos = {\n",
    "    \"Miguel Oliveira\": [ [ 12, 7, 8, 11, 4, 3 ], [ 0, 7, 8, 0, 4, 3 ] ],\n",
    "    \"Francesco Bagnaia\": [ 6, 6, 4, 15, 2, 2]\n",
    "}\n",
    "\n",
    "pilotos[\"Miguel Oliveira\"].append(5)\n",
    "sum(pilotos[\"Francesco Bagnaia\"][0])"
   ]
  },
  {
   "cell_type": "code",
   "execution_count": null,
   "id": "5f566812-91af-4cbc-9775-6fa1a4f9dbc3",
   "metadata": {},
   "outputs": [],
   "source": [
    "pilotos = {\n",
    "    \"Miguel Oliveira\": {\n",
    "        \"pais\": \"Portugal\",\n",
    "        \"classificações\": [ 12, 7, 8, 11, 4, 3 ],\n",
    "        \"pontuação\": [ 0, 7, 8, 0, 4, 3 ]\n",
    "    },\n",
    "    \"Francesco Bagnaia\": {\n",
    "        \"pais\": \"Itália\",\n",
    "        \"classificações\": [ 12, 7, 8, 11, 4, 3 ],\n",
    "        \"pontuação\": [ 0, 7, 8, 0, 4, 3 ]\n",
    "    }\n",
    "}\n"
   ]
  }
 ],
 "metadata": {
  "kernelspec": {
   "display_name": "Python 3 (ipykernel)",
   "language": "python",
   "name": "python3"
  },
  "language_info": {
   "codemirror_mode": {
    "name": "ipython",
    "version": 3
   },
   "file_extension": ".py",
   "mimetype": "text/x-python",
   "name": "python",
   "nbconvert_exporter": "python",
   "pygments_lexer": "ipython3",
   "version": "3.9.13"
  }
 },
 "nbformat": 4,
 "nbformat_minor": 5
}
