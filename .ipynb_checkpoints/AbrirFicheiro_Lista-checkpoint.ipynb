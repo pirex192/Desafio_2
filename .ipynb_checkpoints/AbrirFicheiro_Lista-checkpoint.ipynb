{
 "cells": [
  {
   "cell_type": "code",
   "execution_count": 15,
   "id": "db99707d-59bd-44e4-a893-013f9bc83857",
   "metadata": {},
   "outputs": [
    {
     "name": "stdout",
     "output_type": "stream",
     "text": [
      "[['1', 'Italy', 'Francesco Bagnaia'], ['2', 'France', 'Fabio Quartararo'], ['3', 'Spain', 'Aleix Espargaro'], ['4', 'Italy', 'Enea Bastianini'], ['5', 'Australia', 'Jack Miller'], ['6', 'South Africa', 'Brad Binder'], ['7', 'France', 'Johann Zarco'], ['8', 'Spain', 'Alex Rins'], ['9', 'Portugal', 'Miguel Oliveira'], ['10', 'Spain', 'Jorge Martin'], ['11', 'Spain', 'Maverick ViÃ±ales'], ['12', 'Spain', 'Marc Marquez'], ['13', 'Italy', 'Luca Marini'], ['14', 'Italy', 'Marco Bezzecchi'], ['15', 'Spain', 'Joan Mir'], ['16', 'Spain', 'Pol Espargaro'], ['17', 'Spain', 'Alex Marquez'], ['18', 'Japan', 'Takaaki Nakagami'], ['19', 'Italy', 'Franco Morbidelli'], ['20', 'Italy', 'Fabio Di Giannantonio'], ['21', 'Italy', 'Andrea Dovizioso'], ['22', 'South Africa', 'Darryn Binder'], ['23', 'Australia', 'Remy Gardner'], ['24', 'United Kingdom', 'Cal Crutchlow'], ['25', 'Spain', 'Raul Fernandez'], ['26', 'Germany', 'Stefan Bradl'], ['27', 'Italy', 'Michele Pirro'], ['28', 'Italy', 'Lorenzo Savadori'], ['29', 'Japan', 'Tetsuta Nagashima'], ['30', 'Italy', 'Danilo Petrucci'], ['31', 'Japan', 'Kazuki Watanabe'], ['32', 'Japan', 'Takuya Tsuda']]\n"
     ]
    }
   ],
   "source": [
    "fonte = open(\"../../jupyter/Desafio_2/Pilotos.txt\",'r')\n",
    "pilotos = []\n",
    "linha = []\n",
    "for x in fonte:\n",
    "#for linha in fonte:\n",
    "#    numero, pais, piloto = linha.strip().split(',')\n",
    "    piloto = x.strip().split(',')\n",
    "    pilotos.append(piloto)\n",
    "fonte.close()\n",
    "print(pilotos)"
   ]
  }
 ],
 "metadata": {
  "kernelspec": {
   "display_name": "Python 3 (ipykernel)",
   "language": "python",
   "name": "python3"
  },
  "language_info": {
   "codemirror_mode": {
    "name": "ipython",
    "version": 3
   },
   "file_extension": ".py",
   "mimetype": "text/x-python",
   "name": "python",
   "nbconvert_exporter": "python",
   "pygments_lexer": "ipython3",
   "version": "3.9.13"
  }
 },
 "nbformat": 4,
 "nbformat_minor": 5
}
