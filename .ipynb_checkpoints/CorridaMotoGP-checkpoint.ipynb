{
 "cells": [
  {
   "cell_type": "code",
   "execution_count": 1,
   "id": "2efd00d0-cd1a-4eca-ae62-3df2409ebcde",
   "metadata": {},
   "outputs": [
    {
     "name": "stdout",
     "output_type": "stream",
     "text": [
      "[1, ['93', 'Marc Marquez', 'ES', 'Repsol Honda Team', 'Honda'], 'Portugal', 2, ['30', 'Takaaki Nakagami', 'JP', 'LCR Honda IDEMITSU', 'Honda'], 'Portugal', 3, ['49', 'Fabio Di Giannantonio', 'IT', 'Gresini Racing MotoGP', 'Ducati'], 'Portugal', 4, ['35', 'Cal Crutchlow', 'GB', 'WithU Yamaha RNF MotoGP Team', 'Yamaha'], 'Portugal', 5, ['4', 'Andrea Dovizioso', 'IT', 'WithU Yamaha RNF MotoGP Team', 'Yamaha'], 'Portugal', 6, ['23', 'Enea Bastianini', 'IT', 'Gresini Racing MotoGP', 'Ducati'], 'Portugal', 7, ['44', 'Pol Espargaro', 'ES', 'Repsol Honda Team', 'Honda'], 'Portugal', 8, ['88', 'Miguel Oliveira', 'PT', 'Red Bull KTM Factory Racing', 'KTM'], 'Portugal', 9, ['51', 'Michele Pirro', 'IT', 'Aruba.it Racing', 'Ducati'], 'Portugal', 10, ['63', 'Francesco Bagnaia', 'IT', 'Ducati Lenovo Team', 'Ducati'], 'Portugal', 11, ['20', 'Fabio Quartararo', 'FR', 'Monster Energy Yamaha MotoGP', 'Yamaha'], 'Portugal', 12, ['9', 'Danilo Petrucci', 'IT', 'Team SUZUKI ECSTAR', 'Suzuki'], 'Portugal', 13, ['5', 'Johann Zarco', 'FR', 'Prima Pramac Racing', 'Ducati'], 'Portugal', 14, ['45', 'Tetsuta Nagashima', 'JP', 'LCR Honda IDEMITSU', 'Honda'], 'Portugal', 15, ['72', 'Marco Bezzecchi', 'IT', 'Mooney VR46 Racing Team', 'Ducati'], 'Portugal', 16, ['32', 'Lorenzo Savadori', 'IT', 'Aprilia Racing', 'Aprilia'], 'Portugal']\n",
      "[1, ['93', 'Marc Marquez', 'ES', 'Repsol Honda Team', 'Honda'], 'Portugal', 2, ['30', 'Takaaki Nakagami', 'JP', 'LCR Honda IDEMITSU', 'Honda'], 'Portugal', 3, ['49', 'Fabio Di Giannantonio', 'IT', 'Gresini Racing MotoGP', 'Ducati'], 'Portugal', 4, ['35', 'Cal Crutchlow', 'GB', 'WithU Yamaha RNF MotoGP Team', 'Yamaha'], 'Portugal', 5, ['4', 'Andrea Dovizioso', 'IT', 'WithU Yamaha RNF MotoGP Team', 'Yamaha'], 'Portugal', 6, ['23', 'Enea Bastianini', 'IT', 'Gresini Racing MotoGP', 'Ducati'], 'Portugal', 7, ['44', 'Pol Espargaro', 'ES', 'Repsol Honda Team', 'Honda'], 'Portugal', 8, ['88', 'Miguel Oliveira', 'PT', 'Red Bull KTM Factory Racing', 'KTM'], 'Portugal', 9, ['51', 'Michele Pirro', 'IT', 'Aruba.it Racing', 'Ducati'], 'Portugal', 10, ['63', 'Francesco Bagnaia', 'IT', 'Ducati Lenovo Team', 'Ducati'], 'Portugal', 11, ['20', 'Fabio Quartararo', 'FR', 'Monster Energy Yamaha MotoGP', 'Yamaha'], 'Portugal', 12, ['9', 'Danilo Petrucci', 'IT', 'Team SUZUKI ECSTAR', 'Suzuki'], 'Portugal', 13, ['5', 'Johann Zarco', 'FR', 'Prima Pramac Racing', 'Ducati'], 'Portugal', 14, ['45', 'Tetsuta Nagashima', 'JP', 'LCR Honda IDEMITSU', 'Honda'], 'Portugal', 15, ['72', 'Marco Bezzecchi', 'IT', 'Mooney VR46 Racing Team', 'Ducati'], 'Portugal', 16, ['32', 'Lorenzo Savadori', 'IT', 'Aprilia Racing', 'Aprilia'], 'Portugal', 17, ['6', 'Stefan Bradl', 'DE', 'Repsol Honda Team', 'Honda'], 'Monaco', 18, ['42', 'Alex Rins', 'ES', 'Team SUZUKI ECSTAR', 'Suzuki'], 'Monaco', 19, ['41', 'Aleix Espargaro', 'ES', 'Aprilia Racing', 'Aprilia'], 'Monaco', 20, ['40', 'Darryn Binder', 'ZA', 'WithU Yamaha RNF MotoGP Team', 'Yamaha'], 'Monaco', 21, ['36', 'Joan Mir', 'ES', 'Team SUZUKI ECSTAR', 'Suzuki'], 'Monaco', 22, ['12', 'Maverick ViÃ±ales', 'ES', 'Aprilia Racing', 'Aprilia'], 'Monaco', 23, ['10', 'Luca Marini', 'IT', 'Mooney VR46 Racing Team', 'Ducati'], 'Monaco', 24, ['21', 'Franco Morbidelli', 'IT', 'Monster Energy Yamaha MotoGP', 'Yamaha'], 'Monaco']\n",
      "[1, ['93', 'Marc Marquez', 'ES', 'Repsol Honda Team', 'Honda'], 'Portugal', 2, ['30', 'Takaaki Nakagami', 'JP', 'LCR Honda IDEMITSU', 'Honda'], 'Portugal', 3, ['49', 'Fabio Di Giannantonio', 'IT', 'Gresini Racing MotoGP', 'Ducati'], 'Portugal', 4, ['35', 'Cal Crutchlow', 'GB', 'WithU Yamaha RNF MotoGP Team', 'Yamaha'], 'Portugal', 5, ['4', 'Andrea Dovizioso', 'IT', 'WithU Yamaha RNF MotoGP Team', 'Yamaha'], 'Portugal', 6, ['23', 'Enea Bastianini', 'IT', 'Gresini Racing MotoGP', 'Ducati'], 'Portugal', 7, ['44', 'Pol Espargaro', 'ES', 'Repsol Honda Team', 'Honda'], 'Portugal', 8, ['88', 'Miguel Oliveira', 'PT', 'Red Bull KTM Factory Racing', 'KTM'], 'Portugal', 9, ['51', 'Michele Pirro', 'IT', 'Aruba.it Racing', 'Ducati'], 'Portugal', 10, ['63', 'Francesco Bagnaia', 'IT', 'Ducati Lenovo Team', 'Ducati'], 'Portugal', 11, ['20', 'Fabio Quartararo', 'FR', 'Monster Energy Yamaha MotoGP', 'Yamaha'], 'Portugal', 12, ['9', 'Danilo Petrucci', 'IT', 'Team SUZUKI ECSTAR', 'Suzuki'], 'Portugal', 13, ['5', 'Johann Zarco', 'FR', 'Prima Pramac Racing', 'Ducati'], 'Portugal', 14, ['45', 'Tetsuta Nagashima', 'JP', 'LCR Honda IDEMITSU', 'Honda'], 'Portugal', 15, ['72', 'Marco Bezzecchi', 'IT', 'Mooney VR46 Racing Team', 'Ducati'], 'Portugal', 16, ['32', 'Lorenzo Savadori', 'IT', 'Aprilia Racing', 'Aprilia'], 'Portugal', 17, ['6', 'Stefan Bradl', 'DE', 'Repsol Honda Team', 'Honda'], 'Monaco', 18, ['42', 'Alex Rins', 'ES', 'Team SUZUKI ECSTAR', 'Suzuki'], 'Monaco', 19, ['41', 'Aleix Espargaro', 'ES', 'Aprilia Racing', 'Aprilia'], 'Monaco', 20, ['40', 'Darryn Binder', 'ZA', 'WithU Yamaha RNF MotoGP Team', 'Yamaha'], 'Monaco', 21, ['36', 'Joan Mir', 'ES', 'Team SUZUKI ECSTAR', 'Suzuki'], 'Monaco', 22, ['12', 'Maverick ViÃ±ales', 'ES', 'Aprilia Racing', 'Aprilia'], 'Monaco', 23, ['10', 'Luca Marini', 'IT', 'Mooney VR46 Racing Team', 'Ducati'], 'Monaco', 24, ['21', 'Franco Morbidelli', 'IT', 'Monster Energy Yamaha MotoGP', 'Yamaha'], 'Monaco', 25, ['92', 'Kazuki Watanabe', 'JP', 'Team SUZUKI ECSTAR', 'Suzuki'], 'Itália', 26, ['73', 'Alex Marquez', 'ES', 'LCR Honda CASTROL', 'Honda'], 'Itália', 27, ['25', 'Raul Fernandez', 'ES', 'Tech3 KTM Factory Racing', 'KTM'], 'Itália', 28, ['89', 'Jorge Martin', 'ES', 'Prima Pramac Racing', 'Ducati'], 'Itália']\n",
      "[1, ['93', 'Marc Marquez', 'ES', 'Repsol Honda Team', 'Honda'], 'Portugal', 2, ['30', 'Takaaki Nakagami', 'JP', 'LCR Honda IDEMITSU', 'Honda'], 'Portugal', 3, ['49', 'Fabio Di Giannantonio', 'IT', 'Gresini Racing MotoGP', 'Ducati'], 'Portugal', 4, ['35', 'Cal Crutchlow', 'GB', 'WithU Yamaha RNF MotoGP Team', 'Yamaha'], 'Portugal', 5, ['4', 'Andrea Dovizioso', 'IT', 'WithU Yamaha RNF MotoGP Team', 'Yamaha'], 'Portugal', 6, ['23', 'Enea Bastianini', 'IT', 'Gresini Racing MotoGP', 'Ducati'], 'Portugal', 7, ['44', 'Pol Espargaro', 'ES', 'Repsol Honda Team', 'Honda'], 'Portugal', 8, ['88', 'Miguel Oliveira', 'PT', 'Red Bull KTM Factory Racing', 'KTM'], 'Portugal', 9, ['51', 'Michele Pirro', 'IT', 'Aruba.it Racing', 'Ducati'], 'Portugal', 10, ['63', 'Francesco Bagnaia', 'IT', 'Ducati Lenovo Team', 'Ducati'], 'Portugal', 11, ['20', 'Fabio Quartararo', 'FR', 'Monster Energy Yamaha MotoGP', 'Yamaha'], 'Portugal', 12, ['9', 'Danilo Petrucci', 'IT', 'Team SUZUKI ECSTAR', 'Suzuki'], 'Portugal', 13, ['5', 'Johann Zarco', 'FR', 'Prima Pramac Racing', 'Ducati'], 'Portugal', 14, ['45', 'Tetsuta Nagashima', 'JP', 'LCR Honda IDEMITSU', 'Honda'], 'Portugal', 15, ['72', 'Marco Bezzecchi', 'IT', 'Mooney VR46 Racing Team', 'Ducati'], 'Portugal', 16, ['32', 'Lorenzo Savadori', 'IT', 'Aprilia Racing', 'Aprilia'], 'Portugal', 17, ['6', 'Stefan Bradl', 'DE', 'Repsol Honda Team', 'Honda'], 'Monaco', 18, ['42', 'Alex Rins', 'ES', 'Team SUZUKI ECSTAR', 'Suzuki'], 'Monaco', 19, ['41', 'Aleix Espargaro', 'ES', 'Aprilia Racing', 'Aprilia'], 'Monaco', 20, ['40', 'Darryn Binder', 'ZA', 'WithU Yamaha RNF MotoGP Team', 'Yamaha'], 'Monaco', 21, ['36', 'Joan Mir', 'ES', 'Team SUZUKI ECSTAR', 'Suzuki'], 'Monaco', 22, ['12', 'Maverick ViÃ±ales', 'ES', 'Aprilia Racing', 'Aprilia'], 'Monaco', 23, ['10', 'Luca Marini', 'IT', 'Mooney VR46 Racing Team', 'Ducati'], 'Monaco', 24, ['21', 'Franco Morbidelli', 'IT', 'Monster Energy Yamaha MotoGP', 'Yamaha'], 'Monaco', 25, ['92', 'Kazuki Watanabe', 'JP', 'Team SUZUKI ECSTAR', 'Suzuki'], 'Itália', 26, ['73', 'Alex Marquez', 'ES', 'LCR Honda CASTROL', 'Honda'], 'Itália', 27, ['25', 'Raul Fernandez', 'ES', 'Tech3 KTM Factory Racing', 'KTM'], 'Itália', 28, ['89', 'Jorge Martin', 'ES', 'Prima Pramac Racing', 'Ducati'], 'Itália', 29, ['43', 'Jack Miller', 'AU', 'Ducati Lenovo Team', 'Ducati'], 'França', 30, ['33', 'Brad Binder', 'ZA', 'Red Bull KTM Factory Racing', 'KTM'], 'França']\n",
      "[1, ['93', 'Marc Marquez', 'ES', 'Repsol Honda Team', 'Honda'], 'Portugal', 2, ['30', 'Takaaki Nakagami', 'JP', 'LCR Honda IDEMITSU', 'Honda'], 'Portugal', 3, ['49', 'Fabio Di Giannantonio', 'IT', 'Gresini Racing MotoGP', 'Ducati'], 'Portugal', 4, ['35', 'Cal Crutchlow', 'GB', 'WithU Yamaha RNF MotoGP Team', 'Yamaha'], 'Portugal', 5, ['4', 'Andrea Dovizioso', 'IT', 'WithU Yamaha RNF MotoGP Team', 'Yamaha'], 'Portugal', 6, ['23', 'Enea Bastianini', 'IT', 'Gresini Racing MotoGP', 'Ducati'], 'Portugal', 7, ['44', 'Pol Espargaro', 'ES', 'Repsol Honda Team', 'Honda'], 'Portugal', 8, ['88', 'Miguel Oliveira', 'PT', 'Red Bull KTM Factory Racing', 'KTM'], 'Portugal', 9, ['51', 'Michele Pirro', 'IT', 'Aruba.it Racing', 'Ducati'], 'Portugal', 10, ['63', 'Francesco Bagnaia', 'IT', 'Ducati Lenovo Team', 'Ducati'], 'Portugal', 11, ['20', 'Fabio Quartararo', 'FR', 'Monster Energy Yamaha MotoGP', 'Yamaha'], 'Portugal', 12, ['9', 'Danilo Petrucci', 'IT', 'Team SUZUKI ECSTAR', 'Suzuki'], 'Portugal', 13, ['5', 'Johann Zarco', 'FR', 'Prima Pramac Racing', 'Ducati'], 'Portugal', 14, ['45', 'Tetsuta Nagashima', 'JP', 'LCR Honda IDEMITSU', 'Honda'], 'Portugal', 15, ['72', 'Marco Bezzecchi', 'IT', 'Mooney VR46 Racing Team', 'Ducati'], 'Portugal', 16, ['32', 'Lorenzo Savadori', 'IT', 'Aprilia Racing', 'Aprilia'], 'Portugal', 17, ['6', 'Stefan Bradl', 'DE', 'Repsol Honda Team', 'Honda'], 'Monaco', 18, ['42', 'Alex Rins', 'ES', 'Team SUZUKI ECSTAR', 'Suzuki'], 'Monaco', 19, ['41', 'Aleix Espargaro', 'ES', 'Aprilia Racing', 'Aprilia'], 'Monaco', 20, ['40', 'Darryn Binder', 'ZA', 'WithU Yamaha RNF MotoGP Team', 'Yamaha'], 'Monaco', 21, ['36', 'Joan Mir', 'ES', 'Team SUZUKI ECSTAR', 'Suzuki'], 'Monaco', 22, ['12', 'Maverick ViÃ±ales', 'ES', 'Aprilia Racing', 'Aprilia'], 'Monaco', 23, ['10', 'Luca Marini', 'IT', 'Mooney VR46 Racing Team', 'Ducati'], 'Monaco', 24, ['21', 'Franco Morbidelli', 'IT', 'Monster Energy Yamaha MotoGP', 'Yamaha'], 'Monaco', 25, ['92', 'Kazuki Watanabe', 'JP', 'Team SUZUKI ECSTAR', 'Suzuki'], 'Itália', 26, ['73', 'Alex Marquez', 'ES', 'LCR Honda CASTROL', 'Honda'], 'Itália', 27, ['25', 'Raul Fernandez', 'ES', 'Tech3 KTM Factory Racing', 'KTM'], 'Itália', 28, ['89', 'Jorge Martin', 'ES', 'Prima Pramac Racing', 'Ducati'], 'Itália', 29, ['43', 'Jack Miller', 'AU', 'Ducati Lenovo Team', 'Ducati'], 'França', 30, ['33', 'Brad Binder', 'ZA', 'Red Bull KTM Factory Racing', 'KTM'], 'França', 31, ['87', 'Remy Gardner', 'AU', 'Tech3 KTM Factory Racing', 'KTM'], 'Espanha']\n",
      "[1, ['93', 'Marc Marquez', 'ES', 'Repsol Honda Team', 'Honda'], 'Portugal', 2, ['30', 'Takaaki Nakagami', 'JP', 'LCR Honda IDEMITSU', 'Honda'], 'Portugal', 3, ['49', 'Fabio Di Giannantonio', 'IT', 'Gresini Racing MotoGP', 'Ducati'], 'Portugal', 4, ['35', 'Cal Crutchlow', 'GB', 'WithU Yamaha RNF MotoGP Team', 'Yamaha'], 'Portugal', 5, ['4', 'Andrea Dovizioso', 'IT', 'WithU Yamaha RNF MotoGP Team', 'Yamaha'], 'Portugal', 6, ['23', 'Enea Bastianini', 'IT', 'Gresini Racing MotoGP', 'Ducati'], 'Portugal', 7, ['44', 'Pol Espargaro', 'ES', 'Repsol Honda Team', 'Honda'], 'Portugal', 8, ['88', 'Miguel Oliveira', 'PT', 'Red Bull KTM Factory Racing', 'KTM'], 'Portugal', 9, ['51', 'Michele Pirro', 'IT', 'Aruba.it Racing', 'Ducati'], 'Portugal', 10, ['63', 'Francesco Bagnaia', 'IT', 'Ducati Lenovo Team', 'Ducati'], 'Portugal', 11, ['20', 'Fabio Quartararo', 'FR', 'Monster Energy Yamaha MotoGP', 'Yamaha'], 'Portugal', 12, ['9', 'Danilo Petrucci', 'IT', 'Team SUZUKI ECSTAR', 'Suzuki'], 'Portugal', 13, ['5', 'Johann Zarco', 'FR', 'Prima Pramac Racing', 'Ducati'], 'Portugal', 14, ['45', 'Tetsuta Nagashima', 'JP', 'LCR Honda IDEMITSU', 'Honda'], 'Portugal', 15, ['72', 'Marco Bezzecchi', 'IT', 'Mooney VR46 Racing Team', 'Ducati'], 'Portugal', 16, ['32', 'Lorenzo Savadori', 'IT', 'Aprilia Racing', 'Aprilia'], 'Portugal', 17, ['6', 'Stefan Bradl', 'DE', 'Repsol Honda Team', 'Honda'], 'Monaco', 18, ['42', 'Alex Rins', 'ES', 'Team SUZUKI ECSTAR', 'Suzuki'], 'Monaco', 19, ['41', 'Aleix Espargaro', 'ES', 'Aprilia Racing', 'Aprilia'], 'Monaco', 20, ['40', 'Darryn Binder', 'ZA', 'WithU Yamaha RNF MotoGP Team', 'Yamaha'], 'Monaco', 21, ['36', 'Joan Mir', 'ES', 'Team SUZUKI ECSTAR', 'Suzuki'], 'Monaco', 22, ['12', 'Maverick ViÃ±ales', 'ES', 'Aprilia Racing', 'Aprilia'], 'Monaco', 23, ['10', 'Luca Marini', 'IT', 'Mooney VR46 Racing Team', 'Ducati'], 'Monaco', 24, ['21', 'Franco Morbidelli', 'IT', 'Monster Energy Yamaha MotoGP', 'Yamaha'], 'Monaco', 25, ['92', 'Kazuki Watanabe', 'JP', 'Team SUZUKI ECSTAR', 'Suzuki'], 'Itália', 26, ['73', 'Alex Marquez', 'ES', 'LCR Honda CASTROL', 'Honda'], 'Itália', 27, ['25', 'Raul Fernandez', 'ES', 'Tech3 KTM Factory Racing', 'KTM'], 'Itália', 28, ['89', 'Jorge Martin', 'ES', 'Prima Pramac Racing', 'Ducati'], 'Itália', 29, ['43', 'Jack Miller', 'AU', 'Ducati Lenovo Team', 'Ducati'], 'França', 30, ['33', 'Brad Binder', 'ZA', 'Red Bull KTM Factory Racing', 'KTM'], 'França', 31, ['87', 'Remy Gardner', 'AU', 'Tech3 KTM Factory Racing', 'KTM'], 'Espanha']\n",
      "[1, ['93', 'Marc Marquez', 'ES', 'Repsol Honda Team', 'Honda'], 'Portugal', 2, ['30', 'Takaaki Nakagami', 'JP', 'LCR Honda IDEMITSU', 'Honda'], 'Portugal', 3, ['49', 'Fabio Di Giannantonio', 'IT', 'Gresini Racing MotoGP', 'Ducati'], 'Portugal', 4, ['35', 'Cal Crutchlow', 'GB', 'WithU Yamaha RNF MotoGP Team', 'Yamaha'], 'Portugal', 5, ['4', 'Andrea Dovizioso', 'IT', 'WithU Yamaha RNF MotoGP Team', 'Yamaha'], 'Portugal', 6, ['23', 'Enea Bastianini', 'IT', 'Gresini Racing MotoGP', 'Ducati'], 'Portugal', 7, ['44', 'Pol Espargaro', 'ES', 'Repsol Honda Team', 'Honda'], 'Portugal', 8, ['88', 'Miguel Oliveira', 'PT', 'Red Bull KTM Factory Racing', 'KTM'], 'Portugal', 9, ['51', 'Michele Pirro', 'IT', 'Aruba.it Racing', 'Ducati'], 'Portugal', 10, ['63', 'Francesco Bagnaia', 'IT', 'Ducati Lenovo Team', 'Ducati'], 'Portugal', 11, ['20', 'Fabio Quartararo', 'FR', 'Monster Energy Yamaha MotoGP', 'Yamaha'], 'Portugal', 12, ['9', 'Danilo Petrucci', 'IT', 'Team SUZUKI ECSTAR', 'Suzuki'], 'Portugal', 13, ['5', 'Johann Zarco', 'FR', 'Prima Pramac Racing', 'Ducati'], 'Portugal', 14, ['45', 'Tetsuta Nagashima', 'JP', 'LCR Honda IDEMITSU', 'Honda'], 'Portugal', 15, ['72', 'Marco Bezzecchi', 'IT', 'Mooney VR46 Racing Team', 'Ducati'], 'Portugal', 16, ['32', 'Lorenzo Savadori', 'IT', 'Aprilia Racing', 'Aprilia'], 'Portugal', 17, ['6', 'Stefan Bradl', 'DE', 'Repsol Honda Team', 'Honda'], 'Monaco', 18, ['42', 'Alex Rins', 'ES', 'Team SUZUKI ECSTAR', 'Suzuki'], 'Monaco', 19, ['41', 'Aleix Espargaro', 'ES', 'Aprilia Racing', 'Aprilia'], 'Monaco', 20, ['40', 'Darryn Binder', 'ZA', 'WithU Yamaha RNF MotoGP Team', 'Yamaha'], 'Monaco', 21, ['36', 'Joan Mir', 'ES', 'Team SUZUKI ECSTAR', 'Suzuki'], 'Monaco', 22, ['12', 'Maverick ViÃ±ales', 'ES', 'Aprilia Racing', 'Aprilia'], 'Monaco', 23, ['10', 'Luca Marini', 'IT', 'Mooney VR46 Racing Team', 'Ducati'], 'Monaco', 24, ['21', 'Franco Morbidelli', 'IT', 'Monster Energy Yamaha MotoGP', 'Yamaha'], 'Monaco', 25, ['92', 'Kazuki Watanabe', 'JP', 'Team SUZUKI ECSTAR', 'Suzuki'], 'Itália', 26, ['73', 'Alex Marquez', 'ES', 'LCR Honda CASTROL', 'Honda'], 'Itália', 27, ['25', 'Raul Fernandez', 'ES', 'Tech3 KTM Factory Racing', 'KTM'], 'Itália', 28, ['89', 'Jorge Martin', 'ES', 'Prima Pramac Racing', 'Ducati'], 'Itália', 29, ['43', 'Jack Miller', 'AU', 'Ducati Lenovo Team', 'Ducati'], 'França', 30, ['33', 'Brad Binder', 'ZA', 'Red Bull KTM Factory Racing', 'KTM'], 'França', 31, ['87', 'Remy Gardner', 'AU', 'Tech3 KTM Factory Racing', 'KTM'], 'Espanha']\n",
      "[1, ['93', 'Marc Marquez', 'ES', 'Repsol Honda Team', 'Honda'], 'Portugal', 2, ['30', 'Takaaki Nakagami', 'JP', 'LCR Honda IDEMITSU', 'Honda'], 'Portugal', 3, ['49', 'Fabio Di Giannantonio', 'IT', 'Gresini Racing MotoGP', 'Ducati'], 'Portugal', 4, ['35', 'Cal Crutchlow', 'GB', 'WithU Yamaha RNF MotoGP Team', 'Yamaha'], 'Portugal', 5, ['4', 'Andrea Dovizioso', 'IT', 'WithU Yamaha RNF MotoGP Team', 'Yamaha'], 'Portugal', 6, ['23', 'Enea Bastianini', 'IT', 'Gresini Racing MotoGP', 'Ducati'], 'Portugal', 7, ['44', 'Pol Espargaro', 'ES', 'Repsol Honda Team', 'Honda'], 'Portugal', 8, ['88', 'Miguel Oliveira', 'PT', 'Red Bull KTM Factory Racing', 'KTM'], 'Portugal', 9, ['51', 'Michele Pirro', 'IT', 'Aruba.it Racing', 'Ducati'], 'Portugal', 10, ['63', 'Francesco Bagnaia', 'IT', 'Ducati Lenovo Team', 'Ducati'], 'Portugal', 11, ['20', 'Fabio Quartararo', 'FR', 'Monster Energy Yamaha MotoGP', 'Yamaha'], 'Portugal', 12, ['9', 'Danilo Petrucci', 'IT', 'Team SUZUKI ECSTAR', 'Suzuki'], 'Portugal', 13, ['5', 'Johann Zarco', 'FR', 'Prima Pramac Racing', 'Ducati'], 'Portugal', 14, ['45', 'Tetsuta Nagashima', 'JP', 'LCR Honda IDEMITSU', 'Honda'], 'Portugal', 15, ['72', 'Marco Bezzecchi', 'IT', 'Mooney VR46 Racing Team', 'Ducati'], 'Portugal', 16, ['32', 'Lorenzo Savadori', 'IT', 'Aprilia Racing', 'Aprilia'], 'Portugal', 17, ['6', 'Stefan Bradl', 'DE', 'Repsol Honda Team', 'Honda'], 'Monaco', 18, ['42', 'Alex Rins', 'ES', 'Team SUZUKI ECSTAR', 'Suzuki'], 'Monaco', 19, ['41', 'Aleix Espargaro', 'ES', 'Aprilia Racing', 'Aprilia'], 'Monaco', 20, ['40', 'Darryn Binder', 'ZA', 'WithU Yamaha RNF MotoGP Team', 'Yamaha'], 'Monaco', 21, ['36', 'Joan Mir', 'ES', 'Team SUZUKI ECSTAR', 'Suzuki'], 'Monaco', 22, ['12', 'Maverick ViÃ±ales', 'ES', 'Aprilia Racing', 'Aprilia'], 'Monaco', 23, ['10', 'Luca Marini', 'IT', 'Mooney VR46 Racing Team', 'Ducati'], 'Monaco', 24, ['21', 'Franco Morbidelli', 'IT', 'Monster Energy Yamaha MotoGP', 'Yamaha'], 'Monaco', 25, ['92', 'Kazuki Watanabe', 'JP', 'Team SUZUKI ECSTAR', 'Suzuki'], 'Itália', 26, ['73', 'Alex Marquez', 'ES', 'LCR Honda CASTROL', 'Honda'], 'Itália', 27, ['25', 'Raul Fernandez', 'ES', 'Tech3 KTM Factory Racing', 'KTM'], 'Itália', 28, ['89', 'Jorge Martin', 'ES', 'Prima Pramac Racing', 'Ducati'], 'Itália', 29, ['43', 'Jack Miller', 'AU', 'Ducati Lenovo Team', 'Ducati'], 'França', 30, ['33', 'Brad Binder', 'ZA', 'Red Bull KTM Factory Racing', 'KTM'], 'França', 31, ['87', 'Remy Gardner', 'AU', 'Tech3 KTM Factory Racing', 'KTM'], 'Espanha']\n",
      "[1, ['93', 'Marc Marquez', 'ES', 'Repsol Honda Team', 'Honda'], 'Portugal', 2, ['30', 'Takaaki Nakagami', 'JP', 'LCR Honda IDEMITSU', 'Honda'], 'Portugal', 3, ['49', 'Fabio Di Giannantonio', 'IT', 'Gresini Racing MotoGP', 'Ducati'], 'Portugal', 4, ['35', 'Cal Crutchlow', 'GB', 'WithU Yamaha RNF MotoGP Team', 'Yamaha'], 'Portugal', 5, ['4', 'Andrea Dovizioso', 'IT', 'WithU Yamaha RNF MotoGP Team', 'Yamaha'], 'Portugal', 6, ['23', 'Enea Bastianini', 'IT', 'Gresini Racing MotoGP', 'Ducati'], 'Portugal', 7, ['44', 'Pol Espargaro', 'ES', 'Repsol Honda Team', 'Honda'], 'Portugal', 8, ['88', 'Miguel Oliveira', 'PT', 'Red Bull KTM Factory Racing', 'KTM'], 'Portugal', 9, ['51', 'Michele Pirro', 'IT', 'Aruba.it Racing', 'Ducati'], 'Portugal', 10, ['63', 'Francesco Bagnaia', 'IT', 'Ducati Lenovo Team', 'Ducati'], 'Portugal', 11, ['20', 'Fabio Quartararo', 'FR', 'Monster Energy Yamaha MotoGP', 'Yamaha'], 'Portugal', 12, ['9', 'Danilo Petrucci', 'IT', 'Team SUZUKI ECSTAR', 'Suzuki'], 'Portugal', 13, ['5', 'Johann Zarco', 'FR', 'Prima Pramac Racing', 'Ducati'], 'Portugal', 14, ['45', 'Tetsuta Nagashima', 'JP', 'LCR Honda IDEMITSU', 'Honda'], 'Portugal', 15, ['72', 'Marco Bezzecchi', 'IT', 'Mooney VR46 Racing Team', 'Ducati'], 'Portugal', 16, ['32', 'Lorenzo Savadori', 'IT', 'Aprilia Racing', 'Aprilia'], 'Portugal', 17, ['6', 'Stefan Bradl', 'DE', 'Repsol Honda Team', 'Honda'], 'Monaco', 18, ['42', 'Alex Rins', 'ES', 'Team SUZUKI ECSTAR', 'Suzuki'], 'Monaco', 19, ['41', 'Aleix Espargaro', 'ES', 'Aprilia Racing', 'Aprilia'], 'Monaco', 20, ['40', 'Darryn Binder', 'ZA', 'WithU Yamaha RNF MotoGP Team', 'Yamaha'], 'Monaco', 21, ['36', 'Joan Mir', 'ES', 'Team SUZUKI ECSTAR', 'Suzuki'], 'Monaco', 22, ['12', 'Maverick ViÃ±ales', 'ES', 'Aprilia Racing', 'Aprilia'], 'Monaco', 23, ['10', 'Luca Marini', 'IT', 'Mooney VR46 Racing Team', 'Ducati'], 'Monaco', 24, ['21', 'Franco Morbidelli', 'IT', 'Monster Energy Yamaha MotoGP', 'Yamaha'], 'Monaco', 25, ['92', 'Kazuki Watanabe', 'JP', 'Team SUZUKI ECSTAR', 'Suzuki'], 'Itália', 26, ['73', 'Alex Marquez', 'ES', 'LCR Honda CASTROL', 'Honda'], 'Itália', 27, ['25', 'Raul Fernandez', 'ES', 'Tech3 KTM Factory Racing', 'KTM'], 'Itália', 28, ['89', 'Jorge Martin', 'ES', 'Prima Pramac Racing', 'Ducati'], 'Itália', 29, ['43', 'Jack Miller', 'AU', 'Ducati Lenovo Team', 'Ducati'], 'França', 30, ['33', 'Brad Binder', 'ZA', 'Red Bull KTM Factory Racing', 'KTM'], 'França', 31, ['87', 'Remy Gardner', 'AU', 'Tech3 KTM Factory Racing', 'KTM'], 'Espanha']\n",
      "[1, ['93', 'Marc Marquez', 'ES', 'Repsol Honda Team', 'Honda'], 'Portugal', 2, ['30', 'Takaaki Nakagami', 'JP', 'LCR Honda IDEMITSU', 'Honda'], 'Portugal', 3, ['49', 'Fabio Di Giannantonio', 'IT', 'Gresini Racing MotoGP', 'Ducati'], 'Portugal', 4, ['35', 'Cal Crutchlow', 'GB', 'WithU Yamaha RNF MotoGP Team', 'Yamaha'], 'Portugal', 5, ['4', 'Andrea Dovizioso', 'IT', 'WithU Yamaha RNF MotoGP Team', 'Yamaha'], 'Portugal', 6, ['23', 'Enea Bastianini', 'IT', 'Gresini Racing MotoGP', 'Ducati'], 'Portugal', 7, ['44', 'Pol Espargaro', 'ES', 'Repsol Honda Team', 'Honda'], 'Portugal', 8, ['88', 'Miguel Oliveira', 'PT', 'Red Bull KTM Factory Racing', 'KTM'], 'Portugal', 9, ['51', 'Michele Pirro', 'IT', 'Aruba.it Racing', 'Ducati'], 'Portugal', 10, ['63', 'Francesco Bagnaia', 'IT', 'Ducati Lenovo Team', 'Ducati'], 'Portugal', 11, ['20', 'Fabio Quartararo', 'FR', 'Monster Energy Yamaha MotoGP', 'Yamaha'], 'Portugal', 12, ['9', 'Danilo Petrucci', 'IT', 'Team SUZUKI ECSTAR', 'Suzuki'], 'Portugal', 13, ['5', 'Johann Zarco', 'FR', 'Prima Pramac Racing', 'Ducati'], 'Portugal', 14, ['45', 'Tetsuta Nagashima', 'JP', 'LCR Honda IDEMITSU', 'Honda'], 'Portugal', 15, ['72', 'Marco Bezzecchi', 'IT', 'Mooney VR46 Racing Team', 'Ducati'], 'Portugal', 16, ['32', 'Lorenzo Savadori', 'IT', 'Aprilia Racing', 'Aprilia'], 'Portugal', 17, ['6', 'Stefan Bradl', 'DE', 'Repsol Honda Team', 'Honda'], 'Monaco', 18, ['42', 'Alex Rins', 'ES', 'Team SUZUKI ECSTAR', 'Suzuki'], 'Monaco', 19, ['41', 'Aleix Espargaro', 'ES', 'Aprilia Racing', 'Aprilia'], 'Monaco', 20, ['40', 'Darryn Binder', 'ZA', 'WithU Yamaha RNF MotoGP Team', 'Yamaha'], 'Monaco', 21, ['36', 'Joan Mir', 'ES', 'Team SUZUKI ECSTAR', 'Suzuki'], 'Monaco', 22, ['12', 'Maverick ViÃ±ales', 'ES', 'Aprilia Racing', 'Aprilia'], 'Monaco', 23, ['10', 'Luca Marini', 'IT', 'Mooney VR46 Racing Team', 'Ducati'], 'Monaco', 24, ['21', 'Franco Morbidelli', 'IT', 'Monster Energy Yamaha MotoGP', 'Yamaha'], 'Monaco', 25, ['92', 'Kazuki Watanabe', 'JP', 'Team SUZUKI ECSTAR', 'Suzuki'], 'Itália', 26, ['73', 'Alex Marquez', 'ES', 'LCR Honda CASTROL', 'Honda'], 'Itália', 27, ['25', 'Raul Fernandez', 'ES', 'Tech3 KTM Factory Racing', 'KTM'], 'Itália', 28, ['89', 'Jorge Martin', 'ES', 'Prima Pramac Racing', 'Ducati'], 'Itália', 29, ['43', 'Jack Miller', 'AU', 'Ducati Lenovo Team', 'Ducati'], 'França', 30, ['33', 'Brad Binder', 'ZA', 'Red Bull KTM Factory Racing', 'KTM'], 'França', 31, ['87', 'Remy Gardner', 'AU', 'Tech3 KTM Factory Racing', 'KTM'], 'Espanha']\n"
     ]
    },
    {
     "data": {
      "text/plain": [
       "'        for piloto in corrida:\\n            corrida[j][0] = j+1\\n            corrida[j][1] = gd_premio[y]'"
      ]
     },
     "execution_count": 1,
     "metadata": {},
     "output_type": "execute_result"
    }
   ],
   "source": [
    "import random\n",
    "\n",
    "fonte = open(\"../../jupyter/Desafio_2/Pilotos_2022.txt\",'r')\n",
    "pilotos = []\n",
    "vencedores = []\n",
    "corrida = []\n",
    "total = 0\n",
    "gd_premio = ['Portugal', 'Monaco', 'Itália', 'França', 'Espanha', 'Argentine', 'México', 'Holanda', 'Inglaterra', 'Alemanha']\n",
    "i=0\n",
    "z=0\n",
    "y=0\n",
    "j=0\n",
    "for x in fonte:\n",
    "#    numero, pais, piloto = linha.strip().split(',')\n",
    "    piloto = x.strip().split(',')\n",
    "    pilotos.append(piloto)\n",
    "fonte.close()\n",
    "#print(pilotos)\n",
    "for x in gd_premio:\n",
    "    \n",
    "    for z in pilotos:\n",
    "        rand_piloto = random.choice(pilotos)\n",
    "        pilotos.remove(rand_piloto)\n",
    "        corrida.append(i+1)\n",
    "        corrida.append(rand_piloto)\n",
    "        i+=1\n",
    "        corrida.append(x)\n",
    "#    j+=1\n",
    "    print(corrida)\n",
    "'''        for piloto in corrida:\n",
    "            corrida[j][0] = j+1\n",
    "            corrida[j][1] = gd_premio[y]'''\n",
    "#        total += corrida[j][0]\n",
    "\n",
    "#    y = y+1\n"
   ]
  },
  {
   "cell_type": "code",
   "execution_count": 2,
   "id": "81055bfa-7fed-4e31-86d1-3d9c22028359",
   "metadata": {},
   "outputs": [
    {
     "name": "stdout",
     "output_type": "stream",
     "text": [
      "[['Bélgica', [['34', 'Aleix Espargaro', 'Espanha'], ['88', 'Miguel Oliveira', 'Portugal'], ['16', 'Francesco Bagnaia', 'Itália']]], ['França', [['88', 'Miguel Oliveira', 'Portugal'], ['34', 'Aleix Espargaro', 'Espanha'], ['16', 'Francesco Bagnaia', 'Itália']]], ['Japão', [['88', 'Miguel Oliveira', 'Portugal'], ['16', 'Francesco Bagnaia', 'Itália'], ['34', 'Aleix Espargaro', 'Espanha']]], ['Malásia', [['34', 'Aleix Espargaro', 'Espanha'], ['16', 'Francesco Bagnaia', 'Itália'], ['88', 'Miguel Oliveira', 'Portugal']]]]\n",
      "\n",
      "Aleix Espargaro\n"
     ]
    }
   ],
   "source": [
    "import random\n",
    "pilotos = [ ['88', 'Miguel Oliveira', 'Portugal'], ['16', 'Francesco Bagnaia', 'Itália'], ['34', 'Aleix Espargaro', 'Espanha'] ]\n",
    "gd_premios = [ 'Bélgica', 'França', 'Japão', 'Malásia' ]\n",
    "\n",
    "resultados = []\n",
    "ordem = []\n",
    "#replica = []\n",
    "\n",
    "for gp in gd_premios:\n",
    "    replica = list(pilotos)\n",
    "    ordem = []\n",
    "    while replica:\n",
    "        piloto = random.choice(replica)\n",
    "        replica.remove(piloto)\n",
    "        ordem.append(piloto)\n",
    "    resultados.append( [gp, ordem ] )\n",
    "print(resultados)\n",
    "print('\\n' + resultados[0][1][0][1])\n"
   ]
  },
  {
   "cell_type": "code",
   "execution_count": 3,
   "id": "92dbc9d3-ca2c-4357-910d-bc6884e7f1a5",
   "metadata": {},
   "outputs": [
    {
     "name": "stdout",
     "output_type": "stream",
     "text": [
      "[['Bélgica', ['Aleix Espargaro', 'Francesco Bagnaia', 'Miguel Oliveira']], ['França', ['Aleix Espargaro', 'Miguel Oliveira', 'Francesco Bagnaia']], ['Japão', ['Francesco Bagnaia', 'Miguel Oliveira', 'Aleix Espargaro']], ['Malásia', ['Francesco Bagnaia', 'Miguel Oliveira', 'Aleix Espargaro']]]\n",
      "\n",
      "Aleix Espargaro\n"
     ]
    }
   ],
   "source": [
    "import random\n",
    "pilotos = {\n",
    "    'Miguel Oliveira' : ['88', 'Portugal'], \n",
    "    'Francesco Bagnaia' : ['16', 'Itália'], \n",
    "    'Aleix Espargaro' : ['34', 'Espanha'] \n",
    "}\n",
    "gd_premios = [ 'Bélgica', 'França', 'Japão', 'Malásia' ]\n",
    "\n",
    "resultados = []\n",
    "ordem = []\n",
    "\n",
    "for gp in gd_premios:\n",
    "    replica = list(pilotos)\n",
    "    ordem = []\n",
    "    while replica:\n",
    "        piloto = random.choice(replica)\n",
    "        replica.remove(piloto)\n",
    "        ordem.append(piloto)\n",
    "    resultados.append([gp, ordem])\n",
    "#    resultados.append(ordem)\n",
    "print(resultados)\n",
    "print('\\n' + resultados[0][1][0])\n"
   ]
  },
  {
   "cell_type": "code",
   "execution_count": 6,
   "id": "f584176c-5955-4825-bd80-dfb839b63679",
   "metadata": {},
   "outputs": [
    {
     "name": "stdout",
     "output_type": "stream",
     "text": [
      "{'Circuit Ricardo Tormo': ['Espanha', '4005'], 'Sepang International Circuit': ['Malasia', '5543'], 'Phillip Island': ['Australia', '4448'], 'Chang International Circuit': ['Tailandia', '4554'], 'Mobility Resort Motegi': ['Japao', '4801'], 'MotorLand Aragon': ['Espanha', '5077'], 'Misano World Circuit Marco Simoncelli': ['San Marino', '4226'], 'Red Bull Ring - Spielberg': ['Austria', '4348'], 'Silverstone Circuit': ['Reino Unido', '5900'], 'TT Circuit Assen': ['Holanda', '4542'], 'Sachsenring': ['Alemanha', '3671'], 'Circuit de Barcelona-Catalunya': ['Espanha', '4657'], 'Autodromo Internazionale del Mugello': ['Italia', '5245'], 'Le Mans': ['Franca', '4185'], 'Circuito de Jerez - Angel Nieto': ['Espanha', '4423'], 'Autodromo Internacional do Algarve': ['Portugal', '4592'], 'Circuit Of The Americas': ['Estados Unidos da America', '5513'], 'Termas de Rio Hondo': ['Argentina', '4806'], 'Pertamina Mandalika Circuit': ['Indonesia', '4301'], 'Lusail International Circuit': ['Qatar', '5380']}\n",
      "{'Francesco Bagnaia': ['63', 'IT', 'Ducati Lenovo Team', 'Ducati'], 'Fabio Quartararo': ['20', 'FR', 'Monster Energy Yamaha MotoGP', 'Yamaha'], 'Enea Bastianini': ['23', 'IT', 'Gresini Racing MotoGP', 'Ducati'], 'Aleix Espargaro': ['41', 'ES', 'Aprilia Racing', 'Aprilia'], 'Jack Miller': ['43', 'AU', 'Ducati Lenovo Team', 'Ducati'], 'Brad Binder': ['33', 'ZA', 'Red Bull KTM Factory Racing', 'KTM'], 'Alex Rins': ['42', 'ES', 'Team SUZUKI ECSTAR', 'Suzuki'], 'Johann Zarco': ['5', 'FR', 'Prima Pramac Racing', 'Ducati'], 'Jorge Martin': ['89', 'ES', 'Prima Pramac Racing', 'Ducati'], 'Miguel Oliveira': ['88', 'PT', 'Red Bull KTM Factory Racing', 'KTM'], 'Maverick ViÃ±ales': ['12', 'ES', 'Aprilia Racing', 'Aprilia'], 'Luca Marini': ['10', 'IT', 'Mooney VR46 Racing Team', 'Ducati'], 'Marc Marquez': ['93', 'ES', 'Repsol Honda Team', 'Honda'], 'Marco Bezzecchi': ['72', 'IT', 'Mooney VR46 Racing Team', 'Ducati'], 'Joan Mir': ['36', 'ES', 'Team SUZUKI ECSTAR', 'Suzuki'], 'Pol Espargaro': ['44', 'ES', 'Repsol Honda Team', 'Honda'], 'Alex Marquez': ['73', 'ES', 'LCR Honda CASTROL', 'Honda'], 'Takaaki Nakagami': ['30', 'JP', 'LCR Honda IDEMITSU', 'Honda'], 'Franco Morbidelli': ['21', 'IT', 'Monster Energy Yamaha MotoGP', 'Yamaha'], 'Fabio Di Giannantonio': ['49', 'IT', 'Gresini Racing MotoGP', 'Ducati'], 'Andrea Dovizioso': ['4', 'IT', 'WithU Yamaha RNF MotoGP Team', 'Yamaha'], 'Raul Fernandez': ['25', 'ES', 'Tech3 KTM Factory Racing', 'KTM'], 'Remy Gardner': ['87', 'AU', 'Tech3 KTM Factory Racing', 'KTM'], 'Darryn Binder': ['40', 'ZA', 'WithU Yamaha RNF MotoGP Team', 'Yamaha'], 'Cal Crutchlow': ['35', 'GB', 'WithU Yamaha RNF MotoGP Team', 'Yamaha'], 'Stefan Bradl': ['6', 'DE', 'Repsol Honda Team', 'Honda'], 'Michele Pirro': ['51', 'IT', 'Aruba.it Racing', 'Ducati'], 'Lorenzo Savadori': ['32', 'IT', 'Aprilia Racing', 'Aprilia'], 'Tetsuta Nagashima': ['45', 'JP', 'LCR Honda IDEMITSU', 'Honda'], 'Danilo Petrucci': ['9', 'IT', 'Team SUZUKI ECSTAR', 'Suzuki'], 'Kazuki Watanabe': ['92', 'JP', 'Team SUZUKI ECSTAR', 'Suzuki']}\n",
      "{'1': '25', '2': '20', '3': '16', '4': '13', '5': '11', '6': '10', '7': '9', '8': '8', '9': '7', '10': '6', '11': '5', '12': '4', '13': '3', '14': '2', '15': '1'}\n"
     ]
    }
   ],
   "source": [
    "import random\n",
    "\n",
    "fonte_pilotos = open(\"../../jupyter/Desafio_2/Pilotos_2022.txt\",'r')\n",
    "fonte_circuitos = open(\"../../jupyter/Desafio_2/Circuito_2022.txt\",'r')\n",
    "fonte_pontos = open(\"../../jupyter/Desafio_2/Pontos_2022.txt\",'r')\n",
    "\n",
    "pilotos = {}\n",
    "circuitos = {}\n",
    "pontos = {}\n",
    "\n",
    "#gd_premios = [ 'Bélgica', 'França', 'Japão', 'Malásia' ]\n",
    "for x in fonte_pilotos:\n",
    "#for linha in fonte:\n",
    "#    numero, pais, piloto = linha.strip().split(',')\n",
    "    piloto = x.strip().split(',')\n",
    "    pilotos[piloto[1]] = [piloto[0], piloto[2], piloto[3], piloto[4]]\n",
    "#print(pilotos)\n",
    "fonte_pilotos.close()\n",
    "\n",
    "for c in fonte_circuitos:\n",
    "#for linha in fonte:\n",
    "#    numero, pais, piloto = linha.strip().split(',')\n",
    "    circuito = c.strip().split(',')\n",
    "    circuitos[circuito[0]] = [circuito[1], circuito[2]]\n",
    "#print(pilotos)\n",
    "fonte_circuitos.close()\n",
    "\n",
    "for p in fonte_pontos:\n",
    "#for linha in fonte:\n",
    "#    numero, pais, piloto = linha.strip().split(',')\n",
    "    ponto = p.strip().split(',')\n",
    "    pontos[ponto[0]] = ponto[1]\n",
    "#print(pilotos)\n",
    "fonte_pontos.close()\n",
    "'''\n",
    "resultados = {}\n",
    "classificacao = []\n",
    "\n",
    "for gp in circuitos:\n",
    "    replica = list(pilotos)\n",
    "    ordem = []\n",
    "    while replica:\n",
    "        piloto = random.choice(replica)\n",
    "        replica.remove(piloto)\n",
    "        classificacao.append(piloto)\n",
    "    resultados[gp] =  classificacao\n",
    "#    resultados.append(ordem)\n",
    "print(resultados)\n",
    "#print('\\n' + resultados.get('Bélgica')[0])\n",
    "'''\n",
    "print(circuitos)\n",
    "print(pilotos)\n",
    "print(pontos)"
   ]
  },
  {
   "cell_type": "code",
   "execution_count": null,
   "id": "c7f6a9d4-ee93-4de3-8612-a700e6ed58e1",
   "metadata": {},
   "outputs": [],
   "source": []
  }
 ],
 "metadata": {
  "kernelspec": {
   "display_name": "Python 3 (ipykernel)",
   "language": "python",
   "name": "python3"
  },
  "language_info": {
   "codemirror_mode": {
    "name": "ipython",
    "version": 3
   },
   "file_extension": ".py",
   "mimetype": "text/x-python",
   "name": "python",
   "nbconvert_exporter": "python",
   "pygments_lexer": "ipython3",
   "version": "3.9.13"
  }
 },
 "nbformat": 4,
 "nbformat_minor": 5
}
