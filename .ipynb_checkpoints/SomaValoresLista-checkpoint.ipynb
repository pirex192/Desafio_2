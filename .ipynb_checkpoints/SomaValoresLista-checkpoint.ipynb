{
 "cells": [
  {
   "cell_type": "code",
   "execution_count": 22,
   "id": "c8cae9d1-b700-4c66-a9f2-fbd5bd8c55c4",
   "metadata": {},
   "outputs": [
    {
     "name": "stdout",
     "output_type": "stream",
     "text": [
      "Initial List -  [['a', 3], ['a', 6], ['b', 4], ['a', 5]]\n",
      "final list -  {'a': 14, 'b': 4}\n"
     ]
    }
   ],
   "source": [
    "# Python code to demonstrate\n",
    "# sum of list of list\n",
    "# using naive method\n",
    "  \n",
    "# Declaring initial list of list\n",
    "L = [['a', 3],\n",
    "     ['a', 6],\n",
    "     ['b', 4],\n",
    "     ['a', 5]]\n",
    "          \n",
    "# Printing list of list\n",
    "print(\"Initial List - \", str(L))\n",
    "  \n",
    "# Using naive method\n",
    "#res = list()\n",
    "res = {}\n",
    "for j in range(0, len(L)):\n",
    "    tmp = 0\n",
    "    for i in range(0, len(L)):\n",
    "        if L[j][0] == L[i][0]:\n",
    "            tmp = tmp + L[i][1]\n",
    "    res[L[j][0]] = tmp\n",
    "      \n",
    "# printing result\n",
    "print(\"final list - \", str(res))"
   ]
  }
 ],
 "metadata": {
  "kernelspec": {
   "display_name": "Python 3 (ipykernel)",
   "language": "python",
   "name": "python3"
  },
  "language_info": {
   "codemirror_mode": {
    "name": "ipython",
    "version": 3
   },
   "file_extension": ".py",
   "mimetype": "text/x-python",
   "name": "python",
   "nbconvert_exporter": "python",
   "pygments_lexer": "ipython3",
   "version": "3.9.13"
  }
 },
 "nbformat": 4,
 "nbformat_minor": 5
}
