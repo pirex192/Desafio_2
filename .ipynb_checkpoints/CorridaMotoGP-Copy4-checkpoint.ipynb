{
 "cells": [
  {
   "cell_type": "code",
   "execution_count": 35,
   "id": "f584176c-5955-4825-bd80-dfb839b63679",
   "metadata": {},
   "outputs": [
    {
     "name": "stdout",
     "output_type": "stream",
     "text": [
      "[['Marco Bezzecchi', 171], ['Francesco Bagnaia', 146], ['Marc Marquez', 137], ['Andrea Dovizioso', 132], ['Alex Rins', 131], ['Remy Gardner', 128], ['Fabio Di Giannantonio', 110], ['Franco Morbidelli', 101], ['Luca Marini', 97], ['Enea Bastianini', 95], ['Fabio Quartararo', 94], ['Joan Mir', 94], ['Danilo Petrucci', 91], ['Maverick ViÃ±ales', 88], ['Raul Fernandez', 87], ['Miguel Oliveira', 83], ['Alex Marquez', 81], ['Johann Zarco', 80], ['Kazuki Watanabe', 80], ['Jorge Martin', 76], ['Tetsuta Nagashima', 72], ['Pol Espargaro', 70], ['Darryn Binder', 67], ['Stefan Bradl', 66], ['Takaaki Nakagami', 63], ['Aleix Espargaro', 61], ['Michele Pirro', 61], ['Lorenzo Savadori', 61], ['Jack Miller', 60], ['Brad Binder', 59], ['Cal Crutchlow', 58]]\n"
     ]
    }
   ],
   "source": [
    "import random\n",
    "import re\n",
    "\n",
    "fonte_pilotos = open(\"../../jupyter/Desafio_2/Pilotos_2022.txt\",'r')\n",
    "fonte_circuitos = open(\"../../jupyter/Desafio_2/Circuito_2022.txt\",'r')\n",
    "fonte_pontos = open(\"../../jupyter/Desafio_2/Pontos_2022.txt\",'r')\n",
    "\n",
    "pilotos = {}\n",
    "circuitos = {}\n",
    "pontos = {}\n",
    "\n",
    "for x in fonte_pilotos:\n",
    "#    piloto = x.strip().split(',')\n",
    "    numero, nome, pais, equipa, mota = x.strip().split(',')\n",
    "    pilotos[nome] = [numero, pais, equipa, mota, []]\n",
    "fonte_pilotos.close()\n",
    "\n",
    "for c in fonte_circuitos:\n",
    "    circuito = c.strip().split(',')\n",
    "    circuitos[circuito[0]] = [circuito[1], circuito[2]]\n",
    "fonte_circuitos.close()\n",
    "\n",
    "for p in fonte_pontos:\n",
    "    ponto = p.strip().split(',')\n",
    "    pontos[ponto[0]] = ponto[1]\n",
    "fonte_pontos.close()\n",
    "\n",
    "resultados_gp = {}\n",
    "\n",
    "for gp in circuitos:\n",
    "    replica_pilotos = list(pilotos)\n",
    "    classificacao = []\n",
    "    i=1\n",
    "    while replica_pilotos:\n",
    "        try:\n",
    "            temp = int(pontos[str(i)])\n",
    "        except:\n",
    "            temp = 0\n",
    "        piloto = random.choice(replica_pilotos)\n",
    "        replica_pilotos.remove(piloto)\n",
    "        piloto_temp = [piloto, temp]\n",
    "        pilotos[piloto][4].append((gp, temp))\n",
    "        classificacao.append(piloto_temp)\n",
    "        i+=1\n",
    "    resultados_gp[gp] = classificacao\n",
    "\n",
    "res_final_gp = []\n",
    "for x in pilotos:\n",
    "    soma = sum(pontuacao[1] for pontuacao in pilotos[x][4])\n",
    "    res_final_gp.append([x, soma])\n",
    "\n",
    "def takeSecond(elem):\n",
    "    return elem[1]\n",
    "print(sorted(res_final_gp, key=takeSecond, reverse=True))\n",
    "\n",
    "#print(res_camp_sorted)    \n",
    "#print(piloto_acumulado)\n",
    "#print(resultados_gp)\n",
    "#print(circuitos)\n",
    "#print(pilotos)\n",
    "#print(pontos)"
   ]
  }
 ],
 "metadata": {
  "kernelspec": {
   "display_name": "Python 3 (ipykernel)",
   "language": "python",
   "name": "python3"
  },
  "language_info": {
   "codemirror_mode": {
    "name": "ipython",
    "version": 3
   },
   "file_extension": ".py",
   "mimetype": "text/x-python",
   "name": "python",
   "nbconvert_exporter": "python",
   "pygments_lexer": "ipython3",
   "version": "3.9.13"
  }
 },
 "nbformat": 4,
 "nbformat_minor": 5
}
