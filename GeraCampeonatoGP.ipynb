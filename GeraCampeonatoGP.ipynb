{
 "cells": [
  {
   "cell_type": "code",
   "execution_count": 3,
   "id": "f584176c-5955-4825-bd80-dfb839b63679",
   "metadata": {},
   "outputs": [
    {
     "name": "stdout",
     "output_type": "stream",
     "text": [
      "{'Circuit Ricardo Tormo': [['Michele Pirro', 25], ['Jorge Martin', 20], ['Andrea Dovizioso', 16], ['Marc Marquez', 13], ['Luca Marini', 11], ['Aleix Espargaro', 10], ['Brad Binder', 9], ['Darryn Binder', 8], ['Lorenzo Savadori', 7], ['Franco Morbidelli', 6], ['Remy Gardner', 5], ['Danilo Petrucci', 4], ['Kazuki Watanabe', 3], ['Alex Rins', 2], ['Marco Bezzecchi', 1], ['Miguel Oliveira', 0], ['Fabio Di Giannantonio', 0], ['Raul Fernandez', 0], ['Jack Miller', 0], ['Johann Zarco', 0], ['Maverick ViÃ±ales', 0], ['Alex Marquez', 0], ['Francesco Bagnaia', 0], ['Pol Espargaro', 0], ['Enea Bastianini', 0], ['Takaaki Nakagami', 0], ['Stefan Bradl', 0], ['Cal Crutchlow', 0], ['Fabio Quartararo', 0], ['Joan Mir', 0], ['Tetsuta Nagashima', 0]], 'Sepang International Circuit': [['Miguel Oliveira', 25], ['Pol Espargaro', 20], ['Andrea Dovizioso', 16], ['Jack Miller', 13], ['Brad Binder', 11], ['Alex Rins', 10], ['Luca Marini', 9], ['Fabio Quartararo', 8], ['Marc Marquez', 7], ['Raul Fernandez', 6], ['Enea Bastianini', 5], ['Remy Gardner', 4], ['Fabio Di Giannantonio', 3], ['Takaaki Nakagami', 2], ['Aleix Espargaro', 1], ['Franco Morbidelli', 0], ['Francesco Bagnaia', 0], ['Darryn Binder', 0], ['Stefan Bradl', 0], ['Michele Pirro', 0], ['Danilo Petrucci', 0], ['Joan Mir', 0], ['Johann Zarco', 0], ['Maverick ViÃ±ales', 0], ['Jorge Martin', 0], ['Lorenzo Savadori', 0], ['Alex Marquez', 0], ['Kazuki Watanabe', 0], ['Marco Bezzecchi', 0], ['Tetsuta Nagashima', 0], ['Cal Crutchlow', 0]], 'Phillip Island': [['Danilo Petrucci', 25], ['Maverick ViÃ±ales', 20], ['Marco Bezzecchi', 16], ['Aleix Espargaro', 13], ['Luca Marini', 11], ['Marc Marquez', 10], ['Brad Binder', 9], ['Cal Crutchlow', 8], ['Francesco Bagnaia', 7], ['Joan Mir', 6], ['Alex Rins', 5], ['Johann Zarco', 4], ['Tetsuta Nagashima', 3], ['Enea Bastianini', 2], ['Franco Morbidelli', 1], ['Alex Marquez', 0], ['Lorenzo Savadori', 0], ['Stefan Bradl', 0], ['Remy Gardner', 0], ['Jorge Martin', 0], ['Takaaki Nakagami', 0], ['Fabio Quartararo', 0], ['Raul Fernandez', 0], ['Miguel Oliveira', 0], ['Michele Pirro', 0], ['Jack Miller', 0], ['Pol Espargaro', 0], ['Andrea Dovizioso', 0], ['Darryn Binder', 0], ['Fabio Di Giannantonio', 0], ['Kazuki Watanabe', 0]], 'Chang International Circuit': [['Stefan Bradl', 25], ['Franco Morbidelli', 20], ['Brad Binder', 16], ['Pol Espargaro', 13], ['Jorge Martin', 11], ['Lorenzo Savadori', 10], ['Fabio Di Giannantonio', 9], ['Marc Marquez', 8], ['Michele Pirro', 7], ['Maverick ViÃ±ales', 6], ['Alex Marquez', 5], ['Raul Fernandez', 4], ['Danilo Petrucci', 3], ['Joan Mir', 2], ['Kazuki Watanabe', 1], ['Tetsuta Nagashima', 0], ['Aleix Espargaro', 0], ['Jack Miller', 0], ['Enea Bastianini', 0], ['Johann Zarco', 0], ['Fabio Quartararo', 0], ['Marco Bezzecchi', 0], ['Darryn Binder', 0], ['Takaaki Nakagami', 0], ['Miguel Oliveira', 0], ['Remy Gardner', 0], ['Andrea Dovizioso', 0], ['Cal Crutchlow', 0], ['Francesco Bagnaia', 0], ['Alex Rins', 0], ['Luca Marini', 0]], 'Mobility Resort Motegi': [['Remy Gardner', 25], ['Brad Binder', 20], ['Marc Marquez', 16], ['Michele Pirro', 13], ['Takaaki Nakagami', 11], ['Lorenzo Savadori', 10], ['Danilo Petrucci', 9], ['Andrea Dovizioso', 8], ['Joan Mir', 7], ['Johann Zarco', 6], ['Maverick ViÃ±ales', 5], ['Enea Bastianini', 4], ['Tetsuta Nagashima', 3], ['Alex Rins', 2], ['Jack Miller', 1], ['Franco Morbidelli', 0], ['Fabio Quartararo', 0], ['Aleix Espargaro', 0], ['Kazuki Watanabe', 0], ['Cal Crutchlow', 0], ['Darryn Binder', 0], ['Marco Bezzecchi', 0], ['Luca Marini', 0], ['Jorge Martin', 0], ['Miguel Oliveira', 0], ['Stefan Bradl', 0], ['Pol Espargaro', 0], ['Alex Marquez', 0], ['Fabio Di Giannantonio', 0], ['Raul Fernandez', 0], ['Francesco Bagnaia', 0]], 'MotorLand Aragon': [['Joan Mir', 25], ['Aleix Espargaro', 20], ['Johann Zarco', 16], ['Andrea Dovizioso', 13], ['Takaaki Nakagami', 11], ['Pol Espargaro', 10], ['Francesco Bagnaia', 9], ['Cal Crutchlow', 8], ['Darryn Binder', 7], ['Maverick ViÃ±ales', 6], ['Kazuki Watanabe', 5], ['Fabio Di Giannantonio', 4], ['Remy Gardner', 3], ['Luca Marini', 2], ['Brad Binder', 1], ['Jorge Martin', 0], ['Marc Marquez', 0], ['Lorenzo Savadori', 0], ['Fabio Quartararo', 0], ['Tetsuta Nagashima', 0], ['Franco Morbidelli', 0], ['Enea Bastianini', 0], ['Alex Rins', 0], ['Marco Bezzecchi', 0], ['Alex Marquez', 0], ['Jack Miller', 0], ['Danilo Petrucci', 0], ['Miguel Oliveira', 0], ['Stefan Bradl', 0], ['Raul Fernandez', 0], ['Michele Pirro', 0]], 'Misano World Circuit Marco Simoncelli': [['Lorenzo Savadori', 25], ['Marc Marquez', 20], ['Tetsuta Nagashima', 16], ['Miguel Oliveira', 13], ['Fabio Di Giannantonio', 11], ['Luca Marini', 10], ['Michele Pirro', 9], ['Remy Gardner', 8], ['Brad Binder', 7], ['Raul Fernandez', 6], ['Darryn Binder', 5], ['Franco Morbidelli', 4], ['Fabio Quartararo', 3], ['Maverick ViÃ±ales', 2], ['Danilo Petrucci', 1], ['Pol Espargaro', 0], ['Francesco Bagnaia', 0], ['Johann Zarco', 0], ['Takaaki Nakagami', 0], ['Enea Bastianini', 0], ['Alex Marquez', 0], ['Jack Miller', 0], ['Jorge Martin', 0], ['Aleix Espargaro', 0], ['Marco Bezzecchi', 0], ['Alex Rins', 0], ['Joan Mir', 0], ['Andrea Dovizioso', 0], ['Kazuki Watanabe', 0], ['Stefan Bradl', 0], ['Cal Crutchlow', 0]], 'Red Bull Ring - Spielberg': [['Jack Miller', 25], ['Brad Binder', 20], ['Marc Marquez', 16], ['Raul Fernandez', 13], ['Jorge Martin', 11], ['Johann Zarco', 10], ['Marco Bezzecchi', 9], ['Takaaki Nakagami', 8], ['Alex Rins', 7], ['Francesco Bagnaia', 6], ['Cal Crutchlow', 5], ['Luca Marini', 4], ['Aleix Espargaro', 3], ['Miguel Oliveira', 2], ['Enea Bastianini', 1], ['Andrea Dovizioso', 0], ['Pol Espargaro', 0], ['Joan Mir', 0], ['Darryn Binder', 0], ['Kazuki Watanabe', 0], ['Danilo Petrucci', 0], ['Fabio Quartararo', 0], ['Lorenzo Savadori', 0], ['Fabio Di Giannantonio', 0], ['Michele Pirro', 0], ['Maverick ViÃ±ales', 0], ['Remy Gardner', 0], ['Tetsuta Nagashima', 0], ['Franco Morbidelli', 0], ['Alex Marquez', 0], ['Stefan Bradl', 0]], 'Silverstone Circuit': [['Alex Marquez', 25], ['Michele Pirro', 20], ['Luca Marini', 16], ['Enea Bastianini', 13], ['Darryn Binder', 11], ['Fabio Di Giannantonio', 10], ['Kazuki Watanabe', 9], ['Alex Rins', 8], ['Jorge Martin', 7], ['Aleix Espargaro', 6], ['Tetsuta Nagashima', 5], ['Jack Miller', 4], ['Marco Bezzecchi', 3], ['Pol Espargaro', 2], ['Takaaki Nakagami', 1], ['Marc Marquez', 0], ['Danilo Petrucci', 0], ['Andrea Dovizioso', 0], ['Maverick ViÃ±ales', 0], ['Francesco Bagnaia', 0], ['Lorenzo Savadori', 0], ['Franco Morbidelli', 0], ['Johann Zarco', 0], ['Cal Crutchlow', 0], ['Raul Fernandez', 0], ['Brad Binder', 0], ['Remy Gardner', 0], ['Stefan Bradl', 0], ['Fabio Quartararo', 0], ['Miguel Oliveira', 0], ['Joan Mir', 0]], 'TT Circuit Assen': [['Maverick ViÃ±ales', 25], ['Raul Fernandez', 20], ['Miguel Oliveira', 16], ['Michele Pirro', 13], ['Marco Bezzecchi', 11], ['Andrea Dovizioso', 10], ['Pol Espargaro', 9], ['Johann Zarco', 8], ['Fabio Quartararo', 7], ['Lorenzo Savadori', 6], ['Brad Binder', 5], ['Marc Marquez', 4], ['Remy Gardner', 3], ['Luca Marini', 2], ['Fabio Di Giannantonio', 1], ['Enea Bastianini', 0], ['Francesco Bagnaia', 0], ['Darryn Binder', 0], ['Danilo Petrucci', 0], ['Kazuki Watanabe', 0], ['Takaaki Nakagami', 0], ['Cal Crutchlow', 0], ['Jorge Martin', 0], ['Aleix Espargaro', 0], ['Stefan Bradl', 0], ['Jack Miller', 0], ['Franco Morbidelli', 0], ['Joan Mir', 0], ['Alex Rins', 0], ['Alex Marquez', 0], ['Tetsuta Nagashima', 0]], 'Sachsenring': [['Remy Gardner', 25], ['Fabio Quartararo', 20], ['Cal Crutchlow', 16], ['Marco Bezzecchi', 13], ['Andrea Dovizioso', 11], ['Francesco Bagnaia', 10], ['Franco Morbidelli', 9], ['Fabio Di Giannantonio', 8], ['Kazuki Watanabe', 7], ['Joan Mir', 6], ['Aleix Espargaro', 5], ['Michele Pirro', 4], ['Stefan Bradl', 3], ['Darryn Binder', 2], ['Luca Marini', 1], ['Alex Marquez', 0], ['Tetsuta Nagashima', 0], ['Raul Fernandez', 0], ['Miguel Oliveira', 0], ['Johann Zarco', 0], ['Takaaki Nakagami', 0], ['Pol Espargaro', 0], ['Marc Marquez', 0], ['Maverick ViÃ±ales', 0], ['Alex Rins', 0], ['Brad Binder', 0], ['Jack Miller', 0], ['Enea Bastianini', 0], ['Lorenzo Savadori', 0], ['Jorge Martin', 0], ['Danilo Petrucci', 0]], 'Circuit de Barcelona-Catalunya': [['Kazuki Watanabe', 25], ['Alex Rins', 20], ['Remy Gardner', 16], ['Johann Zarco', 13], ['Maverick ViÃ±ales', 11], ['Pol Espargaro', 10], ['Jack Miller', 9], ['Alex Marquez', 8], ['Fabio Di Giannantonio', 7], ['Enea Bastianini', 6], ['Joan Mir', 5], ['Brad Binder', 4], ['Takaaki Nakagami', 3], ['Tetsuta Nagashima', 2], ['Stefan Bradl', 1], ['Raul Fernandez', 0], ['Francesco Bagnaia', 0], ['Michele Pirro', 0], ['Cal Crutchlow', 0], ['Jorge Martin', 0], ['Marc Marquez', 0], ['Danilo Petrucci', 0], ['Darryn Binder', 0], ['Aleix Espargaro', 0], ['Miguel Oliveira', 0], ['Fabio Quartararo', 0], ['Andrea Dovizioso', 0], ['Luca Marini', 0], ['Marco Bezzecchi', 0], ['Franco Morbidelli', 0], ['Lorenzo Savadori', 0]], 'Autodromo Internazionale del Mugello': [['Stefan Bradl', 25], ['Michele Pirro', 20], ['Alex Rins', 16], ['Enea Bastianini', 13], ['Darryn Binder', 11], ['Aleix Espargaro', 10], ['Jorge Martin', 9], ['Kazuki Watanabe', 8], ['Fabio Di Giannantonio', 7], ['Joan Mir', 6], ['Johann Zarco', 5], ['Tetsuta Nagashima', 4], ['Jack Miller', 3], ['Marco Bezzecchi', 2], ['Franco Morbidelli', 1], ['Cal Crutchlow', 0], ['Raul Fernandez', 0], ['Remy Gardner', 0], ['Fabio Quartararo', 0], ['Marc Marquez', 0], ['Andrea Dovizioso', 0], ['Miguel Oliveira', 0], ['Pol Espargaro', 0], ['Maverick ViÃ±ales', 0], ['Danilo Petrucci', 0], ['Takaaki Nakagami', 0], ['Alex Marquez', 0], ['Brad Binder', 0], ['Francesco Bagnaia', 0], ['Luca Marini', 0], ['Lorenzo Savadori', 0]], 'Le Mans': [['Cal Crutchlow', 25], ['Jack Miller', 20], ['Maverick ViÃ±ales', 16], ['Takaaki Nakagami', 13], ['Joan Mir', 11], ['Marc Marquez', 10], ['Tetsuta Nagashima', 9], ['Pol Espargaro', 8], ['Enea Bastianini', 7], ['Raul Fernandez', 6], ['Darryn Binder', 5], ['Danilo Petrucci', 4], ['Miguel Oliveira', 3], ['Kazuki Watanabe', 2], ['Johann Zarco', 1], ['Alex Rins', 0], ['Fabio Quartararo', 0], ['Aleix Espargaro', 0], ['Fabio Di Giannantonio', 0], ['Andrea Dovizioso', 0], ['Marco Bezzecchi', 0], ['Francesco Bagnaia', 0], ['Lorenzo Savadori', 0], ['Remy Gardner', 0], ['Jorge Martin', 0], ['Franco Morbidelli', 0], ['Stefan Bradl', 0], ['Alex Marquez', 0], ['Michele Pirro', 0], ['Luca Marini', 0], ['Brad Binder', 0]], 'Circuito de Jerez - Angel Nieto': [['Francesco Bagnaia', 25], ['Franco Morbidelli', 20], ['Michele Pirro', 16], ['Luca Marini', 13], ['Marco Bezzecchi', 11], ['Alex Marquez', 10], ['Danilo Petrucci', 9], ['Joan Mir', 8], ['Remy Gardner', 7], ['Jorge Martin', 6], ['Takaaki Nakagami', 5], ['Brad Binder', 4], ['Cal Crutchlow', 3], ['Johann Zarco', 2], ['Darryn Binder', 1], ['Pol Espargaro', 0], ['Maverick ViÃ±ales', 0], ['Andrea Dovizioso', 0], ['Raul Fernandez', 0], ['Fabio Quartararo', 0], ['Lorenzo Savadori', 0], ['Enea Bastianini', 0], ['Alex Rins', 0], ['Aleix Espargaro', 0], ['Miguel Oliveira', 0], ['Marc Marquez', 0], ['Stefan Bradl', 0], ['Kazuki Watanabe', 0], ['Fabio Di Giannantonio', 0], ['Jack Miller', 0], ['Tetsuta Nagashima', 0]], 'Autodromo Internacional do Algarve': [['Alex Marquez', 25], ['Aleix Espargaro', 20], ['Cal Crutchlow', 16], ['Remy Gardner', 13], ['Lorenzo Savadori', 11], ['Enea Bastianini', 10], ['Tetsuta Nagashima', 9], ['Franco Morbidelli', 8], ['Alex Rins', 7], ['Francesco Bagnaia', 6], ['Jorge Martin', 5], ['Fabio Di Giannantonio', 4], ['Michele Pirro', 3], ['Maverick ViÃ±ales', 2], ['Stefan Bradl', 1], ['Kazuki Watanabe', 0], ['Brad Binder', 0], ['Danilo Petrucci', 0], ['Johann Zarco', 0], ['Joan Mir', 0], ['Andrea Dovizioso', 0], ['Jack Miller', 0], ['Miguel Oliveira', 0], ['Darryn Binder', 0], ['Fabio Quartararo', 0], ['Raul Fernandez', 0], ['Marc Marquez', 0], ['Pol Espargaro', 0], ['Marco Bezzecchi', 0], ['Takaaki Nakagami', 0], ['Luca Marini', 0]], 'Circuit Of The Americas': [['Raul Fernandez', 25], ['Marc Marquez', 20], ['Jack Miller', 16], ['Pol Espargaro', 13], ['Aleix Espargaro', 11], ['Jorge Martin', 10], ['Remy Gardner', 9], ['Miguel Oliveira', 8], ['Alex Marquez', 7], ['Darryn Binder', 6], ['Enea Bastianini', 5], ['Andrea Dovizioso', 4], ['Brad Binder', 3], ['Takaaki Nakagami', 2], ['Johann Zarco', 1], ['Joan Mir', 0], ['Fabio Di Giannantonio', 0], ['Stefan Bradl', 0], ['Tetsuta Nagashima', 0], ['Fabio Quartararo', 0], ['Franco Morbidelli', 0], ['Marco Bezzecchi', 0], ['Danilo Petrucci', 0], ['Michele Pirro', 0], ['Lorenzo Savadori', 0], ['Cal Crutchlow', 0], ['Francesco Bagnaia', 0], ['Maverick ViÃ±ales', 0], ['Luca Marini', 0], ['Kazuki Watanabe', 0], ['Alex Rins', 0]], 'Termas de Rio Hondo': [['Aleix Espargaro', 25], ['Remy Gardner', 20], ['Francesco Bagnaia', 16], ['Joan Mir', 13], ['Alex Rins', 11], ['Maverick ViÃ±ales', 10], ['Cal Crutchlow', 9], ['Raul Fernandez', 8], ['Luca Marini', 7], ['Marc Marquez', 6], ['Lorenzo Savadori', 5], ['Brad Binder', 4], ['Danilo Petrucci', 3], ['Johann Zarco', 2], ['Kazuki Watanabe', 1], ['Darryn Binder', 0], ['Marco Bezzecchi', 0], ['Michele Pirro', 0], ['Andrea Dovizioso', 0], ['Franco Morbidelli', 0], ['Alex Marquez', 0], ['Enea Bastianini', 0], ['Tetsuta Nagashima', 0], ['Miguel Oliveira', 0], ['Pol Espargaro', 0], ['Jack Miller', 0], ['Stefan Bradl', 0], ['Fabio Quartararo', 0], ['Fabio Di Giannantonio', 0], ['Takaaki Nakagami', 0], ['Jorge Martin', 0]], 'Pertamina Mandalika Circuit': [['Kazuki Watanabe', 25], ['Danilo Petrucci', 20], ['Michele Pirro', 16], ['Luca Marini', 13], ['Remy Gardner', 11], ['Andrea Dovizioso', 10], ['Fabio Di Giannantonio', 9], ['Enea Bastianini', 8], ['Alex Rins', 7], ['Alex Marquez', 6], ['Darryn Binder', 5], ['Miguel Oliveira', 4], ['Pol Espargaro', 3], ['Brad Binder', 2], ['Jorge Martin', 1], ['Cal Crutchlow', 0], ['Fabio Quartararo', 0], ['Marc Marquez', 0], ['Stefan Bradl', 0], ['Jack Miller', 0], ['Johann Zarco', 0], ['Francesco Bagnaia', 0], ['Maverick ViÃ±ales', 0], ['Raul Fernandez', 0], ['Aleix Espargaro', 0], ['Marco Bezzecchi', 0], ['Tetsuta Nagashima', 0], ['Franco Morbidelli', 0], ['Takaaki Nakagami', 0], ['Joan Mir', 0], ['Lorenzo Savadori', 0]], 'Lusail International Circuit': [['Alex Rins', 25], ['Francesco Bagnaia', 20], ['Michele Pirro', 16], ['Remy Gardner', 13], ['Alex Marquez', 11], ['Kazuki Watanabe', 10], ['Brad Binder', 9], ['Pol Espargaro', 8], ['Cal Crutchlow', 7], ['Fabio Quartararo', 6], ['Danilo Petrucci', 5], ['Marc Marquez', 4], ['Stefan Bradl', 3], ['Andrea Dovizioso', 2], ['Marco Bezzecchi', 1], ['Johann Zarco', 0], ['Darryn Binder', 0], ['Fabio Di Giannantonio', 0], ['Franco Morbidelli', 0], ['Enea Bastianini', 0], ['Lorenzo Savadori', 0], ['Luca Marini', 0], ['Jorge Martin', 0], ['Aleix Espargaro', 0], ['Tetsuta Nagashima', 0], ['Takaaki Nakagami', 0], ['Jack Miller', 0], ['Miguel Oliveira', 0], ['Maverick ViÃ±ales', 0], ['Raul Fernandez', 0], ['Joan Mir', 0]]}\n"
     ]
    }
   ],
   "source": [
    "import random\n",
    "import re\n",
    "\n",
    "fonte_pilotos = open(\"../../jupyter/Desafio_2/Pilotos_2022.txt\",'r')\n",
    "fonte_circuitos = open(\"../../jupyter/Desafio_2/Circuito_2022.txt\",'r')\n",
    "fonte_pontos = open(\"../../jupyter/Desafio_2/Pontos_2022.txt\",'r')\n",
    "\n",
    "pilotos = {}\n",
    "circuitos = {}\n",
    "pontos = {}\n",
    "\n",
    "for x in fonte_pilotos:\n",
    "    piloto = x.strip().split(',')\n",
    "    pilotos[piloto[1]] = [piloto[0], piloto[2], piloto[3], piloto[4]]\n",
    "fonte_pilotos.close()\n",
    "\n",
    "for c in fonte_circuitos:\n",
    "    circuito = c.strip().split(',')\n",
    "    circuitos[circuito[0]] = [circuito[1], circuito[2]]\n",
    "fonte_circuitos.close()\n",
    "\n",
    "for p in fonte_pontos:\n",
    "    ponto = p.strip().split(',')\n",
    "    pontos[ponto[0]] = ponto[1]\n",
    "fonte_pontos.close()\n",
    "\n",
    "resultados_gp = {}\n",
    "\n",
    "for gp in circuitos:\n",
    "    replica_pilotos = list(pilotos)\n",
    "    classificacao_gp = []\n",
    "    i=1\n",
    "    while replica_pilotos:\n",
    "        try:\n",
    "            pontuacao = int(pontos[str(i)])\n",
    "        except:\n",
    "            pontuacao = 0\n",
    "        piloto = random.choice(replica_pilotos)\n",
    "        replica_pilotos.remove(piloto)\n",
    "        piloto_pontuacao = [piloto, pontuacao]\n",
    "        classificacao_gp.append(piloto_pontuacao)\n",
    "        i+=1\n",
    "    resultados_gp[gp] = classificacao_gp\n",
    "\n",
    "print(resultados_gp)   \n",
    "#print(circuitos)\n",
    "#print(pilotos)\n",
    "#print(pontos)"
   ]
  }
 ],
 "metadata": {
  "kernelspec": {
   "display_name": "Python 3 (ipykernel)",
   "language": "python",
   "name": "python3"
  },
  "language_info": {
   "codemirror_mode": {
    "name": "ipython",
    "version": 3
   },
   "file_extension": ".py",
   "mimetype": "text/x-python",
   "name": "python",
   "nbconvert_exporter": "python",
   "pygments_lexer": "ipython3",
   "version": "3.9.13"
  }
 },
 "nbformat": 4,
 "nbformat_minor": 5
}
