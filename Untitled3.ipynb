{
 "cells": [
  {
   "cell_type": "code",
   "execution_count": 1,
   "id": "0d27e724-9e0d-445d-9a0f-62f4b19aaf00",
   "metadata": {},
   "outputs": [
    {
     "name": "stdout",
     "output_type": "stream",
     "text": [
      "The original list is : [{'gfg': 1, 'is': 2, 'good': 3}, {'gfg': 2}, {'best': 3, 'gfg': 4}]\n",
      "The values corresponding to key : [1, 2, 4]\n"
     ]
    }
   ],
   "source": [
    "\n",
    "# Python3 code to demonstrate working of\n",
    "# Get values of particular key in list of dictionaries\n",
    "# Using list comprehension\n",
    "  \n",
    "# initializing list\n",
    "test_list = [{'gfg' : 1,'is' : 2,'good' : 3}, \n",
    "             {'gfg' : 2},\n",
    "             {'best' : 3, 'gfg' : 4}]\n",
    "  \n",
    "# printing original list\n",
    "print(\"The original list is : \" + str(test_list))\n",
    "  \n",
    "# Using list comprehension\n",
    "# Get values of particular key in list of dictionaries\n",
    "res = [ sub['gfg'] for sub in test_list ]\n",
    "  \n",
    "# printing result \n",
    "print(\"The values corresponding to key : \" + str(res))"
   ]
  }
 ],
 "metadata": {
  "kernelspec": {
   "display_name": "Python 3 (ipykernel)",
   "language": "python",
   "name": "python3"
  },
  "language_info": {
   "codemirror_mode": {
    "name": "ipython",
    "version": 3
   },
   "file_extension": ".py",
   "mimetype": "text/x-python",
   "name": "python",
   "nbconvert_exporter": "python",
   "pygments_lexer": "ipython3",
   "version": "3.9.13"
  }
 },
 "nbformat": 4,
 "nbformat_minor": 5
}
