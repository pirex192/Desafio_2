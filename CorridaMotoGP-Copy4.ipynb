{
 "cells": [
  {
   "cell_type": "code",
   "execution_count": 1,
   "id": "f584176c-5955-4825-bd80-dfb839b63679",
   "metadata": {},
   "outputs": [
    {
     "name": "stdout",
     "output_type": "stream",
     "text": [
      "[['Franco Morbidelli', 137], ['Danilo Petrucci', 135], ['Enea Bastianini', 133], ['Aleix Espargaro', 123], ['Joan Mir', 118], ['Maverick ViÃ±ales', 117], ['Fabio Quartararo', 111], ['Luca Marini', 108], ['Stefan Bradl', 108], ['Remy Gardner', 107], ['Francesco Bagnaia', 106], ['Lorenzo Savadori', 105], ['Jorge Martin', 102], ['Alex Marquez', 98], ['Cal Crutchlow', 94], ['Marc Marquez', 92], ['Miguel Oliveira', 84], ['Pol Espargaro', 83], ['Marco Bezzecchi', 82], ['Michele Pirro', 77], ['Tetsuta Nagashima', 75], ['Kazuki Watanabe', 75], ['Jack Miller', 72], ['Brad Binder', 69], ['Darryn Binder', 67], ['Raul Fernandez', 63], ['Takaaki Nakagami', 62], ['Johann Zarco', 60], ['Andrea Dovizioso', 60], ['Fabio Di Giannantonio', 51], ['Alex Rins', 26]]\n"
     ]
    }
   ],
   "source": [
    "import random\n",
    "import re\n",
    "\n",
    "fonte_pilotos = open(\"../../jupyter/Desafio_2/Pilotos_2022.txt\",'r')\n",
    "fonte_circuitos = open(\"../../jupyter/Desafio_2/Circuito_2022.txt\",'r')\n",
    "fonte_pontos = open(\"../../jupyter/Desafio_2/Pontos_2022.txt\",'r')\n",
    "\n",
    "pilotos = {}\n",
    "circuitos = {}\n",
    "pontos = {}\n",
    "\n",
    "for x in fonte_pilotos:\n",
    "#    piloto = x.strip().split(',')\n",
    "    numero, nome, pais, equipa, mota = x.strip().split(',')\n",
    "    pilotos[nome] = [numero, pais, equipa, mota, []]\n",
    "fonte_pilotos.close()\n",
    "\n",
    "for c in fonte_circuitos:\n",
    "    circuito = c.strip().split(',')\n",
    "    circuitos[circuito[0]] = [circuito[1], circuito[2]]\n",
    "fonte_circuitos.close()\n",
    "\n",
    "for p in fonte_pontos:\n",
    "    ponto = p.strip().split(',')\n",
    "    pontos[ponto[0]] = ponto[1]\n",
    "fonte_pontos.close()\n",
    "\n",
    "for gp in circuitos:\n",
    "    replica_pilotos = list(pilotos)\n",
    "    classificacao = []\n",
    "    i=1\n",
    "    while replica_pilotos:\n",
    "        try:\n",
    "            temp = int(pontos[str(i)])\n",
    "        except:\n",
    "            temp = 0\n",
    "        piloto = random.choice(replica_pilotos)\n",
    "        replica_pilotos.remove(piloto)\n",
    "        piloto_temp = [piloto, temp]\n",
    "        pilotos[piloto][4].append((gp, temp))\n",
    "        classificacao.append(piloto_temp)\n",
    "        i+=1\n",
    "\n",
    "res_final_gp = []\n",
    "for x in pilotos:\n",
    "    soma = sum(pontuacao[1] for pontuacao in pilotos[x][4])\n",
    "    res_final_gp.append([x, soma])\n",
    "\n",
    "def takeSecond(elem):\n",
    "    return elem[1]\n",
    "print(sorted(res_final_gp, key=takeSecond, reverse=True))\n",
    "\n",
    "#print(res_camp_sorted)    \n",
    "#print(piloto_acumulado)\n",
    "#print(resultados_gp)\n",
    "#print(circuitos)\n",
    "#print(pilotos)\n",
    "#print(pontos)"
   ]
  }
 ],
 "metadata": {
  "kernelspec": {
   "display_name": "Python 3 (ipykernel)",
   "language": "python",
   "name": "python3"
  },
  "language_info": {
   "codemirror_mode": {
    "name": "ipython",
    "version": 3
   },
   "file_extension": ".py",
   "mimetype": "text/x-python",
   "name": "python",
   "nbconvert_exporter": "python",
   "pygments_lexer": "ipython3",
   "version": "3.9.13"
  }
 },
 "nbformat": 4,
 "nbformat_minor": 5
}
