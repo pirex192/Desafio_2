{
 "cells": [
  {
   "cell_type": "code",
   "execution_count": null,
   "id": "0cb78286-fee8-43a7-8303-551648ef1636",
   "metadata": {},
   "outputs": [],
   "source": [
    "import random\n",
    "\n",
    "fonte = open(\"pilotos.txt\",'r')\n",
    "pilotos = []\n",
    "vencedores = []\n",
    "corrida = []\n",
    "total = 0\n",
    "gd_premio = ['Portugal', 'Monaco', 'Itália', 'França', 'Espanha', 'Argentine', 'México', 'Holanda', 'Inglaterra', 'Alemanha']\n",
    "i=0\n",
    "z=0\n",
    "\n",
    "for x in fonte:\n",
    "#    numero, pais, piloto = linha.strip().split(',')\n",
    "    piloto = x.strip().split(',')\n",
    "    pilotos.append(piloto)\n",
    "fonte.close()\n",
    "y=0\n",
    "for x in gd_premio:\n",
    "    j=0\n",
    "    while i < len(pilotos):\n",
    "        rand_piloto = random.choice(pilotos)\n",
    "        pilotos.remove(rand_piloto)\n",
    "        corrida.insert(i, rand_piloto)\n",
    "    for piloto in corrida:\n",
    "        corrida[j][0] = j+1\n",
    "        corrida[j][1] = gd_premio[y]\n",
    "#        total += corrida[j][0]\n",
    "        j = j+1\n",
    "    y = y+1\n",
    "    print(corrida)\n",
    "\n",
    "'''    for corrida[z] in corrida:\n",
    "        total += int(corrida[z][0])\n",
    "        z=z+1'''\n",
    "#    corrida[i] = [corrida[i], i+1]\n",
    "#    vencedores.insert(i, (i+1))\n",
    "#    vencedores.extend({}''.format(i+1))\n",
    "#    i = i+1\n",
    "#print(linhas)\n",
    "#for x in corrida:\n",
    "#    x.extend(\n",
    "#    print(corrida)\n"
   ]
  },
  {
   "cell_type": "code",
   "execution_count": null,
   "id": "99f1ac20-8ae8-4555-9491-01ca3b7fa19b",
   "metadata": {},
   "outputs": [],
   "source": [
    "pilotos = {\n",
    "    \"Miguel Oliveira\": [ [ 12, 7, 8, 11, 4, 3 ], [ 0, 7, 8, 0, 4, 3 ] ],\n",
    "    \"Francesco Bagnaia\": [ 6, 6, 4, 15, 2, 2]\n",
    "}\n",
    "\n",
    "pilotos[\"Miguel Oliveira\"].append(5)\n",
    "sum(pilotos[\"Francesco Bagnaia\"][0])"
   ]
  },
  {
   "cell_type": "code",
   "execution_count": null,
   "id": "5f566812-91af-4cbc-9775-6fa1a4f9dbc3",
   "metadata": {},
   "outputs": [],
   "source": [
    "pilotos = {\n",
    "    \"Miguel Oliveira\": {\n",
    "        \"pais\": \"Portugal\",\n",
    "        \"classificações\": [ 12, 7, 8, 11, 4, 3 ],\n",
    "        \"pontuação\": [ 0, 7, 8, 0, 4, 3 ]\n",
    "    },\n",
    "    \"Francesco Bagnaia\": {\n",
    "        \"pais\": \"Itália\",\n",
    "        \"classificações\": [ 12, 7, 8, 11, 4, 3 ],\n",
    "        \"pontuação\": [ 0, 7, 8, 0, 4, 3 ]\n",
    "    }\n",
    "}\n"
   ]
  }
 ],
 "metadata": {
  "kernelspec": {
   "display_name": "Python 3 (ipykernel)",
   "language": "python",
   "name": "python3"
  },
  "language_info": {
   "codemirror_mode": {
    "name": "ipython",
    "version": 3
   },
   "file_extension": ".py",
   "mimetype": "text/x-python",
   "name": "python",
   "nbconvert_exporter": "python",
   "pygments_lexer": "ipython3",
   "version": "3.9.13"
  }
 },
 "nbformat": 4,
 "nbformat_minor": 5
}
