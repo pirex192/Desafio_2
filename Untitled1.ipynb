{
 "cells": [
  {
   "cell_type": "code",
   "execution_count": 13,
   "id": "d34c41b4-cd49-4669-b8b8-42bd13a0592b",
   "metadata": {},
   "outputs": [
    {
     "data": {
      "text/plain": [
       "<function __main__.displayNmapMenu(self)>"
      ]
     },
     "execution_count": 13,
     "metadata": {},
     "output_type": "execute_result"
    }
   ],
   "source": [
    "def displayNmapMenu(self):\n",
    "        while True:\n",
    "            print()\n",
    "            print(\"---------------------------------------\")\n",
    "            print()\n",
    "            print(\"Current NMAP Settings: \")\n",
    "            print(\"Scan Type: %s\" % (self.config[\"scan_type\"]))\n",
    "            print(\"Flags: %s\" % (self.config[\"scan_flags\"]))\n",
    "            print(\"Port Range: %s\" % (self.config[\"scan_port_range\"]))\n",
    "            print(\"Target: %s\" % (self.config[\"scan_target\"]))\n",
    "            print(\"Target List: %s\" % (self.config[\"scan_target_list\"]))\n",
    "            print(\"Set: (s)can type, extra (f)lags, (p)ort range, (t)arget, target (l)ist, (m)ain menu\")\n",
    "            print()\n",
    "\n",
    "            userChoice = input(\"Choose An Option: \")\n",
    "            if userChoice == \"s\":\n",
    "                self.config[\"scan_type\"] = input(\"Choose S, T, U, ST, SU, TU: \")\n",
    "            elif userChoice == \"f\":\n",
    "                self.config[\"scan_flags\"] = input(\"Set Extra Flags (ex: -A -Pn -T4): \")\n",
    "            elif userChoice == \"p\":\n",
    "                self.config[\"scan_port_range\"] = input(\"Enter Range (1-65535): \")\n",
    "            elif userChoice == \"t\":\n",
    "                self.config[\"scan_target\"] = input(\"Enter Target or Range (X.X.X.X/Y): \")\n",
    "                self.config[\"scan_target_list\"] = None\n",
    "            elif userChoice == \"l\":\n",
    "                filePath = input(\"Enter File Path (/tmp/targets.txt): \")\n",
    "                if Utils.isReadable(filePath):\n",
    "                    self.config[\"scan_target\"] = None\n",
    "                    self.config[\"scan_target_list\"] = filePath\n",
    "                else:\n",
    "                    self.display.error(\"Unable to read file\")\n",
    "            elif userChoice == \"m\":\n",
    "                break\n",
    "            else:\n",
    "                self.display.error(\"%s - Not a valid option\" % (userChoice))\n",
    "displayNmapMenu\n",
    "    # ----------------------------\n",
    "    # Browse Knowledgebase\n",
    "    # ---------------------------- "
   ]
  }
 ],
 "metadata": {
  "kernelspec": {
   "display_name": "Python 3 (ipykernel)",
   "language": "python",
   "name": "python3"
  },
  "language_info": {
   "codemirror_mode": {
    "name": "ipython",
    "version": 3
   },
   "file_extension": ".py",
   "mimetype": "text/x-python",
   "name": "python",
   "nbconvert_exporter": "python",
   "pygments_lexer": "ipython3",
   "version": "3.9.13"
  }
 },
 "nbformat": 4,
 "nbformat_minor": 5
}
