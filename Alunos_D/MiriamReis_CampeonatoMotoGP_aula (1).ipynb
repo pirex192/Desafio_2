{
 "cells": [
  {
   "cell_type": "code",
   "execution_count": 1,
   "id": "308cb245-42f2-4964-b318-863ca24901c5",
   "metadata": {
    "jp-MarkdownHeadingCollapsed": true,
    "tags": []
   },
   "outputs": [
    {
     "name": "stdout",
     "output_type": "stream",
     "text": [
      "\n",
      " 1 Pilotos \n",
      "\n",
      "\n",
      " 2 Grande Premio \n",
      "\n",
      "\n",
      " 3 Campeonato \n",
      "\n",
      "\n",
      " 4 Exit \n",
      "\n"
     ]
    },
    {
     "name": "stdin",
     "output_type": "stream",
     "text": [
      "Escolha um valor do menu: \n",
      " 1\n"
     ]
    },
    {
     "name": "stdout",
     "output_type": "stream",
     "text": [
      "\n",
      " 1 Listar pilotos \n",
      "\n",
      "\n",
      " 2 Classificação geral \n",
      "\n",
      "\n",
      " 3 Classificação por GP \n",
      "\n",
      "\n",
      " 4 Menu anterior \n",
      "\n",
      "\n",
      " 5 Exit \n",
      "\n"
     ]
    },
    {
     "name": "stdin",
     "output_type": "stream",
     "text": [
      "Escolha um valor do menu: \n",
      " 3\n"
     ]
    },
    {
     "name": "stdout",
     "output_type": "stream",
     "text": [
      "\n",
      " 1 Escolher circuito \n",
      "\n",
      "\n",
      " 2 Menu anterior \n",
      "\n",
      "\n",
      " 3 Exit \n",
      "\n"
     ]
    },
    {
     "name": "stdin",
     "output_type": "stream",
     "text": [
      "Escolha um valor do menu: \n",
      " 1\n"
     ]
    },
    {
     "name": "stdout",
     "output_type": "stream",
     "text": [
      "\n",
      " 1 Circuit Ricardo Tormo \n",
      "\n",
      "\n",
      " 2 Sepang International Circuit \n",
      "\n",
      "\n",
      " 3 Phillip Island \n",
      "\n",
      "\n",
      " 4 Chang International Circuit \n",
      "\n",
      "\n",
      " 5 Mobility Resort Motegi \n",
      "\n",
      "\n",
      " 6 MotorLand Aragon \n",
      "\n",
      "\n",
      " 7 Misano World Circuit Marco Simoncelli \n",
      "\n",
      "\n",
      " 8 Red Bull Ring - Spielberg \n",
      "\n",
      "\n",
      " 9 Silverstone Circuit \n",
      "\n",
      "\n",
      " 10 TT Circuit Assen \n",
      "\n",
      "\n",
      " 11 Sachsenring \n",
      "\n",
      "\n",
      " 12 Circuit de Barcelona-Catalunya \n",
      "\n",
      "\n",
      " 13 Autodromo Internazionale del Mugello \n",
      "\n",
      "\n",
      " 14 Le Mans \n",
      "\n",
      "\n",
      " 15 Circuito de Jerez - Angel Nieto \n",
      "\n",
      "\n",
      " 16 Autodromo Internacional do Algarve \n",
      "\n",
      "\n",
      " 17 Circuit Of The Americas \n",
      "\n",
      "\n",
      " 18 Termas de Rio Hondo \n",
      "\n",
      "\n",
      " 19 Pertamina Mandalika Circuit \n",
      "\n",
      "\n",
      " 20 Lusail International Circuit \n",
      "\n"
     ]
    },
    {
     "name": "stdin",
     "output_type": "stream",
     "text": [
      "Escolha um valor do menu: \n",
      " 1\n"
     ]
    },
    {
     "name": "stdout",
     "output_type": "stream",
     "text": [
      "\n",
      "Circuit Ricardo Tormo!!!\n",
      "\n",
      "Ordem      Nome           Pontos\n",
      "\n",
      "Tem que escolher um GP realizado !!!\n",
      "\n",
      " 1 Menu anterior \n",
      "\n",
      "\n",
      " 2 Exit\n",
      " \n",
      "\n"
     ]
    },
    {
     "name": "stdin",
     "output_type": "stream",
     "text": [
      "Escolha um valor do menu: \n",
      " 1\n"
     ]
    },
    {
     "name": "stdout",
     "output_type": "stream",
     "text": [
      "\n",
      " 1 Pilotos \n",
      "\n",
      "\n",
      " 2 Grande Premio \n",
      "\n",
      "\n",
      " 3 Campeonato \n",
      "\n",
      "\n",
      " 4 Exit \n",
      "\n"
     ]
    },
    {
     "name": "stdin",
     "output_type": "stream",
     "text": [
      "Escolha um valor do menu: \n",
      " 1\n"
     ]
    },
    {
     "name": "stdout",
     "output_type": "stream",
     "text": [
      "\n",
      " 1 Listar pilotos \n",
      "\n",
      "\n",
      " 2 Classificação geral \n",
      "\n",
      "\n",
      " 3 Classificação por GP \n",
      "\n",
      "\n",
      " 4 Menu anterior \n",
      "\n",
      "\n",
      " 5 Exit \n",
      "\n"
     ]
    },
    {
     "name": "stdin",
     "output_type": "stream",
     "text": [
      "Escolha um valor do menu: \n",
      " 2\n"
     ]
    },
    {
     "name": "stdout",
     "output_type": "stream",
     "text": [
      "\n",
      "   Classificação Geral !!! \n",
      "\n",
      "Ordem      Nome           Pontos\n",
      "\n",
      " 1    Francesco Bagnaia         0\n",
      " 2    Fabio Quartararo          0\n",
      " 3    Enea Bastianini           0\n",
      " 4    Aleix Espargaro           0\n",
      " 5    Jack Miller               0\n",
      " 6    Brad Binder               0\n",
      " 7    Alex Rins                 0\n",
      " 8    Johann Zarco              0\n",
      " 9    Jorge Martin              0\n",
      "10    Miguel Oliveira           0\n",
      "11    Maverick ViÃ±ales         0\n",
      "12    Luca Marini               0\n",
      "13    Marc Marquez              0\n",
      "14    Marco Bezzecchi           0\n",
      "15    Joan Mir                  0\n",
      "16    Pol Espargaro             0\n",
      "17    Alex Marquez              0\n",
      "18    Takaaki Nakagami          0\n",
      "19    Franco Morbidelli         0\n",
      "20    Fabio Di Giannantonio     0\n",
      "21    Andrea Dovizioso          0\n",
      "22    Raul Fernandez            0\n",
      "23    Remy Gardner              0\n",
      "24    Darryn Binder             0\n",
      "25    Cal Crutchlow             0\n",
      "26    Stefan Bradl              0\n",
      "27    Michele Pirro             0\n",
      "28    Lorenzo Savadori          0\n",
      "29    Tetsuta Nagashima         0\n",
      "30    Danilo Petrucci           0\n",
      "31    Kazuki Watanabe           0\n",
      "\n",
      " 1 Menu anterior \n",
      "\n",
      "\n",
      " 2 Exit \n",
      "\n"
     ]
    },
    {
     "name": "stdin",
     "output_type": "stream",
     "text": [
      "Escolha um valor do menu: \n",
      " 1\n"
     ]
    },
    {
     "name": "stdout",
     "output_type": "stream",
     "text": [
      "\n",
      " 1 Pilotos \n",
      "\n",
      "\n",
      " 2 Grande Premio \n",
      "\n",
      "\n",
      " 3 Campeonato \n",
      "\n",
      "\n",
      " 4 Exit \n",
      "\n"
     ]
    },
    {
     "name": "stdin",
     "output_type": "stream",
     "text": [
      "Escolha um valor do menu: \n",
      " 3\n"
     ]
    },
    {
     "name": "stdout",
     "output_type": "stream",
     "text": [
      "\n",
      " 1 Realizar campeonato \n",
      "\n",
      "\n",
      " 2 Os dez primeiros do campeonato \n",
      "\n",
      "\n",
      " 3 Os primeiros de cada GP \n",
      "\n",
      "\n",
      " 4 As três melhores equipas \n",
      "\n",
      "\n",
      " 5 Menu anterior \n",
      "\n",
      "\n",
      " 6 Exit \n",
      "\n"
     ]
    },
    {
     "name": "stdin",
     "output_type": "stream",
     "text": [
      "Escolha um valor do menu: \n",
      " 1\n"
     ]
    },
    {
     "name": "stdout",
     "output_type": "stream",
     "text": [
      "\n",
      " Campeonato realizado !!! \n",
      "\n",
      "\n",
      " 1 Menu anterior \n",
      "\n",
      "\n",
      " 2 Exit \n",
      "\n"
     ]
    },
    {
     "name": "stdin",
     "output_type": "stream",
     "text": [
      "Escolha um valor do menu: \n",
      " 1\n"
     ]
    },
    {
     "name": "stdout",
     "output_type": "stream",
     "text": [
      "\n",
      " 1 Pilotos \n",
      "\n",
      "\n",
      " 2 Grande Premio \n",
      "\n",
      "\n",
      " 3 Campeonato \n",
      "\n",
      "\n",
      " 4 Exit \n",
      "\n"
     ]
    },
    {
     "name": "stdin",
     "output_type": "stream",
     "text": [
      "Escolha um valor do menu: \n",
      " 1\n"
     ]
    },
    {
     "name": "stdout",
     "output_type": "stream",
     "text": [
      "\n",
      " 1 Listar pilotos \n",
      "\n",
      "\n",
      " 2 Classificação geral \n",
      "\n",
      "\n",
      " 3 Classificação por GP \n",
      "\n",
      "\n",
      " 4 Menu anterior \n",
      "\n",
      "\n",
      " 5 Exit \n",
      "\n"
     ]
    },
    {
     "name": "stdin",
     "output_type": "stream",
     "text": [
      "Escolha um valor do menu: \n",
      " 3\n"
     ]
    },
    {
     "name": "stdout",
     "output_type": "stream",
     "text": [
      "\n",
      " 1 Escolher circuito \n",
      "\n",
      "\n",
      " 2 Menu anterior \n",
      "\n",
      "\n",
      " 3 Exit \n",
      "\n"
     ]
    },
    {
     "name": "stdin",
     "output_type": "stream",
     "text": [
      "Escolha um valor do menu: \n",
      " 1\n"
     ]
    },
    {
     "name": "stdout",
     "output_type": "stream",
     "text": [
      "\n",
      " 1 Circuit Ricardo Tormo \n",
      "\n",
      "\n",
      " 2 Sepang International Circuit \n",
      "\n",
      "\n",
      " 3 Phillip Island \n",
      "\n",
      "\n",
      " 4 Chang International Circuit \n",
      "\n",
      "\n",
      " 5 Mobility Resort Motegi \n",
      "\n",
      "\n",
      " 6 MotorLand Aragon \n",
      "\n",
      "\n",
      " 7 Misano World Circuit Marco Simoncelli \n",
      "\n",
      "\n",
      " 8 Red Bull Ring - Spielberg \n",
      "\n",
      "\n",
      " 9 Silverstone Circuit \n",
      "\n",
      "\n",
      " 10 TT Circuit Assen \n",
      "\n",
      "\n",
      " 11 Sachsenring \n",
      "\n",
      "\n",
      " 12 Circuit de Barcelona-Catalunya \n",
      "\n",
      "\n",
      " 13 Autodromo Internazionale del Mugello \n",
      "\n",
      "\n",
      " 14 Le Mans \n",
      "\n",
      "\n",
      " 15 Circuito de Jerez - Angel Nieto \n",
      "\n",
      "\n",
      " 16 Autodromo Internacional do Algarve \n",
      "\n",
      "\n",
      " 17 Circuit Of The Americas \n",
      "\n",
      "\n",
      " 18 Termas de Rio Hondo \n",
      "\n",
      "\n",
      " 19 Pertamina Mandalika Circuit \n",
      "\n",
      "\n",
      " 20 Lusail International Circuit \n",
      "\n"
     ]
    },
    {
     "name": "stdin",
     "output_type": "stream",
     "text": [
      "Escolha um valor do menu: \n",
      " 1\n"
     ]
    },
    {
     "name": "stdout",
     "output_type": "stream",
     "text": [
      "\n",
      "Circuit Ricardo Tormo!!!\n",
      "\n",
      "Ordem      Nome           Pontos\n",
      "\n",
      " 1    Brad Binder               25\n",
      " 2    Maverick ViÃ±ales         20\n",
      " 3    Andrea Dovizioso          16\n",
      " 4    Fabio Di Giannantonio     13\n",
      " 5    Johann Zarco              11\n",
      " 6    Alex Rins                 10\n",
      " 7    Danilo Petrucci           9\n",
      " 8    Alex Marquez              8\n",
      " 9    Jack Miller               7\n",
      "10    Cal Crutchlow             6\n",
      "11    Jorge Martin              5\n",
      "12    Remy Gardner              4\n",
      "13    Marc Marquez              3\n",
      "14    Fabio Quartararo          2\n",
      "15    Takaaki Nakagami          1\n",
      "16    Aleix Espargaro           0\n",
      "17    Marco Bezzecchi           0\n",
      "18    Miguel Oliveira           0\n",
      "19    Raul Fernandez            0\n",
      "20    Darryn Binder             0\n",
      "21    Joan Mir                  0\n",
      "22    Kazuki Watanabe           0\n",
      "23    Pol Espargaro             0\n",
      "24    Franco Morbidelli         0\n",
      "25    Francesco Bagnaia         0\n",
      "26    Luca Marini               0\n",
      "27    Enea Bastianini           0\n",
      "28    Stefan Bradl              0\n",
      "29    Tetsuta Nagashima         0\n",
      "30    Lorenzo Savadori          0\n",
      "31    Michele Pirro             0\n",
      "\n",
      " 1 Menu anterior \n",
      "\n",
      "\n",
      " 2 Exit\n",
      " \n",
      "\n"
     ]
    },
    {
     "name": "stdin",
     "output_type": "stream",
     "text": [
      "Escolha um valor do menu: \n",
      " 1\n"
     ]
    },
    {
     "name": "stdout",
     "output_type": "stream",
     "text": [
      "\n",
      " 1 Pilotos \n",
      "\n",
      "\n",
      " 2 Grande Premio \n",
      "\n",
      "\n",
      " 3 Campeonato \n",
      "\n",
      "\n",
      " 4 Exit \n",
      "\n"
     ]
    },
    {
     "name": "stdin",
     "output_type": "stream",
     "text": [
      "Escolha um valor do menu: \n",
      " 2\n"
     ]
    },
    {
     "name": "stdout",
     "output_type": "stream",
     "text": [
      "\n",
      " 1 Realizar GP \n",
      "\n",
      "\n",
      " 2 Os vencedores por GP \n",
      "\n",
      "\n",
      " 3 Menu anterior \n",
      "\n",
      "\n",
      " 4 Exit \n",
      "\n"
     ]
    },
    {
     "name": "stdin",
     "output_type": "stream",
     "text": [
      "Escolha um valor do menu: \n",
      " 2\n"
     ]
    },
    {
     "name": "stdout",
     "output_type": "stream",
     "text": [
      "Circuit Ricardo Tormo                    Espanha Brad Binder\n",
      "Sepang International Circuit             Malasia Maverick ViÃ±ales\n",
      "Phillip Island                           Australia Enea Bastianini\n",
      "Chang International Circuit              Tailandia Alex Marquez\n",
      "Mobility Resort Motegi                   Japao Aleix Espargaro\n",
      "MotorLand Aragon                         Espanha Andrea Dovizioso\n",
      "Misano World Circuit Marco Simoncelli    San Marino Darryn Binder\n",
      "Red Bull Ring - Spielberg                Austria Tetsuta Nagashima\n",
      "Silverstone Circuit                      Reino Unido Alex Rins\n",
      "TT Circuit Assen                         Holanda Remy Gardner\n",
      "Sachsenring                              Alemanha Enea Bastianini\n",
      "Circuit de Barcelona-Catalunya           Espanha Marco Bezzecchi\n",
      "Autodromo Internazionale del Mugello     Italia Michele Pirro\n",
      "Le Mans                                  Franca Marco Bezzecchi\n",
      "Circuito de Jerez - Angel Nieto          Espanha Michele Pirro\n",
      "Autodromo Internacional do Algarve       Portugal Andrea Dovizioso\n",
      "Circuit Of The Americas                  Estados Unidos da America Remy Gardner\n",
      "Termas de Rio Hondo                      Argentina Kazuki Watanabe\n",
      "Pertamina Mandalika Circuit              Indonesia Andrea Dovizioso\n",
      "Lusail International Circuit             Qatar Aleix Espargaro\n",
      "\n",
      " 1 Menu anterior \n",
      "\n",
      "\n",
      " 2 Exit \n",
      "\n"
     ]
    },
    {
     "name": "stdin",
     "output_type": "stream",
     "text": [
      "Escolha um valor do menu: \n",
      " 1\n"
     ]
    },
    {
     "name": "stdout",
     "output_type": "stream",
     "text": [
      "\n",
      " 1 Pilotos \n",
      "\n",
      "\n",
      " 2 Grande Premio \n",
      "\n",
      "\n",
      " 3 Campeonato \n",
      "\n",
      "\n",
      " 4 Exit \n",
      "\n"
     ]
    },
    {
     "name": "stdin",
     "output_type": "stream",
     "text": [
      "Escolha um valor do menu: \n",
      " 2\n"
     ]
    },
    {
     "name": "stdout",
     "output_type": "stream",
     "text": [
      "\n",
      " 1 Realizar GP \n",
      "\n",
      "\n",
      " 2 Os vencedores por GP \n",
      "\n",
      "\n",
      " 3 Menu anterior \n",
      "\n",
      "\n",
      " 4 Exit \n",
      "\n"
     ]
    },
    {
     "name": "stdin",
     "output_type": "stream",
     "text": [
      "Escolha um valor do menu: \n",
      " 3\n"
     ]
    },
    {
     "name": "stdout",
     "output_type": "stream",
     "text": [
      "\n",
      " 1 Pilotos \n",
      "\n",
      "\n",
      " 2 Grande Premio \n",
      "\n",
      "\n",
      " 3 Campeonato \n",
      "\n",
      "\n",
      " 4 Exit \n",
      "\n"
     ]
    },
    {
     "name": "stdin",
     "output_type": "stream",
     "text": [
      "Escolha um valor do menu: \n",
      " 3\n"
     ]
    },
    {
     "name": "stdout",
     "output_type": "stream",
     "text": [
      "\n",
      " 1 Realizar campeonato \n",
      "\n",
      "\n",
      " 2 Os dez primeiros do campeonato \n",
      "\n",
      "\n",
      " 3 Os primeiros de cada GP \n",
      "\n",
      "\n",
      " 4 As três melhores equipas \n",
      "\n",
      "\n",
      " 5 Menu anterior \n",
      "\n",
      "\n",
      " 6 Exit \n",
      "\n"
     ]
    },
    {
     "name": "stdin",
     "output_type": "stream",
     "text": [
      "Escolha um valor do menu: \n",
      " 2\n"
     ]
    },
    {
     "name": "stdout",
     "output_type": "stream",
     "text": [
      "\n",
      "   Classificação Geral !!! \n",
      "\n",
      "Ordem      Nome           Pontos\n",
      "\n",
      " 1    Andrea Dovizioso          166\n",
      " 2    Michele Pirro             155\n",
      " 3    Alex Marquez              143\n",
      " 4    Remy Gardner              140\n",
      " 5    Franco Morbidelli         122\n",
      " 6    Takaaki Nakagami          121\n",
      " 7    Aleix Espargaro           119\n",
      " 8    Marco Bezzecchi           118\n",
      " 9    Enea Bastianini           116\n",
      "10    Maverick ViÃ±ales         101\n",
      "\n",
      " 1 Menu anterior \n",
      "\n",
      "\n",
      " 2 Exit \n",
      "\n"
     ]
    },
    {
     "name": "stdin",
     "output_type": "stream",
     "text": [
      "Escolha um valor do menu: \n",
      " 1\n"
     ]
    },
    {
     "name": "stdout",
     "output_type": "stream",
     "text": [
      "\n",
      " 1 Pilotos \n",
      "\n",
      "\n",
      " 2 Grande Premio \n",
      "\n",
      "\n",
      " 3 Campeonato \n",
      "\n",
      "\n",
      " 4 Exit \n",
      "\n"
     ]
    },
    {
     "name": "stdin",
     "output_type": "stream",
     "text": [
      "Escolha um valor do menu: \n",
      " 3\n"
     ]
    },
    {
     "name": "stdout",
     "output_type": "stream",
     "text": [
      "\n",
      " 1 Realizar campeonato \n",
      "\n",
      "\n",
      " 2 Os dez primeiros do campeonato \n",
      "\n",
      "\n",
      " 3 Os primeiros de cada GP \n",
      "\n",
      "\n",
      " 4 As três melhores equipas \n",
      "\n",
      "\n",
      " 5 Menu anterior \n",
      "\n",
      "\n",
      " 6 Exit \n",
      "\n"
     ]
    },
    {
     "name": "stdin",
     "output_type": "stream",
     "text": [
      "Escolha um valor do menu: \n",
      " 3\n"
     ]
    },
    {
     "name": "stdout",
     "output_type": "stream",
     "text": [
      "Circuit Ricardo Tormo                    Espanha Brad Binder\n",
      "Sepang International Circuit             Malasia Maverick ViÃ±ales\n",
      "Phillip Island                           Australia Enea Bastianini\n",
      "Chang International Circuit              Tailandia Alex Marquez\n",
      "Mobility Resort Motegi                   Japao Aleix Espargaro\n",
      "MotorLand Aragon                         Espanha Andrea Dovizioso\n",
      "Misano World Circuit Marco Simoncelli    San Marino Darryn Binder\n",
      "Red Bull Ring - Spielberg                Austria Tetsuta Nagashima\n",
      "Silverstone Circuit                      Reino Unido Alex Rins\n",
      "TT Circuit Assen                         Holanda Remy Gardner\n",
      "Sachsenring                              Alemanha Enea Bastianini\n",
      "Circuit de Barcelona-Catalunya           Espanha Marco Bezzecchi\n",
      "Autodromo Internazionale del Mugello     Italia Michele Pirro\n",
      "Le Mans                                  Franca Marco Bezzecchi\n",
      "Circuito de Jerez - Angel Nieto          Espanha Michele Pirro\n",
      "Autodromo Internacional do Algarve       Portugal Andrea Dovizioso\n",
      "Circuit Of The Americas                  Estados Unidos da America Remy Gardner\n",
      "Termas de Rio Hondo                      Argentina Kazuki Watanabe\n",
      "Pertamina Mandalika Circuit              Indonesia Andrea Dovizioso\n",
      "Lusail International Circuit             Qatar Aleix Espargaro\n",
      "\n",
      " 1 Menu anterior \n",
      "\n",
      "\n",
      " 2 Exit \n",
      "\n"
     ]
    },
    {
     "name": "stdin",
     "output_type": "stream",
     "text": [
      "Escolha um valor do menu: \n",
      " 1\n"
     ]
    },
    {
     "name": "stdout",
     "output_type": "stream",
     "text": [
      "\n",
      " 1 Pilotos \n",
      "\n",
      "\n",
      " 2 Grande Premio \n",
      "\n",
      "\n",
      " 3 Campeonato \n",
      "\n",
      "\n",
      " 4 Exit \n",
      "\n"
     ]
    },
    {
     "name": "stdin",
     "output_type": "stream",
     "text": [
      "Escolha um valor do menu: \n",
      " 3\n"
     ]
    },
    {
     "name": "stdout",
     "output_type": "stream",
     "text": [
      "\n",
      " 1 Realizar campeonato \n",
      "\n",
      "\n",
      " 2 Os dez primeiros do campeonato \n",
      "\n",
      "\n",
      " 3 Os primeiros de cada GP \n",
      "\n",
      "\n",
      " 4 As três melhores equipas \n",
      "\n",
      "\n",
      " 5 Menu anterior \n",
      "\n",
      "\n",
      " 6 Exit \n",
      "\n"
     ]
    },
    {
     "name": "stdin",
     "output_type": "stream",
     "text": [
      "Escolha um valor do menu: \n",
      " 4\n"
     ]
    },
    {
     "name": "stdout",
     "output_type": "stream",
     "text": [
      "   Equipas                     Pontos\n",
      "WithU Yamaha RNF MotoGP Team     326\n",
      "Aprilia Racing                   273\n",
      "Team SUZUKI ECSTAR               270\n",
      "\n",
      " 1 Menu anterior \n",
      "\n",
      "\n",
      " 2 Exit \n",
      "\n"
     ]
    },
    {
     "name": "stdin",
     "output_type": "stream",
     "text": [
      "Escolha um valor do menu: \n",
      " 1\n"
     ]
    },
    {
     "name": "stdout",
     "output_type": "stream",
     "text": [
      "\n",
      " 1 Pilotos \n",
      "\n",
      "\n",
      " 2 Grande Premio \n",
      "\n",
      "\n",
      " 3 Campeonato \n",
      "\n",
      "\n",
      " 4 Exit \n",
      "\n"
     ]
    },
    {
     "name": "stdin",
     "output_type": "stream",
     "text": [
      "Escolha um valor do menu: \n",
      " 4\n"
     ]
    },
    {
     "name": "stdout",
     "output_type": "stream",
     "text": [
      "Goodbye\n"
     ]
    },
    {
     "ename": "SystemExit",
     "evalue": "",
     "output_type": "error",
     "traceback": [
      "An exception has occurred, use %tb to see the full traceback.\n",
      "\u001b[1;31mSystemExit\u001b[0m\n"
     ]
    },
    {
     "name": "stderr",
     "output_type": "stream",
     "text": [
      "C:\\ProgramData\\Anaconda3\\lib\\site-packages\\IPython\\core\\interactiveshell.py:3465: UserWarning: To exit: use 'exit', 'quit', or Ctrl-D.\n",
      "  warn(\"To exit: use 'exit', 'quit', or Ctrl-D.\", stacklevel=1)\n"
     ]
    }
   ],
   "source": [
    "import random\n",
    "import re\n",
    "import sys\n",
    "from os import system\n",
    "\n",
    "fonte_pilotos = open(\"Pilotos_2022.txt\",'r')\n",
    "fonte_circuitos = open(\"Circuito_2022.txt\",'r')\n",
    "fonte_pontos = open(\"Pontos_2022.txt\",'r')\n",
    "\n",
    "pilotos = {}\n",
    "circuitos = {}\n",
    "pontos = {}\n",
    "lista_menu = ['Pilotos', 'Grande Premio', 'Campeonato', 'Exit']\n",
    "flag = 0\n",
    "\n",
    "for x in fonte_pilotos:\n",
    "#    piloto = x.strip().split(',')\n",
    "    numero, nome, pais, equipa, mota = x.strip().split(',')\n",
    "    pilotos[nome] = [numero, pais, equipa, mota, []]\n",
    "fonte_pilotos.close()\n",
    "\n",
    "for c in fonte_circuitos:\n",
    "    nome, país, distancia = c.strip().split(',')\n",
    "    circuitos[nome] = [país, distancia, []]\n",
    "fonte_circuitos.close()\n",
    "\n",
    "for p in fonte_pontos:\n",
    "    ponto = p.strip().split(',')\n",
    "    pontos[ponto[0]] = ponto[1]\n",
    "fonte_pontos.close()\n",
    "\n",
    "def Pilotos():\n",
    "    lista_menu = ['Listar pilotos', 'Classificação geral', 'Classificação por GP', 'Menu anterior', 'Exit']    \n",
    "    Menu(lista_menu, 0)    \n",
    "    input(\"Press Enter to Continue\\n\")\n",
    "    system('cls')\n",
    "\n",
    "def ListarPilotos():\n",
    "    print('\\n', 'Nome'.ljust(22),'Número'.ljust(7), 'País'.ljust(6), 'Equipa'.ljust(30), 'Mota','\\n')    \n",
    "    for x in pilotos:\n",
    "        print(x.ljust(25), pilotos[x][0].ljust(5), pilotos[x][1].ljust(5), pilotos[x][2].ljust(30), pilotos[x][3])\n",
    "    print('\\n', '\\n')\n",
    "    lista_menu = ['Menu anterior', 'Exit']    \n",
    "    Menu(lista_menu, 0)\n",
    "    input(\"Press Enter to Continue\\n\")\n",
    "    system('cls')\n",
    "    \n",
    "def ClassificaçãoGeral():\n",
    "    venc_ordenada = []    \n",
    "    res_final_gp = []\n",
    "    for x in pilotos:\n",
    "        soma = sum(pontuacao[1] for pontuacao in pilotos[x][4])\n",
    "        res_final_gp.append([x, soma])\n",
    "    \n",
    "    def TakeSecond(elem):\n",
    "        return elem[1]\n",
    "    venc_ordenada = sorted(res_final_gp, key=TakeSecond, reverse=True)\n",
    "    print('\\n   Classificação Geral !!! \\n\\nOrdem      Nome           Pontos\\n')\n",
    "    i=1\n",
    "    for x in venc_ordenada:\n",
    "        if i < 10:\n",
    "            print('', i, '  ', x[0].ljust(25), x[1])\n",
    "        else:\n",
    "            print(i, '  ',  x[0].ljust(25), x[1])            \n",
    "        i+=1\n",
    "    lista_menu = ['Menu anterior', 'Exit']    \n",
    "    Menu(lista_menu, 0)\n",
    "    input(\"Press Enter to Continue\\n\")\n",
    "    system('cls') \n",
    "\n",
    "def MenuClassificaçãoPorGP():\n",
    "    lista_menu = ['Escolher circuito', 'Menu anterior', 'Exit']    \n",
    "    Menu(lista_menu, 0)\n",
    "    input(\"Press Enter to Continue\\n\")\n",
    "    system('cls')\n",
    "\n",
    "def EscolherCircuitoPilotos():\n",
    "    lista_menu = []\n",
    "    for x in circuitos:\n",
    "        lista_menu.append(x)    \n",
    "    Menu(lista_menu, 1)\n",
    "    input(\"Press Enter to Continue\\n\")\n",
    "    system('cls')\n",
    "\n",
    "def ClassificaçãoPorGP(circuito):\n",
    "    \n",
    "    print('\\n' + circuito + '!!!\\n\\nOrdem      Nome           Pontos\\n')\n",
    "    i=1\n",
    "    if circuitos[circuito][2] != []:\n",
    "        for x in circuitos[circuito][2]:        \n",
    "            if i < 10:\n",
    "                print('', i, '  ', x[2].ljust(25), x[1])\n",
    "            else:\n",
    "                print(i, '  ',  x[2].ljust(25), x[1])            \n",
    "            i+=1\n",
    "    else:\n",
    "        print('Tem que escolher um GP realizado !!!')\n",
    "    lista_menu = ['Menu anterior', 'Exit\\n']\n",
    "    Menu(lista_menu, 0)\n",
    "    input(\"Press Enter to Continue\\n\")\n",
    "    system('cls')\n",
    "    \n",
    "def GrandePremio():\n",
    "    lista_menu = ['Realizar GP', 'Os vencedores por GP', 'Menu anterior', 'Exit']    \n",
    "    Menu(lista_menu, 0)\n",
    "    input(\"Press Enter to Continue\\n\")\n",
    "    system('cls')\n",
    "\n",
    "def RealizarGP():\n",
    "    \n",
    "    lista_menu = []\n",
    "    for x in circuitos:\n",
    "        lista_menu.append(x)    \n",
    "    Menu(lista_menu, 2)\n",
    "    input(\"Press Enter to Continue\\n\")\n",
    "    system('cls')\n",
    "\n",
    "\n",
    "    \n",
    "def Realizar_GP(circuito):\n",
    "    \n",
    "    \n",
    "    replica_pilotos = list(pilotos)\n",
    "    i=1\n",
    "    while replica_pilotos:\n",
    "        try:\n",
    "            pont = int(pontos[str(i)])\n",
    "        except:\n",
    "            pont = 0\n",
    "        piloto = random.choice(replica_pilotos)\n",
    "        replica_pilotos.remove(piloto)\n",
    "        pilotos[piloto][4].append((circuito, pont))\n",
    "        circuitos[circuito][2].append((pilotos[piloto][2],pont, piloto))\n",
    "\n",
    "        i+=1\n",
    "  \n",
    "    print('\\n GP realizado !!! \\n')\n",
    "\n",
    "    lista_menu = ['Menu anterior', 'Exit']    \n",
    "    Menu(lista_menu, 0)\n",
    "    input(\"Press Enter to Continue\\n\")\n",
    "    system('cls')\n",
    "\n",
    "def VencedoresPorGP():\n",
    "    for x in circuitos:\n",
    "        print(x.ljust(40),circuitos[x][0], circuitos[x][2][0][2])\n",
    "    \n",
    "    lista_menu = ['Menu anterior', 'Exit']    \n",
    "    Menu(lista_menu, 0)\n",
    "    input(\"Press Enter to Continue\\n\")\n",
    "    system('cls')\n",
    "    \n",
    "def Campeonato():\n",
    "    lista_menu = ['Realizar campeonato', 'Os dez primeiros do campeonato', 'Os primeiros de cada GP','As três melhores equipas', 'Menu anterior', 'Exit']    \n",
    "    Menu(lista_menu, 0)\n",
    "    input(\"Press Enter to Continue\\n\")\n",
    "    system('cls')\n",
    "\n",
    "def RealizarCampeonato():\n",
    "    for gp in circuitos:\n",
    "        replica_pilotos = list(pilotos)\n",
    "        i=1\n",
    "        while replica_pilotos:\n",
    "            try:\n",
    "                pont = int(pontos[str(i)])\n",
    "            except:\n",
    "                pont = 0\n",
    "            piloto = random.choice(replica_pilotos)\n",
    "            replica_pilotos.remove(piloto)\n",
    "            pilotos[piloto][4].append((gp, pont))\n",
    "            circuitos[gp][2].append((pilotos[piloto][2],pont, piloto))\n",
    "\n",
    "            i+=1\n",
    "  \n",
    "    print('\\n Campeonato realizado !!! \\n')\n",
    "\n",
    "    lista_menu = ['Menu anterior', 'Exit']    \n",
    "    Menu(lista_menu, 0)\n",
    "    input(\"Press Enter to Continue\\n\")\n",
    "    system('cls')\n",
    "\n",
    "def DezPrimeiros():\n",
    "   \n",
    "    venc_ordenada = []    \n",
    "    res_final_gp = []\n",
    "    for x in pilotos:\n",
    "        soma = sum(pontuacao[1] for pontuacao in pilotos[x][4])\n",
    "        res_final_gp.append([x, soma])\n",
    "    \n",
    "    def TakeSecond(elem):\n",
    "        return elem[1]\n",
    "    venc_ordenada = sorted(res_final_gp, key=TakeSecond, reverse=True)\n",
    "    print('\\n   Classificação Geral !!! \\n\\nOrdem      Nome           Pontos\\n')\n",
    "    i=1\n",
    "    for x in venc_ordenada:\n",
    "        if i < 10:\n",
    "            print('', i, '  ', x[0].ljust(25), x[1])\n",
    "        elif i < 11:\n",
    "            print(i, '  ',  x[0].ljust(25), x[1])            \n",
    "        i+=1\n",
    "    lista_menu = ['Menu anterior', 'Exit']    \n",
    "    Menu(lista_menu, 0)\n",
    "    input(\"Press Enter to Continue\\n\")\n",
    "    system('cls') \n",
    "\n",
    "def TresEquipas():\n",
    "    \n",
    "    equipas = {}\n",
    "    pilotos = {}\n",
    "\n",
    "    for x in circuitos:\n",
    "        circuito = circuitos[x]\n",
    "        classificacao = circuito[2]\n",
    "        for c in classificacao:\n",
    "            equipa, pontos, piloto = c\n",
    "            if equipa in equipas:\n",
    "                equipas[equipa] = equipas[equipa] + pontos\n",
    "            else:\n",
    "                equipas[equipa] = pontos\n",
    "            if piloto in pilotos:\n",
    "                pilotos[piloto] = pilotos[piloto] + pontos\n",
    "            else:\n",
    "                pilotos[piloto] = pontos            \n",
    "    # print(sorted(equipas.items(), reverse=True, key=lambda item: item[1]))\n",
    "    # print(sorted(pilotos.items(), reverse=True, key=lambda item: item[1]))\n",
    "    tres =  sorted(equipas.items(), reverse=True, key=lambda item: item[1])\n",
    "    print(\"   Equipas\".ljust(30), \"Pontos\")\n",
    "    primeiros(tres, 3)\n",
    "    lista_menu = ['Menu anterior', 'Exit']    \n",
    "    Menu(lista_menu, 0)\n",
    "    input(\"Press Enter to Continue\\n\")\n",
    "    system('cls')\n",
    "\n",
    "def primeiros(equipas, limite):\n",
    "    i = 0\n",
    "    for e in equipas:\n",
    "        if i < limite:\n",
    "            print('{}{}'.format(e[0].ljust(33), e[1]))\n",
    "        i = i+1\n",
    "\n",
    "def Exit():  \n",
    "    system('cls')\n",
    "    print(\"Goodbye\")\n",
    "    sys.exit()\n",
    "    \n",
    "def MenuAnterior():\n",
    "    lista_menu = ['Pilotos', 'Grande Premio', 'Campeonato', 'Exit']\n",
    "    Menu(lista_menu, 0)\n",
    "    input(\"Press Enter to Continue\\n\")\n",
    "    system('cls')\n",
    "    \n",
    "def display_menu(menu_items):\n",
    "    for x in menu_items:\n",
    "        print('\\n', x, menu_items.get(x), '\\n')\n",
    "\n",
    "def Menu(lista_menu, flag):\n",
    "    menu_items = dict(enumerate(lista_menu, start=1))\n",
    "    while True:\n",
    "        display_menu(menu_items)        \n",
    "        try:\n",
    "            selection = int(input(\"Escolha um valor do menu: \\n\"))\n",
    "        except:\n",
    "            print('Introduza um algarismo !')\n",
    "        else:\n",
    "            try:\n",
    "                selected = menu_items[selection]\n",
    "                break\n",
    "            except:\n",
    "                print('Escolha um valor do menu !')\n",
    "            else:\n",
    "                break\n",
    "    nome_menu = {'Pilotos' : Pilotos,\n",
    "                 'Grande Premio' : GrandePremio,\n",
    "                 'Campeonato' : Campeonato,\n",
    "                 'Exit' : Exit,\n",
    "                 'Os dez primeiros do campeonato' : DezPrimeiros,\n",
    "                 'As três melhores equipas' : TresEquipas,\n",
    "                 'Menu anterior' : MenuAnterior,\n",
    "                 'Os primeiros de cada GP' : VencedoresPorGP,\n",
    "                 'Realizar GP' : RealizarGP,\n",
    "                 'Classificação geral' : ClassificaçãoGeral,\n",
    "                 'Realizar campeonato' : RealizarCampeonato,\n",
    "                 'Escolher circuito' : EscolherCircuitoPilotos,\n",
    "                 'Listar pilotos' : ListarPilotos,\n",
    "                 'Classificação por GP' : MenuClassificaçãoPorGP,\n",
    "                 'Os vencedores por GP' : VencedoresPorGP\n",
    "    }\n",
    "    if flag == 0:\n",
    "        executa_funcao = nome_menu[selected]\n",
    "        executa_funcao()\n",
    "    elif flag == 1:\n",
    "        ClassificaçãoPorGP(selected)\n",
    "    elif flag == 2:\n",
    "        Realizar_GP(selected)\n",
    "    \n",
    "Menu(lista_menu,0)"
   ]
  },
  {
   "cell_type": "markdown",
   "id": "df60de8c-40d2-4ad8-a5e1-4cc126b7dbd7",
   "metadata": {},
   "source": [
    " "
   ]
  },
  {
   "cell_type": "code",
   "execution_count": null,
   "id": "0a046ea4-16bf-4147-8b90-32692673d954",
   "metadata": {},
   "outputs": [],
   "source": []
  }
 ],
 "metadata": {
  "kernelspec": {
   "display_name": "Python 3 (ipykernel)",
   "language": "python",
   "name": "python3"
  },
  "language_info": {
   "codemirror_mode": {
    "name": "ipython",
    "version": 3
   },
   "file_extension": ".py",
   "mimetype": "text/x-python",
   "name": "python",
   "nbconvert_exporter": "python",
   "pygments_lexer": "ipython3",
   "version": "3.9.13"
  }
 },
 "nbformat": 4,
 "nbformat_minor": 5
}
