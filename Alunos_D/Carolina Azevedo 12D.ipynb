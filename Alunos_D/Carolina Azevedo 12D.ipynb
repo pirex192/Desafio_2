{
 "cells": [
  {
   "cell_type": "code",
   "execution_count": null,
   "id": "a838e8d1",
   "metadata": {},
   "outputs": [
    {
     "name": "stdout",
     "output_type": "stream",
     "text": [
      "Bem vindo ao gerador de GP!\n",
      "Escollha uma opção:\n",
      "1. Crie o seu GP\n",
      "2. GP Completo\n",
      "3. Sair\n"
     ]
    },
    {
     "name": "stdin",
     "output_type": "stream",
     "text": [
      " 1\n"
     ]
    },
    {
     "name": "stdout",
     "output_type": "stream",
     "text": [
      "Selecione as pistas onde deseja realizar o campeonato e, de seguida, dê inicio ao GP escolhendo o nº20\n",
      "1. Circuit Ricardo Tormo,Espanha,4005\n",
      "2. Sepang International Circuit,Malasia,5543\n",
      "3. Phillip Island,Australia,4448\n",
      "4. Chang International Circuit,Tailandia,4554\n",
      "5. Mobility Resort Motegi,Japao,4801\n",
      "6. MotorLand Aragon,Espanha,5077\n",
      "7. Misano World Circuit Marco Simoncelli,San Marino,4226\n",
      "8. Red Bull Ring - Spielberg,Austria,4348\n",
      "9. Silverstone Circuit,Reino Unido,5900\n",
      "10. TT Circuit Assen,Holanda,4542\n",
      "11. Sachsenring,Alemanha,3671\n",
      "12. Circuit de Barcelona-Catalunya,Espanha,4657\n",
      "13. Autodromo Internazionale del Mugello,Italia,5245\n",
      "14. Le Mans,Franca,4185\n",
      "15. Circuito de Jerez - Angel Nieto,Espanha,4423\n",
      "16. Autodromo Internacional do Algarve,Portugal,4592\n",
      "17. Circuit Of The Americas,Estados Unidos da America,5513\n",
      "18. Termas de Rio Hondo,Argentina,4806\n",
      "19. Pertamina Mandalika Circuit,Indonesia,4301\n",
      "20. Lusail International Circuit,Qatar,5380\n",
      "21. Inicar GP\n",
      "22. Retroceder\n"
     ]
    },
    {
     "name": "stdin",
     "output_type": "stream",
     "text": [
      " 20\n"
     ]
    },
    {
     "name": "stdout",
     "output_type": "stream",
     "text": [
      "Selecione as pistas onde deseja realizar o campeonato e, de seguida, dê inicio ao GP escolhendo o nº20\n",
      "1. Circuit Ricardo Tormo,Espanha,4005\n",
      "2. Sepang International Circuit,Malasia,5543\n",
      "3. Phillip Island,Australia,4448\n",
      "4. Chang International Circuit,Tailandia,4554\n",
      "5. Mobility Resort Motegi,Japao,4801\n",
      "6. MotorLand Aragon,Espanha,5077\n",
      "7. Misano World Circuit Marco Simoncelli,San Marino,4226\n",
      "8. Red Bull Ring - Spielberg,Austria,4348\n",
      "9. Silverstone Circuit,Reino Unido,5900\n",
      "10. TT Circuit Assen,Holanda,4542\n",
      "11. Sachsenring,Alemanha,3671\n",
      "12. Circuit de Barcelona-Catalunya,Espanha,4657\n",
      "13. Autodromo Internazionale del Mugello,Italia,5245\n",
      "14. Le Mans,Franca,4185\n",
      "15. Circuito de Jerez - Angel Nieto,Espanha,4423\n",
      "16. Autodromo Internacional do Algarve,Portugal,4592\n",
      "17. Circuit Of The Americas,Estados Unidos da America,5513\n",
      "18. Termas de Rio Hondo,Argentina,4806\n",
      "19. Pertamina Mandalika Circuit,Indonesia,4301\n",
      "20. Inicar GP\n",
      "21. Retroceder\n"
     ]
    },
    {
     "name": "stdin",
     "output_type": "stream",
     "text": [
      " 20\n"
     ]
    },
    {
     "name": "stdout",
     "output_type": "stream",
     "text": [
      "Escolha uma opção:\n",
      "1. Visualizar o ranking dos pilotos\n",
      "2. Visulizar o ranking das equipas\n",
      "3. Visuaizar o resultado das corridas\n",
      "4. Visualizar o Top 3\n",
      "5. Sair\n"
     ]
    },
    {
     "name": "stdin",
     "output_type": "stream",
     "text": [
      " 1\n"
     ]
    },
    {
     "name": "stdout",
     "output_type": "stream",
     "text": [
      "Ranking dos pilotos:\n",
      "+-----------------------+--------+\n",
      "|        Piloto         | Pontos |\n",
      "+-----------------------+--------+\n",
      "|   Fabio Quartararo    |   25   |\n",
      "|     Michele Pirro     |   20   |\n",
      "|   Tetsuta Nagashima   |   15   |\n",
      "| Fabio Di Giannantonio |   13   |\n",
      "|    Raul Fernandez     |   11   |\n",
      "|     Johann Zarco      |   10   |\n",
      "|     Darryn Binder     |   9    |\n",
      "|   Lorenzo Savadori    |   8    |\n",
      "|      Jack Miller      |   7    |\n",
      "|     Pol Espargaro     |   6    |\n",
      "|   Francesco Bagnaia   |   5    |\n",
      "|     Stefan Bradl      |   4    |\n",
      "|    Marco Bezzecchi    |   3    |\n",
      "|   Andrea Dovizioso    |   2    |\n",
      "|   Maverick Viñales    |   1    |\n",
      "|    Enea Bastianini    |   0    |\n",
      "|    Aleix Espargaro    |   0    |\n",
      "|      Brad Binder      |   0    |\n",
      "|       Alex Rins       |   0    |\n",
      "|     Jorge Martin      |   0    |\n",
      "|    Miguel Oliveira    |   0    |\n",
      "|      Luca Marini      |   0    |\n",
      "|     Marc Marquez      |   0    |\n",
      "|       Joan Mir        |   0    |\n",
      "|     Alex Marquez      |   0    |\n",
      "|   Takaaki Nakagami    |   0    |\n",
      "|   Franco Morbidelli   |   0    |\n",
      "|     Remy Gardner      |   0    |\n",
      "|     Cal Crutchlow     |   0    |\n",
      "|    Danilo Petrucci    |   0    |\n",
      "|    Kazuki Watanabe    |   0    |\n",
      "+-----------------------+--------+\n",
      "Escolha uma opção:\n",
      "1. Visualizar o ranking dos pilotos\n",
      "2. Visulizar o ranking das equipas\n",
      "3. Visuaizar o resultado das corridas\n",
      "4. Visualizar o Top 3\n",
      "5. Sair\n"
     ]
    },
    {
     "name": "stdin",
     "output_type": "stream",
     "text": [
      " 5\n"
     ]
    },
    {
     "name": "stdout",
     "output_type": "stream",
     "text": [
      "Bem vindo ao gerador de GP!\n",
      "Escollha uma opção:\n",
      "1. Crie o seu GP\n",
      "2. GP Completo\n",
      "3. Sair\n"
     ]
    },
    {
     "name": "stdin",
     "output_type": "stream",
     "text": [
      " 1\n"
     ]
    },
    {
     "name": "stdout",
     "output_type": "stream",
     "text": [
      "Selecione as pistas onde deseja realizar o campeonato e, de seguida, dê inicio ao GP escolhendo o nº20\n",
      "1. Circuit Ricardo Tormo,Espanha,4005\n",
      "2. Sepang International Circuit,Malasia,5543\n",
      "3. Phillip Island,Australia,4448\n",
      "4. Chang International Circuit,Tailandia,4554\n",
      "5. Mobility Resort Motegi,Japao,4801\n",
      "6. MotorLand Aragon,Espanha,5077\n",
      "7. Misano World Circuit Marco Simoncelli,San Marino,4226\n",
      "8. Red Bull Ring - Spielberg,Austria,4348\n",
      "9. Silverstone Circuit,Reino Unido,5900\n",
      "10. TT Circuit Assen,Holanda,4542\n",
      "11. Sachsenring,Alemanha,3671\n",
      "12. Circuit de Barcelona-Catalunya,Espanha,4657\n",
      "13. Autodromo Internazionale del Mugello,Italia,5245\n",
      "14. Le Mans,Franca,4185\n",
      "15. Circuito de Jerez - Angel Nieto,Espanha,4423\n",
      "16. Autodromo Internacional do Algarve,Portugal,4592\n",
      "17. Circuit Of The Americas,Estados Unidos da America,5513\n",
      "18. Termas de Rio Hondo,Argentina,4806\n",
      "19. Pertamina Mandalika Circuit,Indonesia,4301\n",
      "20. Inicar GP\n",
      "21. Retroceder\n"
     ]
    },
    {
     "name": "stdin",
     "output_type": "stream",
     "text": [
      " 19\n"
     ]
    },
    {
     "name": "stdout",
     "output_type": "stream",
     "text": [
      "Selecione as pistas onde deseja realizar o campeonato e, de seguida, dê inicio ao GP escolhendo o nº20\n",
      "1. Circuit Ricardo Tormo,Espanha,4005\n",
      "2. Sepang International Circuit,Malasia,5543\n",
      "3. Phillip Island,Australia,4448\n",
      "4. Chang International Circuit,Tailandia,4554\n",
      "5. Mobility Resort Motegi,Japao,4801\n",
      "6. MotorLand Aragon,Espanha,5077\n",
      "7. Misano World Circuit Marco Simoncelli,San Marino,4226\n",
      "8. Red Bull Ring - Spielberg,Austria,4348\n",
      "9. Silverstone Circuit,Reino Unido,5900\n",
      "10. TT Circuit Assen,Holanda,4542\n",
      "11. Sachsenring,Alemanha,3671\n",
      "12. Circuit de Barcelona-Catalunya,Espanha,4657\n",
      "13. Autodromo Internazionale del Mugello,Italia,5245\n",
      "14. Le Mans,Franca,4185\n",
      "15. Circuito de Jerez - Angel Nieto,Espanha,4423\n",
      "16. Autodromo Internacional do Algarve,Portugal,4592\n",
      "17. Circuit Of The Americas,Estados Unidos da America,5513\n",
      "18. Termas de Rio Hondo,Argentina,4806\n",
      "19. Inicar GP\n",
      "20. Retroceder\n"
     ]
    },
    {
     "name": "stdin",
     "output_type": "stream",
     "text": [
      " 19\n"
     ]
    },
    {
     "name": "stdout",
     "output_type": "stream",
     "text": [
      "Escolha uma opção:\n",
      "1. Visualizar o ranking dos pilotos\n",
      "2. Visulizar o ranking das equipas\n",
      "3. Visuaizar o resultado das corridas\n",
      "4. Visualizar o Top 3\n",
      "5. Sair\n"
     ]
    },
    {
     "name": "stdin",
     "output_type": "stream",
     "text": [
      " 1\n"
     ]
    },
    {
     "name": "stdout",
     "output_type": "stream",
     "text": [
      "Ranking dos pilotos:\n",
      "+-----------------------+--------+\n",
      "|        Piloto         | Pontos |\n",
      "+-----------------------+--------+\n",
      "|   Fabio Quartararo    |   30   |\n",
      "|     Pol Espargaro     |   25   |\n",
      "|   Lorenzo Savadori    |   25   |\n",
      "|   Maverick Viñales    |   20   |\n",
      "|   Takaaki Nakagami    |   20   |\n",
      "|     Alex Marquez      |   19   |\n",
      "|     Cal Crutchlow     |   16   |\n",
      "|     Johann Zarco      |   13   |\n",
      "|    Enea Bastianini    |   11   |\n",
      "|    Aleix Espargaro    |   11   |\n",
      "|    Marco Bezzecchi    |   11   |\n",
      "|     Darryn Binder     |   10   |\n",
      "|      Luca Marini      |   9    |\n",
      "|     Marc Marquez      |   9    |\n",
      "|    Danilo Petrucci    |   9    |\n",
      "|    Kazuki Watanabe    |   8    |\n",
      "|      Jack Miller      |   7    |\n",
      "|   Tetsuta Nagashima   |   7    |\n",
      "|   Andrea Dovizioso    |   6    |\n",
      "|       Alex Rins       |   4    |\n",
      "|     Remy Gardner      |   3    |\n",
      "|    Miguel Oliveira    |   2    |\n",
      "|       Joan Mir        |   2    |\n",
      "|   Franco Morbidelli   |   1    |\n",
      "|   Francesco Bagnaia   |   0    |\n",
      "|      Brad Binder      |   0    |\n",
      "|     Jorge Martin      |   0    |\n",
      "| Fabio Di Giannantonio |   0    |\n",
      "|    Raul Fernandez     |   0    |\n",
      "|     Stefan Bradl      |   0    |\n",
      "|     Michele Pirro     |   0    |\n",
      "+-----------------------+--------+\n",
      "Escolha uma opção:\n",
      "1. Visualizar o ranking dos pilotos\n",
      "2. Visulizar o ranking das equipas\n",
      "3. Visuaizar o resultado das corridas\n",
      "4. Visualizar o Top 3\n",
      "5. Sair\n"
     ]
    },
    {
     "name": "stdin",
     "output_type": "stream",
     "text": [
      " 5\n"
     ]
    },
    {
     "name": "stdout",
     "output_type": "stream",
     "text": [
      "Bem vindo ao gerador de GP!\n",
      "Escollha uma opção:\n",
      "1. Crie o seu GP\n",
      "2. GP Completo\n",
      "3. Sair\n"
     ]
    },
    {
     "name": "stdin",
     "output_type": "stream",
     "text": [
      " 1\n"
     ]
    },
    {
     "name": "stdout",
     "output_type": "stream",
     "text": [
      "Selecione as pistas onde deseja realizar o campeonato e, de seguida, dê inicio ao GP escolhendo o nº20\n",
      "1. Circuit Ricardo Tormo,Espanha,4005\n",
      "2. Sepang International Circuit,Malasia,5543\n",
      "3. Phillip Island,Australia,4448\n",
      "4. Chang International Circuit,Tailandia,4554\n",
      "5. Mobility Resort Motegi,Japao,4801\n",
      "6. MotorLand Aragon,Espanha,5077\n",
      "7. Misano World Circuit Marco Simoncelli,San Marino,4226\n",
      "8. Red Bull Ring - Spielberg,Austria,4348\n",
      "9. Silverstone Circuit,Reino Unido,5900\n",
      "10. TT Circuit Assen,Holanda,4542\n",
      "11. Sachsenring,Alemanha,3671\n",
      "12. Circuit de Barcelona-Catalunya,Espanha,4657\n",
      "13. Autodromo Internazionale del Mugello,Italia,5245\n",
      "14. Le Mans,Franca,4185\n",
      "15. Circuito de Jerez - Angel Nieto,Espanha,4423\n",
      "16. Autodromo Internacional do Algarve,Portugal,4592\n",
      "17. Circuit Of The Americas,Estados Unidos da America,5513\n",
      "18. Termas de Rio Hondo,Argentina,4806\n",
      "19. Inicar GP\n",
      "20. Retroceder\n"
     ]
    },
    {
     "name": "stdin",
     "output_type": "stream",
     "text": [
      " 2\n"
     ]
    },
    {
     "name": "stdout",
     "output_type": "stream",
     "text": [
      "Selecione as pistas onde deseja realizar o campeonato e, de seguida, dê inicio ao GP escolhendo o nº20\n",
      "1. Circuit Ricardo Tormo,Espanha,4005\n",
      "2. Phillip Island,Australia,4448\n",
      "3. Chang International Circuit,Tailandia,4554\n",
      "4. Mobility Resort Motegi,Japao,4801\n",
      "5. MotorLand Aragon,Espanha,5077\n",
      "6. Misano World Circuit Marco Simoncelli,San Marino,4226\n",
      "7. Red Bull Ring - Spielberg,Austria,4348\n",
      "8. Silverstone Circuit,Reino Unido,5900\n",
      "9. TT Circuit Assen,Holanda,4542\n",
      "10. Sachsenring,Alemanha,3671\n",
      "11. Circuit de Barcelona-Catalunya,Espanha,4657\n",
      "12. Autodromo Internazionale del Mugello,Italia,5245\n",
      "13. Le Mans,Franca,4185\n",
      "14. Circuito de Jerez - Angel Nieto,Espanha,4423\n",
      "15. Autodromo Internacional do Algarve,Portugal,4592\n",
      "16. Circuit Of The Americas,Estados Unidos da America,5513\n",
      "17. Termas de Rio Hondo,Argentina,4806\n",
      "18. Inicar GP\n",
      "19. Retroceder\n"
     ]
    },
    {
     "name": "stdin",
     "output_type": "stream",
     "text": [
      " 18\n"
     ]
    },
    {
     "name": "stdout",
     "output_type": "stream",
     "text": [
      "Escolha uma opção:\n",
      "1. Visualizar o ranking dos pilotos\n",
      "2. Visulizar o ranking das equipas\n",
      "3. Visuaizar o resultado das corridas\n",
      "4. Visualizar o Top 3\n",
      "5. Sair\n"
     ]
    },
    {
     "name": "stdin",
     "output_type": "stream",
     "text": [
      " 1\n"
     ]
    },
    {
     "name": "stdout",
     "output_type": "stream",
     "text": [
      "Ranking dos pilotos:\n",
      "+-----------------------+--------+\n",
      "|        Piloto         | Pontos |\n",
      "+-----------------------+--------+\n",
      "|    Kazuki Watanabe    |   47   |\n",
      "|    Raul Fernandez     |   37   |\n",
      "|     Stefan Bradl      |   37   |\n",
      "|   Francesco Bagnaia   |   30   |\n",
      "|    Miguel Oliveira    |   30   |\n",
      "|    Marco Bezzecchi    |   30   |\n",
      "|       Alex Rins       |   27   |\n",
      "|   Franco Morbidelli   |   18   |\n",
      "|   Maverick Viñales    |   15   |\n",
      "| Fabio Di Giannantonio |   13   |\n",
      "|       Joan Mir        |   11   |\n",
      "|   Takaaki Nakagami    |   11   |\n",
      "|     Darryn Binder     |   11   |\n",
      "|     Michele Pirro     |   11   |\n",
      "|      Brad Binder      |   10   |\n",
      "|     Johann Zarco      |   10   |\n",
      "|   Tetsuta Nagashima   |   9    |\n",
      "|      Luca Marini      |   8    |\n",
      "|     Pol Espargaro     |   8    |\n",
      "|   Andrea Dovizioso    |   8    |\n",
      "|     Cal Crutchlow     |   8    |\n",
      "|     Remy Gardner      |   7    |\n",
      "|    Aleix Espargaro    |   5    |\n",
      "|     Marc Marquez      |   4    |\n",
      "|   Lorenzo Savadori    |   4    |\n",
      "|      Jack Miller      |   3    |\n",
      "|     Alex Marquez      |   3    |\n",
      "|   Fabio Quartararo    |   2    |\n",
      "|    Enea Bastianini    |   0    |\n",
      "|     Jorge Martin      |   0    |\n",
      "|    Danilo Petrucci    |   0    |\n",
      "+-----------------------+--------+\n",
      "Escolha uma opção:\n",
      "1. Visualizar o ranking dos pilotos\n",
      "2. Visulizar o ranking das equipas\n",
      "3. Visuaizar o resultado das corridas\n",
      "4. Visualizar o Top 3\n",
      "5. Sair\n"
     ]
    },
    {
     "name": "stdin",
     "output_type": "stream",
     "text": [
      " 5\n"
     ]
    },
    {
     "name": "stdout",
     "output_type": "stream",
     "text": [
      "Bem vindo ao gerador de GP!\n",
      "Escollha uma opção:\n",
      "1. Crie o seu GP\n",
      "2. GP Completo\n",
      "3. Sair\n"
     ]
    },
    {
     "name": "stdin",
     "output_type": "stream",
     "text": [
      " 1\n"
     ]
    },
    {
     "name": "stdout",
     "output_type": "stream",
     "text": [
      "Selecione as pistas onde deseja realizar o campeonato e, de seguida, dê inicio ao GP escolhendo o nº20\n",
      "1. Circuit Ricardo Tormo,Espanha,4005\n",
      "2. Phillip Island,Australia,4448\n",
      "3. Chang International Circuit,Tailandia,4554\n",
      "4. Mobility Resort Motegi,Japao,4801\n",
      "5. MotorLand Aragon,Espanha,5077\n",
      "6. Misano World Circuit Marco Simoncelli,San Marino,4226\n",
      "7. Red Bull Ring - Spielberg,Austria,4348\n",
      "8. Silverstone Circuit,Reino Unido,5900\n",
      "9. TT Circuit Assen,Holanda,4542\n",
      "10. Sachsenring,Alemanha,3671\n",
      "11. Circuit de Barcelona-Catalunya,Espanha,4657\n",
      "12. Autodromo Internazionale del Mugello,Italia,5245\n",
      "13. Le Mans,Franca,4185\n",
      "14. Circuito de Jerez - Angel Nieto,Espanha,4423\n",
      "15. Autodromo Internacional do Algarve,Portugal,4592\n",
      "16. Circuit Of The Americas,Estados Unidos da America,5513\n",
      "17. Termas de Rio Hondo,Argentina,4806\n",
      "18. Inicar GP\n",
      "19. Retroceder\n"
     ]
    },
    {
     "name": "stdin",
     "output_type": "stream",
     "text": [
      " 17\n"
     ]
    },
    {
     "name": "stdout",
     "output_type": "stream",
     "text": [
      "Selecione as pistas onde deseja realizar o campeonato e, de seguida, dê inicio ao GP escolhendo o nº20\n",
      "1. Circuit Ricardo Tormo,Espanha,4005\n",
      "2. Phillip Island,Australia,4448\n",
      "3. Chang International Circuit,Tailandia,4554\n",
      "4. Mobility Resort Motegi,Japao,4801\n",
      "5. MotorLand Aragon,Espanha,5077\n",
      "6. Misano World Circuit Marco Simoncelli,San Marino,4226\n",
      "7. Red Bull Ring - Spielberg,Austria,4348\n",
      "8. Silverstone Circuit,Reino Unido,5900\n",
      "9. TT Circuit Assen,Holanda,4542\n",
      "10. Sachsenring,Alemanha,3671\n",
      "11. Circuit de Barcelona-Catalunya,Espanha,4657\n",
      "12. Autodromo Internazionale del Mugello,Italia,5245\n",
      "13. Le Mans,Franca,4185\n",
      "14. Circuito de Jerez - Angel Nieto,Espanha,4423\n",
      "15. Autodromo Internacional do Algarve,Portugal,4592\n",
      "16. Circuit Of The Americas,Estados Unidos da America,5513\n",
      "17. Inicar GP\n",
      "18. Retroceder\n"
     ]
    },
    {
     "name": "stdin",
     "output_type": "stream",
     "text": [
      " 17\n"
     ]
    },
    {
     "name": "stdout",
     "output_type": "stream",
     "text": [
      "Escolha uma opção:\n",
      "1. Visualizar o ranking dos pilotos\n",
      "2. Visulizar o ranking das equipas\n",
      "3. Visuaizar o resultado das corridas\n",
      "4. Visualizar o Top 3\n",
      "5. Sair\n"
     ]
    },
    {
     "name": "stdin",
     "output_type": "stream",
     "text": [
      " 5\n"
     ]
    },
    {
     "name": "stdout",
     "output_type": "stream",
     "text": [
      "Bem vindo ao gerador de GP!\n",
      "Escollha uma opção:\n",
      "1. Crie o seu GP\n",
      "2. GP Completo\n",
      "3. Sair\n"
     ]
    },
    {
     "name": "stdin",
     "output_type": "stream",
     "text": [
      " 1\n"
     ]
    },
    {
     "name": "stdout",
     "output_type": "stream",
     "text": [
      "Selecione as pistas onde deseja realizar o campeonato e, de seguida, dê inicio ao GP escolhendo o nº20\n",
      "1. Circuit Ricardo Tormo,Espanha,4005\n",
      "2. Phillip Island,Australia,4448\n",
      "3. Chang International Circuit,Tailandia,4554\n",
      "4. Mobility Resort Motegi,Japao,4801\n",
      "5. MotorLand Aragon,Espanha,5077\n",
      "6. Misano World Circuit Marco Simoncelli,San Marino,4226\n",
      "7. Red Bull Ring - Spielberg,Austria,4348\n",
      "8. Silverstone Circuit,Reino Unido,5900\n",
      "9. TT Circuit Assen,Holanda,4542\n",
      "10. Sachsenring,Alemanha,3671\n",
      "11. Circuit de Barcelona-Catalunya,Espanha,4657\n",
      "12. Autodromo Internazionale del Mugello,Italia,5245\n",
      "13. Le Mans,Franca,4185\n",
      "14. Circuito de Jerez - Angel Nieto,Espanha,4423\n",
      "15. Autodromo Internacional do Algarve,Portugal,4592\n",
      "16. Circuit Of The Americas,Estados Unidos da America,5513\n",
      "17. Inicar GP\n",
      "18. Retroceder\n"
     ]
    },
    {
     "name": "stdin",
     "output_type": "stream",
     "text": [
      " 16\n"
     ]
    },
    {
     "name": "stdout",
     "output_type": "stream",
     "text": [
      "Selecione as pistas onde deseja realizar o campeonato e, de seguida, dê inicio ao GP escolhendo o nº20\n",
      "1. Circuit Ricardo Tormo,Espanha,4005\n",
      "2. Phillip Island,Australia,4448\n",
      "3. Chang International Circuit,Tailandia,4554\n",
      "4. Mobility Resort Motegi,Japao,4801\n",
      "5. MotorLand Aragon,Espanha,5077\n",
      "6. Misano World Circuit Marco Simoncelli,San Marino,4226\n",
      "7. Red Bull Ring - Spielberg,Austria,4348\n",
      "8. Silverstone Circuit,Reino Unido,5900\n",
      "9. TT Circuit Assen,Holanda,4542\n",
      "10. Sachsenring,Alemanha,3671\n",
      "11. Circuit de Barcelona-Catalunya,Espanha,4657\n",
      "12. Autodromo Internazionale del Mugello,Italia,5245\n",
      "13. Le Mans,Franca,4185\n",
      "14. Circuito de Jerez - Angel Nieto,Espanha,4423\n",
      "15. Autodromo Internacional do Algarve,Portugal,4592\n",
      "16. Inicar GP\n",
      "17. Retroceder\n"
     ]
    }
   ],
   "source": [
    "import random\n",
    "from tabulate import tabulate\n",
    "from PIL import Image\n",
    "\n",
    "class RacingChampionship:\n",
    "    def __init__(self):\n",
    "        self.custom = False\n",
    "        self.drivers = open(\"Pilotos_2022.txt\", \"r\", encoding=\"utf-8\").read().splitlines()\n",
    "        self.tracks = open(\"Circuito_2022.txt\", \"r\", encoding=\"utf-8\").read().splitlines()\n",
    "        self.points = [25, 20, 15, 13, 11, 10, 9, 8, 7, 6, 5, 4, 3, 2, 1]\n",
    "        self.chosen_tracks = []\n",
    "        self.driver_standings = dict()\n",
    "        self.team_standings = dict()\n",
    "        self.races = []\n",
    "        self.main_menu()\n",
    "\n",
    "    def main_menu(self):\n",
    "        while True:\n",
    "            print(\"Bem vindo ao gerador de GP!\")\n",
    "            print(\"Escollha uma opção:\")\n",
    "            print(\"1. Crie o seu GP\")\n",
    "            print(\"2. GP Completo\")\n",
    "            print(\"3. Sair\")\n",
    "            choice = input()\n",
    "            if choice == \"1\":\n",
    "                self.custom = True\n",
    "                self.get_tracks()\n",
    "                self.race()\n",
    "            elif choice == \"2\":\n",
    "                self.custom = False\n",
    "                self.get_tracks()\n",
    "                self.race()\n",
    "            elif choice == \"3\":\n",
    "                if choice == \"3\":\n",
    "                    self.show_image()\n",
    "                    break\n",
    "            else:\n",
    "                print(\"Input inválido, por favor tente novamente.\")\n",
    "\n",
    "    def show_image(self):\n",
    "        image = Image.open(\"Moto_Gp_logo.png\")\n",
    "        image.show()\n",
    "\n",
    "    def get_tracks(self):\n",
    "        if self.custom:\n",
    "            self.select_tracks()\n",
    "        else:\n",
    "            self.choose_tracks()\n",
    "\n",
    "    def select_tracks(self):\n",
    "        while True:\n",
    "            print(\"Selecione as pistas onde deseja realizar o campeonato e, de seguida, dê inicio ao GP escolhendo o nº20\")\n",
    "            for i, track in enumerate(self.tracks, start=1):\n",
    "                print(f\"{i}. {track}\")\n",
    "            print(f\"{len(self.tracks)+1}. Inicar GP\")\n",
    "            print(f\"{len(self.tracks)+2}. Retroceder\")\n",
    "            choice = input()\n",
    "            if choice.isdigit() and int(choice) <= len(self.tracks):\n",
    "                self.chosen_tracks.append(self.tracks[int(choice)-1])\n",
    "                self.tracks.remove(self.tracks[int(choice)-1])\n",
    "            elif choice == str(len(self.tracks)+1):\n",
    "                break\n",
    "            elif choice == str(len(self.tracks)+2):\n",
    "                self.main_menu()\n",
    "                break\n",
    "            else:\n",
    "                print(\"Input inválido, por favor tente novamente.\")\n",
    "\n",
    "    def choose_tracks(self):\n",
    "        for i in range(len(self.tracks)):\n",
    "            track = random.choice(self.tracks)\n",
    "            self.tracks.remove(track)\n",
    "            self.chosen_tracks.append(track)\n",
    "\n",
    "    def driver_standings_func(self):\n",
    "        for driver in self.drivers:\n",
    "            driver_attributes = driver.split(\",\")\n",
    "            self.driver_standings[driver_attributes[1]] = 0\n",
    "            self.team_standings[driver_attributes[3]] = 0\n",
    "\n",
    "    def race(self):\n",
    "        self.driver_standings_func()\n",
    "        for track in self.chosen_tracks:\n",
    "            driver_positions = []\n",
    "            drivers_copy = self.drivers.copy()\n",
    "            for i in range(len(self.drivers)):\n",
    "                driver = random.choice(drivers_copy)\n",
    "                drivers_copy.remove(driver)\n",
    "                driver_positions.append(driver)\n",
    "            self.points_func(driver_positions)\n",
    "            self.races.append([track, driver_positions])\n",
    "        self.view_results()\n",
    "\n",
    "    def points_func(self, driver_positions):\n",
    "        for i, driver in enumerate(driver_positions):\n",
    "            driver_attributes = driver.split(\",\")\n",
    "            driver_name = driver_attributes[1]\n",
    "            team_name = driver_attributes[3]\n",
    "            if i < len(self.points):\n",
    "                self.driver_standings[driver_name] += self.points[i]\n",
    "                self.team_standings[team_name] += self.points[i]\n",
    "\n",
    "    def view_results(self):\n",
    "        while True:\n",
    "            print(\"Escolha uma opção:\")\n",
    "            print(\"1. Visualizar o ranking dos pilotos\")\n",
    "            print(\"2. Visulizar o ranking das equipas\")\n",
    "            print(\"3. Visuaizar o resultado das corridas\")\n",
    "            print(\"4. Visualizar o Top 3\")\n",
    "            print(\"5. Sair\")\n",
    "            choice = input()\n",
    "            if choice == \"1\":\n",
    "                print(\"Ranking dos pilotos:\")\n",
    "                sorted_standings = sorted(self.driver_standings.items(), key=lambda x: x[1], reverse=True)\n",
    "                print(tabulate(sorted_standings, headers=[\"Piloto\", \"Pontos\"], tablefmt=\"pretty\", stralign=\"center\", numalign=\"center\"))\n",
    "            elif choice == \"2\":\n",
    "                print(\"Ranking das equipas:\")\n",
    "                sorted_standings = sorted(self.team_standings.items(), key=lambda x: x[1], reverse=True)\n",
    "                print(tabulate(sorted_standings, headers=[\"Equipa\", \"Pontos\"], tablefmt=\"pretty\", stralign=\"center\", numalign=\"center\")) \n",
    "            elif choice == \"3\":\n",
    "                self.view_races()\n",
    "            elif choice == \"4\":\n",
    "                self.podium()\n",
    "            elif choice == \"5\":\n",
    "                break\n",
    "            else:\n",
    "                print(\"Input inválido, por favor tente novamente.\")\n",
    "\n",
    "    def view_races(self):\n",
    "        while True:\n",
    "            print(\"Selecione uma corrida para visualizar os resultados:\")\n",
    "            for i, (track, results) in enumerate(self.races, start=1):\n",
    "                print(f\"{i}. {track}\")\n",
    "            print(f\"{len(self.races)+1}. Retroceder\")\n",
    "            choice = input()\n",
    "            if choice.isdigit() and int(choice) <= len(self.races):\n",
    "                print(f\"{self.races[int(choice)-1][0]}:\")\n",
    "                table_headers = [\"Posição\", \"Piloto\"]\n",
    "                table_data = []\n",
    "                for i, driver in enumerate(self.races[int(choice)-1][1], start=1):\n",
    "                    table_data.append([i, driver])\n",
    "                print(tabulate(table_data, headers=table_headers, tablefmt=\"fancy_grid\"))\n",
    "                print(\"\\n\")\n",
    "            elif choice == str(len(self.races)+1):\n",
    "                break\n",
    "            else:\n",
    "                print(\"Input inválido, por favor tente novamente.\")\n",
    "\n",
    "    def podium(self):\n",
    "        sorted_standings = dict(sorted(self.driver_standings.items(), key=lambda item: item[1], reverse=True))\n",
    "        print(\"Pódio:\")\n",
    "        print(\"1º Lugar: \" + list(sorted_standings.keys())[0] + \" com \" + str(list(sorted_standings.values())[0]) + \" pontos.\")\n",
    "        print(\"2º Lugar: \" + list(sorted_standings.keys())[1] + \" com \" + str(list(sorted_standings.values())[1]) + \" pontos.\")\n",
    "        print(\"3º Lugar: \" + list(sorted_standings.keys())[2] + \" com \" + str(list(sorted_standings.values())[2]) + \" pontos.\")\n",
    "\n",
    "RacingChampionship()\n"
   ]
  },
  {
   "cell_type": "code",
   "execution_count": null,
   "id": "374de059",
   "metadata": {},
   "outputs": [],
   "source": []
  }
 ],
 "metadata": {
  "kernelspec": {
   "display_name": "Python 3 (ipykernel)",
   "language": "python",
   "name": "python3"
  },
  "language_info": {
   "codemirror_mode": {
    "name": "ipython",
    "version": 3
   },
   "file_extension": ".py",
   "mimetype": "text/x-python",
   "name": "python",
   "nbconvert_exporter": "python",
   "pygments_lexer": "ipython3",
   "version": "3.9.13"
  }
 },
 "nbformat": 4,
 "nbformat_minor": 5
}
