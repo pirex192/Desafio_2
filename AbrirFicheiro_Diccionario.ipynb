{
 "cells": [
  {
   "cell_type": "code",
   "execution_count": null,
   "id": "db99707d-59bd-44e4-a893-013f9bc83857",
   "metadata": {},
   "outputs": [],
   "source": [
    "fonte = open(\"../../jupyter/Desafio_2/Pilotos_2022.txt\",'r')\n",
    "pilotos = {}\n",
    "#linha = []\n",
    "for x in fonte:\n",
    "#for linha in fonte:\n",
    "#    numero, pais, piloto = linha.strip().split(',')\n",
    "    piloto = x.strip().split(',')\n",
    "    pilotos[piloto[1]] = [piloto[0], piloto[2], piloto[3], piloto[4]]\n",
    "print(pilotos)\n",
    "fonte.close()\n"
   ]
  }
 ],
 "metadata": {
  "kernelspec": {
   "display_name": "Python 3 (ipykernel)",
   "language": "python",
   "name": "python3"
  },
  "language_info": {
   "codemirror_mode": {
    "name": "ipython",
    "version": 3
   },
   "file_extension": ".py",
   "mimetype": "text/x-python",
   "name": "python",
   "nbconvert_exporter": "python",
   "pygments_lexer": "ipython3",
   "version": "3.9.13"
  }
 },
 "nbformat": 4,
 "nbformat_minor": 5
}
