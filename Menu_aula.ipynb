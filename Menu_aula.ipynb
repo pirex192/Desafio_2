{
 "cells": [
  {
   "cell_type": "code",
   "execution_count": 1,
   "id": "e3f9623e-3b46-43ff-8362-768f31bdbcd7",
   "metadata": {},
   "outputs": [
    {
     "name": "stdout",
     "output_type": "stream",
     "text": [
      "\n",
      " 1 Pilotos \n",
      "\n",
      "\n",
      " 2 Grande Premio \n",
      "\n",
      "\n",
      " 3 Campeonato \n",
      "\n",
      "\n",
      " 4 Exit \n",
      "\n"
     ]
    },
    {
     "name": "stdin",
     "output_type": "stream",
     "text": [
      "Escolha um valor do menu: \n",
      " 1\n"
     ]
    },
    {
     "name": "stdout",
     "output_type": "stream",
     "text": [
      "\n",
      " 1 Listar pilotos \n",
      "\n",
      "\n",
      " 2 Menu anterior \n",
      "\n",
      "\n",
      " 3 Exit \n",
      "\n"
     ]
    },
    {
     "name": "stdin",
     "output_type": "stream",
     "text": [
      "Escolha um valor do menu: \n",
      " 1\n"
     ]
    },
    {
     "name": "stdout",
     "output_type": "stream",
     "text": [
      "\n",
      " Nome                   Número  País   Equipa                         Mota \n",
      "\n",
      "Francesco Bagnaia         63    IT    Ducati Lenovo Team             Ducati\n",
      "Fabio Quartararo          20    FR    Monster Energy Yamaha MotoGP   Yamaha\n",
      "Enea Bastianini           23    IT    Gresini Racing MotoGP          Ducati\n",
      "Aleix Espargaro           41    ES    Aprilia Racing                 Aprilia\n",
      "Jack Miller               43    AU    Ducati Lenovo Team             Ducati\n",
      "Brad Binder               33    ZA    Red Bull KTM Factory Racing    KTM\n",
      "Alex Rins                 42    ES    Team SUZUKI ECSTAR             Suzuki\n",
      "Johann Zarco              5     FR    Prima Pramac Racing            Ducati\n",
      "Jorge Martin              89    ES    Prima Pramac Racing            Ducati\n",
      "Miguel Oliveira           88    PT    Red Bull KTM Factory Racing    KTM\n",
      "Maverick ViÃ±ales         12    ES    Aprilia Racing                 Aprilia\n",
      "Luca Marini               10    IT    Mooney VR46 Racing Team        Ducati\n",
      "Marc Marquez              93    ES    Repsol Honda Team              Honda\n",
      "Marco Bezzecchi           72    IT    Mooney VR46 Racing Team        Ducati\n",
      "Joan Mir                  36    ES    Team SUZUKI ECSTAR             Suzuki\n",
      "Pol Espargaro             44    ES    Repsol Honda Team              Honda\n",
      "Alex Marquez              73    ES    LCR Honda CASTROL              Honda\n",
      "Takaaki Nakagami          30    JP    LCR Honda IDEMITSU             Honda\n",
      "Franco Morbidelli         21    IT    Monster Energy Yamaha MotoGP   Yamaha\n",
      "Fabio Di Giannantonio     49    IT    Gresini Racing MotoGP          Ducati\n",
      "Andrea Dovizioso          4     IT    WithU Yamaha RNF MotoGP Team   Yamaha\n",
      "Raul Fernandez            25    ES    Tech3 KTM Factory Racing       KTM\n",
      "Remy Gardner              87    AU    Tech3 KTM Factory Racing       KTM\n",
      "Darryn Binder             40    ZA    WithU Yamaha RNF MotoGP Team   Yamaha\n",
      "Cal Crutchlow             35    GB    WithU Yamaha RNF MotoGP Team   Yamaha\n",
      "Stefan Bradl              6     DE    Repsol Honda Team              Honda\n",
      "Michele Pirro             51    IT    Aruba.it Racing                Ducati\n",
      "Lorenzo Savadori          32    IT    Aprilia Racing                 Aprilia\n",
      "Tetsuta Nagashima         45    JP    LCR Honda IDEMITSU             Honda\n",
      "Danilo Petrucci           9     IT    Team SUZUKI ECSTAR             Suzuki\n",
      "Kazuki Watanabe           92    JP    Team SUZUKI ECSTAR             Suzuki\n",
      "\n",
      " \n",
      "\n",
      "\n",
      " 1 Menu anterior \n",
      "\n",
      "\n",
      " 2 Exit \n",
      "\n"
     ]
    },
    {
     "name": "stdin",
     "output_type": "stream",
     "text": [
      "Escolha um valor do menu: \n",
      " 1\n"
     ]
    },
    {
     "name": "stdout",
     "output_type": "stream",
     "text": [
      "\n",
      " 1 Pilotos \n",
      "\n",
      "\n",
      " 2 Grande Premio \n",
      "\n",
      "\n",
      " 3 Campeonato \n",
      "\n",
      "\n",
      " 4 Exit \n",
      "\n"
     ]
    },
    {
     "name": "stdin",
     "output_type": "stream",
     "text": [
      "Escolha um valor do menu: \n",
      " 1\n"
     ]
    },
    {
     "name": "stdout",
     "output_type": "stream",
     "text": [
      "\n",
      " 1 Listar pilotos \n",
      "\n",
      "\n",
      " 2 Menu anterior \n",
      "\n",
      "\n",
      " 3 Exit \n",
      "\n"
     ]
    },
    {
     "name": "stdin",
     "output_type": "stream",
     "text": [
      "Escolha um valor do menu: \n",
      " 3\n"
     ]
    },
    {
     "name": "stdout",
     "output_type": "stream",
     "text": [
      "Goodbye\n"
     ]
    },
    {
     "ename": "SystemExit",
     "evalue": "",
     "output_type": "error",
     "traceback": [
      "An exception has occurred, use %tb to see the full traceback.\n",
      "\u001b[1;31mSystemExit\u001b[0m\n"
     ]
    },
    {
     "name": "stderr",
     "output_type": "stream",
     "text": [
      "C:\\ProgramData\\Anaconda3\\lib\\site-packages\\IPython\\core\\interactiveshell.py:3465: UserWarning: To exit: use 'exit', 'quit', or Ctrl-D.\n",
      "  warn(\"To exit: use 'exit', 'quit', or Ctrl-D.\", stacklevel=1)\n"
     ]
    }
   ],
   "source": [
    "import random\n",
    "import re\n",
    "import sys\n",
    "from os import system\n",
    "\n",
    "fonte_pilotos = open(\"../../jupyter/Desafio_2/Pilotos_2022.txt\",'r')\n",
    "fonte_circuitos = open(\"../../jupyter/Desafio_2/Circuito_2022.txt\",'r')\n",
    "fonte_pontos = open(\"../../jupyter/Desafio_2/Pontos_2022.txt\",'r')\n",
    "\n",
    "pilotos = {} # dicionário de pilotos. Recebe o ficheiro de pilotos\n",
    "circuitos = {} # dicionário de circuitos. Recebe o ficheiro de circuitos\n",
    "pontos = {} # dicionário de pontos. Recebe o ficheiro de pontos\n",
    "lista_menu = ['Pilotos', 'Grande Premio', 'Campeonato', 'Exit'] # valores da lista inicial do menu\n",
    "resultados_gp = {} # variável que acumula os resultados de cada GP. É um dicionário. As chaves não se repetem mas poddem ser actualizadas.\n",
    "flag = 0 # variável que permite a escolha da função no Menu. É invocado como parâmetro na função Menu()\n",
    "\n",
    "for x in fonte_pilotos:#importa o ficheiro de pilotos\n",
    "    numero, nome, pais, equipa, mota = x.strip().split(',')\n",
    "    pilotos[nome] = [numero, pais, equipa, mota, []]\n",
    "fonte_pilotos.close()\n",
    "\n",
    "for c in fonte_circuitos:#importa o ficheiro de circuitos\n",
    "    nome, país, distancia = c.strip().split(',')\n",
    "    circuitos[nome] = [país, distancia]\n",
    "fonte_circuitos.close()\n",
    "\n",
    "for p in fonte_pontos:#importa o ficheiro de pontos\n",
    "    ponto = p.strip().split(',')\n",
    "    pontos[ponto[0]] = ponto[1]\n",
    "fonte_pontos.close()\n",
    "\n",
    "def display_menu(menu_items):#executa o display, mostra na consola ou ecrân o Menu\n",
    "    for x in menu_items:\n",
    "        print('\\n', x, menu_items.get(x), '\\n')\n",
    "\n",
    "def Pilotos():#apresenta no menu listar pilotos, ...\n",
    "    lista_menu = ['Listar pilotos', 'Menu anterior', 'Exit']    \n",
    "    Menu(lista_menu, 0)    \n",
    "    input(\"Press Enter to Continue\\n\")\n",
    "    system('cls')\n",
    "\n",
    "\n",
    "def GrandePremio():\n",
    "    lista_menu = ['Menu anterior', 'Exit']    \n",
    "    Menu(lista_menu, 0)\n",
    "    input(\"Press Enter to Continue\\n\")\n",
    "    system('cls')\n",
    "\n",
    "\n",
    "def Campeonato():\n",
    "    lista_menu = ['Menu anterior', 'Classsificacao por circuito', 'Exit']    \n",
    "    Menu(lista_menu, 0)\n",
    "    input(\"Press Enter to Continue\\n\")\n",
    "    system('cls')\n",
    "\n",
    "def Classsificacaoporcircuito():\n",
    "    \n",
    "    print('Olá!!!!!!!')\n",
    "    \n",
    "    lista_menu = ['Menu anterior', 'Exit']    \n",
    "    Menu(lista_menu, 0)\n",
    "    input(\"Press Enter to Continue\\n\")\n",
    "    system('cls')        \n",
    "\n",
    "def Exit():  \n",
    "    system('cls')\n",
    "    print(\"Goodbye\")\n",
    "    sys.exit()\n",
    "\n",
    "def ListarPilotos():#lista os pilotos\n",
    "    print('\\n', 'Nome'.ljust(22),'Número'.ljust(7), 'País'.ljust(6), 'Equipa'.ljust(30), 'Mota','\\n')    \n",
    "    for x in pilotos:#ljust dá-me o espaçamento que pretendo\n",
    "        print(x.ljust(25), pilotos[x][0].ljust(5), pilotos[x][1].ljust(5), pilotos[x][2].ljust(30), pilotos[x][3])\n",
    "    print('\\n', '\\n')\n",
    "    lista_menu = ['Menu anterior', 'Exit'] #define qual o próximo menu   \n",
    "    Menu(lista_menu, 0)#invoca a função Menu() com a flag = 0 porque ListarPilotos é uma função do dicionário\n",
    "    input(\"Press Enter to Continue\\n\")\n",
    "    system('cls')\n",
    "\n",
    "def MenuAnterior():\n",
    "    lista_menu = ['Pilotos', 'Grande Premio', 'Campeonato', 'Exit']#define os items do menu\n",
    "    Menu(lista_menu, 0)#invoca a função Menu() com a flag = 0 porque MenuAnterior() é uma função do Menu.\n",
    "    input(\"Press Enter to Continue\\n\")\n",
    "    system('cls')\n",
    "\n",
    "def Menu(lista_menu, flag):#Construção do menu. Recebe como parâmetros a lista dos items do\n",
    "                           #menu e uma flag que me vai diser qual a função a executar.\n",
    "    menu_items = dict(enumerate(lista_menu, start=1))#a função enumerate() atribui um número a cada item de lista_menu. É um dicionário.\n",
    "    display_menu(menu_items)#invoca a função acima, display_menu(), que apresenta o menu no ecrân.\n",
    "    selection = int(input(\"Escolha um valor do menu: \\n\"))#caixa de selecção da escolha. input atribuido à variável selection\n",
    "    selected = menu_items[selection]#menu_items é um dicionário que foi enumerado. As suas keys são 1, 2, 3, 4 ... a nossa selection. Neste caso estamos a seleccionar o valor correspondente a cada chave.\n",
    "    nome_menu = {'Pilotos' : Pilotos,#este é um dicionário criado por mim que permite que o\n",
    "                 'Grande Premio' : GrandePremio,#nome apresentado nos menus seja diferente do\n",
    "                 'Campeonato' : Campeonato,#nome das funções\n",
    "                 'Exit' : Exit,\n",
    "                 'Menu anterior' : MenuAnterior,\n",
    "                 'Listar pilotos' : ListarPilotos,\n",
    "                 'Classsificacao por circuito' : Classsificacaoporcircuito\n",
    "                }\n",
    "    if flag == 0:\n",
    "        executa_funcao = nome_menu[selected]# atribui à variável executa função o valor corresppondente à chave da função existente no menu acima\n",
    "        executa_funcao()#executa a função cujo nome foi seleccionado\n",
    "    elif flag == 1:\n",
    "        Print('Uma função qualquer !')#se a flag for = 1 executa o que quiser \n",
    "    elif flag == 2:\n",
    "        Print('Uma função qualquer !')#se a flag for = 2 executa o que quiser\n",
    "    \n",
    "Menu(lista_menu,0)"
   ]
  },
  {
   "cell_type": "code",
   "execution_count": null,
   "id": "e7ac2ace-4357-4581-b8e9-018a2756101b",
   "metadata": {},
   "outputs": [],
   "source": []
  },
  {
   "cell_type": "code",
   "execution_count": null,
   "id": "1a2be48f-3770-4dd1-910b-eb71598ff672",
   "metadata": {},
   "outputs": [],
   "source": []
  }
 ],
 "metadata": {
  "kernelspec": {
   "display_name": "Python 3 (ipykernel)",
   "language": "python",
   "name": "python3"
  },
  "language_info": {
   "codemirror_mode": {
    "name": "ipython",
    "version": 3
   },
   "file_extension": ".py",
   "mimetype": "text/x-python",
   "name": "python",
   "nbconvert_exporter": "python",
   "pygments_lexer": "ipython3",
   "version": "3.9.13"
  }
 },
 "nbformat": 4,
 "nbformat_minor": 5
}
