{
 "cells": [
  {
   "cell_type": "code",
   "execution_count": 1,
   "id": "14215d72-fe05-48a7-bfc1-91bf63c25a0f",
   "metadata": {},
   "outputs": [
    {
     "name": "stdout",
     "output_type": "stream",
     "text": [
      "1 -- Option 1\n",
      "2 -- Option 2\n",
      "3 -- Option 3\n",
      "4 -- Exit\n"
     ]
    },
    {
     "name": "stdin",
     "output_type": "stream",
     "text": [
      "Enter your choice:  4\n"
     ]
    },
    {
     "name": "stdout",
     "output_type": "stream",
     "text": [
      "Thanks message before exiting\n"
     ]
    }
   ],
   "source": [
    "menu_options = {\n",
    "    1: 'Option 1',\n",
    "    2: 'Option 2',\n",
    "    3: 'Option 3',\n",
    "    4: 'Exit',\n",
    "}\n",
    "\n",
    "def print_menu():\n",
    "    for key in menu_options.keys():\n",
    "        print (key, '--', menu_options[key] )\n",
    "\n",
    "def option1():\n",
    "     print('Handle option \\'Option 1\\'')\n",
    "\n",
    "def option2():\n",
    "     print('Handle option \\'Option 2\\'')\n",
    "\n",
    "def option3():\n",
    "     print('Handle option \\'Option 3\\'')\n",
    "\n",
    "if __name__=='__main__':\n",
    "    while(True):\n",
    "        print_menu()\n",
    "        option = ''\n",
    "        try:\n",
    "            option = int(input('Enter your choice: '))\n",
    "        except:\n",
    "            print('Wrong input. Please enter a number ...')\n",
    "        #Check what choice was entered and act accordingly\n",
    "        if option == 1:\n",
    "           option1()\n",
    "        elif option == 2:\n",
    "            option2()\n",
    "        elif option == 3:\n",
    "            option3()\n",
    "        elif option == 4:\n",
    "            print('Thanks message before exiting')\n",
    "            break\n",
    "            exit()\n",
    "        else:\n",
    "            print('Invalid option. Please enter a number between 1 and 4.')"
   ]
  },
  {
   "cell_type": "code",
   "execution_count": null,
   "id": "98b04031-f9e1-442b-b476-5dbeaf86abbf",
   "metadata": {},
   "outputs": [],
   "source": []
  }
 ],
 "metadata": {
  "kernelspec": {
   "display_name": "Python 3 (ipykernel)",
   "language": "python",
   "name": "python3"
  },
  "language_info": {
   "codemirror_mode": {
    "name": "ipython",
    "version": 3
   },
   "file_extension": ".py",
   "mimetype": "text/x-python",
   "name": "python",
   "nbconvert_exporter": "python",
   "pygments_lexer": "ipython3",
   "version": "3.9.13"
  }
 },
 "nbformat": 4,
 "nbformat_minor": 5
}
